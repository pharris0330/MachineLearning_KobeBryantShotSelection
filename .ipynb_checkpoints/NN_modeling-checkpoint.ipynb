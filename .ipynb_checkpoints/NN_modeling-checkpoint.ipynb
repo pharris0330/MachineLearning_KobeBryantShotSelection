{
 "cells": [
  {
   "cell_type": "code",
   "execution_count": 1,
   "id": "a1d93dfd-49dc-403b-9ca4-6d11a2f1e78e",
   "metadata": {},
   "outputs": [],
   "source": [
    "from sklearn.datasets import make_regression\n",
    "from sklearn.preprocessing import StandardScaler\n",
    "from sklearn.model_selection import train_test_split, GridSearchCV\n",
    "from sklearn import metrics\n",
    "\n",
    "from tensorflow.keras.models import Sequential\n",
    "from tensorflow.keras.layers import Dense, Dropout\n",
    "from tensorflow.keras.wrappers.scikit_learn import KerasRegressor"
   ]
  },
  {
   "cell_type": "code",
   "execution_count": 3,
   "id": "79d8b58c-2cf9-4267-b051-2c2912e19512",
   "metadata": {},
   "outputs": [],
   "source": [
    "import pandas as pd"
   ]
  },
  {
   "cell_type": "code",
   "execution_count": 4,
   "id": "3b03ab56-3db7-4ffb-b350-702d1f30bb7f",
   "metadata": {},
   "outputs": [],
   "source": [
    "kobe = pd.read_csv('./datasets/data.csv')"
   ]
  },
  {
   "cell_type": "code",
   "execution_count": 5,
   "id": "fc9d3cb7-701b-4074-81f4-bb514da3d13c",
   "metadata": {},
   "outputs": [
    {
     "data": {
      "text/html": [
       "<div>\n",
       "<style scoped>\n",
       "    .dataframe tbody tr th:only-of-type {\n",
       "        vertical-align: middle;\n",
       "    }\n",
       "\n",
       "    .dataframe tbody tr th {\n",
       "        vertical-align: top;\n",
       "    }\n",
       "\n",
       "    .dataframe thead th {\n",
       "        text-align: right;\n",
       "    }\n",
       "</style>\n",
       "<table border=\"1\" class=\"dataframe\">\n",
       "  <thead>\n",
       "    <tr style=\"text-align: right;\">\n",
       "      <th></th>\n",
       "      <th>action_type</th>\n",
       "      <th>combined_shot_type</th>\n",
       "      <th>game_event_id</th>\n",
       "      <th>game_id</th>\n",
       "      <th>lat</th>\n",
       "      <th>loc_x</th>\n",
       "      <th>loc_y</th>\n",
       "      <th>lon</th>\n",
       "      <th>minutes_remaining</th>\n",
       "      <th>period</th>\n",
       "      <th>...</th>\n",
       "      <th>shot_type</th>\n",
       "      <th>shot_zone_area</th>\n",
       "      <th>shot_zone_basic</th>\n",
       "      <th>shot_zone_range</th>\n",
       "      <th>team_id</th>\n",
       "      <th>team_name</th>\n",
       "      <th>game_date</th>\n",
       "      <th>matchup</th>\n",
       "      <th>opponent</th>\n",
       "      <th>shot_id</th>\n",
       "    </tr>\n",
       "  </thead>\n",
       "  <tbody>\n",
       "    <tr>\n",
       "      <th>0</th>\n",
       "      <td>Jump Shot</td>\n",
       "      <td>Jump Shot</td>\n",
       "      <td>10</td>\n",
       "      <td>20000012</td>\n",
       "      <td>33.9723</td>\n",
       "      <td>167</td>\n",
       "      <td>72</td>\n",
       "      <td>-118.1028</td>\n",
       "      <td>10</td>\n",
       "      <td>1</td>\n",
       "      <td>...</td>\n",
       "      <td>2PT Field Goal</td>\n",
       "      <td>Right Side(R)</td>\n",
       "      <td>Mid-Range</td>\n",
       "      <td>16-24 ft.</td>\n",
       "      <td>1610612747</td>\n",
       "      <td>Los Angeles Lakers</td>\n",
       "      <td>2000-10-31</td>\n",
       "      <td>LAL @ POR</td>\n",
       "      <td>POR</td>\n",
       "      <td>1</td>\n",
       "    </tr>\n",
       "    <tr>\n",
       "      <th>1</th>\n",
       "      <td>Jump Shot</td>\n",
       "      <td>Jump Shot</td>\n",
       "      <td>12</td>\n",
       "      <td>20000012</td>\n",
       "      <td>34.0443</td>\n",
       "      <td>-157</td>\n",
       "      <td>0</td>\n",
       "      <td>-118.4268</td>\n",
       "      <td>10</td>\n",
       "      <td>1</td>\n",
       "      <td>...</td>\n",
       "      <td>2PT Field Goal</td>\n",
       "      <td>Left Side(L)</td>\n",
       "      <td>Mid-Range</td>\n",
       "      <td>8-16 ft.</td>\n",
       "      <td>1610612747</td>\n",
       "      <td>Los Angeles Lakers</td>\n",
       "      <td>2000-10-31</td>\n",
       "      <td>LAL @ POR</td>\n",
       "      <td>POR</td>\n",
       "      <td>2</td>\n",
       "    </tr>\n",
       "    <tr>\n",
       "      <th>2</th>\n",
       "      <td>Jump Shot</td>\n",
       "      <td>Jump Shot</td>\n",
       "      <td>35</td>\n",
       "      <td>20000012</td>\n",
       "      <td>33.9093</td>\n",
       "      <td>-101</td>\n",
       "      <td>135</td>\n",
       "      <td>-118.3708</td>\n",
       "      <td>7</td>\n",
       "      <td>1</td>\n",
       "      <td>...</td>\n",
       "      <td>2PT Field Goal</td>\n",
       "      <td>Left Side Center(LC)</td>\n",
       "      <td>Mid-Range</td>\n",
       "      <td>16-24 ft.</td>\n",
       "      <td>1610612747</td>\n",
       "      <td>Los Angeles Lakers</td>\n",
       "      <td>2000-10-31</td>\n",
       "      <td>LAL @ POR</td>\n",
       "      <td>POR</td>\n",
       "      <td>3</td>\n",
       "    </tr>\n",
       "    <tr>\n",
       "      <th>3</th>\n",
       "      <td>Jump Shot</td>\n",
       "      <td>Jump Shot</td>\n",
       "      <td>43</td>\n",
       "      <td>20000012</td>\n",
       "      <td>33.8693</td>\n",
       "      <td>138</td>\n",
       "      <td>175</td>\n",
       "      <td>-118.1318</td>\n",
       "      <td>6</td>\n",
       "      <td>1</td>\n",
       "      <td>...</td>\n",
       "      <td>2PT Field Goal</td>\n",
       "      <td>Right Side Center(RC)</td>\n",
       "      <td>Mid-Range</td>\n",
       "      <td>16-24 ft.</td>\n",
       "      <td>1610612747</td>\n",
       "      <td>Los Angeles Lakers</td>\n",
       "      <td>2000-10-31</td>\n",
       "      <td>LAL @ POR</td>\n",
       "      <td>POR</td>\n",
       "      <td>4</td>\n",
       "    </tr>\n",
       "    <tr>\n",
       "      <th>4</th>\n",
       "      <td>Driving Dunk Shot</td>\n",
       "      <td>Dunk</td>\n",
       "      <td>155</td>\n",
       "      <td>20000012</td>\n",
       "      <td>34.0443</td>\n",
       "      <td>0</td>\n",
       "      <td>0</td>\n",
       "      <td>-118.2698</td>\n",
       "      <td>6</td>\n",
       "      <td>2</td>\n",
       "      <td>...</td>\n",
       "      <td>2PT Field Goal</td>\n",
       "      <td>Center(C)</td>\n",
       "      <td>Restricted Area</td>\n",
       "      <td>Less Than 8 ft.</td>\n",
       "      <td>1610612747</td>\n",
       "      <td>Los Angeles Lakers</td>\n",
       "      <td>2000-10-31</td>\n",
       "      <td>LAL @ POR</td>\n",
       "      <td>POR</td>\n",
       "      <td>5</td>\n",
       "    </tr>\n",
       "  </tbody>\n",
       "</table>\n",
       "<p>5 rows × 25 columns</p>\n",
       "</div>"
      ],
      "text/plain": [
       "         action_type combined_shot_type  game_event_id   game_id      lat  \\\n",
       "0          Jump Shot          Jump Shot             10  20000012  33.9723   \n",
       "1          Jump Shot          Jump Shot             12  20000012  34.0443   \n",
       "2          Jump Shot          Jump Shot             35  20000012  33.9093   \n",
       "3          Jump Shot          Jump Shot             43  20000012  33.8693   \n",
       "4  Driving Dunk Shot               Dunk            155  20000012  34.0443   \n",
       "\n",
       "   loc_x  loc_y       lon  minutes_remaining  period  ...       shot_type  \\\n",
       "0    167     72 -118.1028                 10       1  ...  2PT Field Goal   \n",
       "1   -157      0 -118.4268                 10       1  ...  2PT Field Goal   \n",
       "2   -101    135 -118.3708                  7       1  ...  2PT Field Goal   \n",
       "3    138    175 -118.1318                  6       1  ...  2PT Field Goal   \n",
       "4      0      0 -118.2698                  6       2  ...  2PT Field Goal   \n",
       "\n",
       "          shot_zone_area  shot_zone_basic  shot_zone_range     team_id  \\\n",
       "0          Right Side(R)        Mid-Range        16-24 ft.  1610612747   \n",
       "1           Left Side(L)        Mid-Range         8-16 ft.  1610612747   \n",
       "2   Left Side Center(LC)        Mid-Range        16-24 ft.  1610612747   \n",
       "3  Right Side Center(RC)        Mid-Range        16-24 ft.  1610612747   \n",
       "4              Center(C)  Restricted Area  Less Than 8 ft.  1610612747   \n",
       "\n",
       "            team_name   game_date    matchup opponent  shot_id  \n",
       "0  Los Angeles Lakers  2000-10-31  LAL @ POR      POR        1  \n",
       "1  Los Angeles Lakers  2000-10-31  LAL @ POR      POR        2  \n",
       "2  Los Angeles Lakers  2000-10-31  LAL @ POR      POR        3  \n",
       "3  Los Angeles Lakers  2000-10-31  LAL @ POR      POR        4  \n",
       "4  Los Angeles Lakers  2000-10-31  LAL @ POR      POR        5  \n",
       "\n",
       "[5 rows x 25 columns]"
      ]
     },
     "execution_count": 5,
     "metadata": {},
     "output_type": "execute_result"
    }
   ],
   "source": [
    "kobe.head(5)"
   ]
  },
  {
   "cell_type": "code",
   "execution_count": 7,
   "id": "a9f9a280-493b-4e74-bee0-9393d22f2045",
   "metadata": {},
   "outputs": [
    {
     "data": {
      "text/plain": [
       "Index(['action_type', 'combined_shot_type', 'game_event_id', 'game_id', 'lat',\n",
       "       'loc_x', 'loc_y', 'lon', 'minutes_remaining', 'period', 'playoffs',\n",
       "       'season', 'seconds_remaining', 'shot_distance', 'shot_made_flag',\n",
       "       'shot_type', 'shot_zone_area', 'shot_zone_basic', 'shot_zone_range',\n",
       "       'team_id', 'team_name', 'game_date', 'matchup', 'opponent', 'shot_id'],\n",
       "      dtype='object')"
      ]
     },
     "execution_count": 7,
     "metadata": {},
     "output_type": "execute_result"
    }
   ],
   "source": [
    "kobe.columns"
   ]
  },
  {
   "cell_type": "code",
   "execution_count": 8,
   "id": "4ef2a1b2-6071-4d4b-93f8-2b5633bab735",
   "metadata": {},
   "outputs": [
    {
     "name": "stdout",
     "output_type": "stream",
     "text": [
      "<class 'pandas.core.frame.DataFrame'>\n",
      "RangeIndex: 30697 entries, 0 to 30696\n",
      "Data columns (total 25 columns):\n",
      " #   Column              Non-Null Count  Dtype  \n",
      "---  ------              --------------  -----  \n",
      " 0   action_type         30697 non-null  object \n",
      " 1   combined_shot_type  30697 non-null  object \n",
      " 2   game_event_id       30697 non-null  int64  \n",
      " 3   game_id             30697 non-null  int64  \n",
      " 4   lat                 30697 non-null  float64\n",
      " 5   loc_x               30697 non-null  int64  \n",
      " 6   loc_y               30697 non-null  int64  \n",
      " 7   lon                 30697 non-null  float64\n",
      " 8   minutes_remaining   30697 non-null  int64  \n",
      " 9   period              30697 non-null  int64  \n",
      " 10  playoffs            30697 non-null  int64  \n",
      " 11  season              30697 non-null  object \n",
      " 12  seconds_remaining   30697 non-null  int64  \n",
      " 13  shot_distance       30697 non-null  int64  \n",
      " 14  shot_made_flag      25697 non-null  float64\n",
      " 15  shot_type           30697 non-null  object \n",
      " 16  shot_zone_area      30697 non-null  object \n",
      " 17  shot_zone_basic     30697 non-null  object \n",
      " 18  shot_zone_range     30697 non-null  object \n",
      " 19  team_id             30697 non-null  int64  \n",
      " 20  team_name           30697 non-null  object \n",
      " 21  game_date           30697 non-null  object \n",
      " 22  matchup             30697 non-null  object \n",
      " 23  opponent            30697 non-null  object \n",
      " 24  shot_id             30697 non-null  int64  \n",
      "dtypes: float64(3), int64(11), object(11)\n",
      "memory usage: 5.9+ MB\n"
     ]
    }
   ],
   "source": [
    "kobe.info()"
   ]
  },
  {
   "cell_type": "code",
   "execution_count": 76,
   "id": "8a66eb23-5424-4471-9698-3d37a00c86d7",
   "metadata": {},
   "outputs": [],
   "source": [
    "kobe_objects = kobe[['action_type','combined_shot_type','season','shot_type','shot_zone_area','shot_zone_basic','shot_zone_range','team_name','game_date',mathcup]]"
   ]
  },
  {
   "cell_type": "code",
   "execution_count": 10,
   "id": "6215e820-12de-4595-ab78-a2c65f8a2ebd",
   "metadata": {},
   "outputs": [
    {
     "data": {
      "text/plain": [
       "5000"
      ]
     },
     "execution_count": 10,
     "metadata": {},
     "output_type": "execute_result"
    }
   ],
   "source": [
    "kobe['shot_made_flag'].isnull().sum()"
   ]
  },
  {
   "cell_type": "code",
   "execution_count": 11,
   "id": "34831c50-c1b6-4932-b587-5776da800f56",
   "metadata": {},
   "outputs": [],
   "source": [
    "test = 5000/30697"
   ]
  },
  {
   "cell_type": "code",
   "execution_count": 12,
   "id": "2da057d2-5964-419d-82ed-3b8800929f11",
   "metadata": {},
   "outputs": [
    {
     "data": {
      "text/plain": [
       "0.1628823663550184"
      ]
     },
     "execution_count": 12,
     "metadata": {},
     "output_type": "execute_result"
    }
   ],
   "source": [
    "test"
   ]
  },
  {
   "cell_type": "code",
   "execution_count": 45,
   "id": "6006cb12-b701-4f33-8939-13a15adca92b",
   "metadata": {},
   "outputs": [
    {
     "data": {
      "text/html": [
       "<div>\n",
       "<style scoped>\n",
       "    .dataframe tbody tr th:only-of-type {\n",
       "        vertical-align: middle;\n",
       "    }\n",
       "\n",
       "    .dataframe tbody tr th {\n",
       "        vertical-align: top;\n",
       "    }\n",
       "\n",
       "    .dataframe thead th {\n",
       "        text-align: right;\n",
       "    }\n",
       "</style>\n",
       "<table border=\"1\" class=\"dataframe\">\n",
       "  <thead>\n",
       "    <tr style=\"text-align: right;\">\n",
       "      <th></th>\n",
       "      <th>action_type</th>\n",
       "      <th>combined_shot_type</th>\n",
       "      <th>game_event_id</th>\n",
       "      <th>game_id</th>\n",
       "      <th>lat</th>\n",
       "      <th>loc_x</th>\n",
       "      <th>loc_y</th>\n",
       "      <th>lon</th>\n",
       "      <th>minutes_remaining</th>\n",
       "      <th>period</th>\n",
       "      <th>...</th>\n",
       "      <th>shot_type</th>\n",
       "      <th>shot_zone_area</th>\n",
       "      <th>shot_zone_basic</th>\n",
       "      <th>shot_zone_range</th>\n",
       "      <th>team_id</th>\n",
       "      <th>team_name</th>\n",
       "      <th>game_date</th>\n",
       "      <th>matchup</th>\n",
       "      <th>opponent</th>\n",
       "      <th>shot_id</th>\n",
       "    </tr>\n",
       "  </thead>\n",
       "  <tbody>\n",
       "    <tr>\n",
       "      <th>0</th>\n",
       "      <td>Jump Shot</td>\n",
       "      <td>Jump Shot</td>\n",
       "      <td>10</td>\n",
       "      <td>20000012</td>\n",
       "      <td>33.9723</td>\n",
       "      <td>167</td>\n",
       "      <td>72</td>\n",
       "      <td>-118.1028</td>\n",
       "      <td>10</td>\n",
       "      <td>1</td>\n",
       "      <td>...</td>\n",
       "      <td>2PT Field Goal</td>\n",
       "      <td>Right Side(R)</td>\n",
       "      <td>Mid-Range</td>\n",
       "      <td>16-24 ft.</td>\n",
       "      <td>1610612747</td>\n",
       "      <td>Los Angeles Lakers</td>\n",
       "      <td>2000-10-31</td>\n",
       "      <td>LAL @ POR</td>\n",
       "      <td>POR</td>\n",
       "      <td>1</td>\n",
       "    </tr>\n",
       "    <tr>\n",
       "      <th>7</th>\n",
       "      <td>Jump Shot</td>\n",
       "      <td>Jump Shot</td>\n",
       "      <td>254</td>\n",
       "      <td>20000012</td>\n",
       "      <td>34.0163</td>\n",
       "      <td>1</td>\n",
       "      <td>28</td>\n",
       "      <td>-118.2688</td>\n",
       "      <td>8</td>\n",
       "      <td>3</td>\n",
       "      <td>...</td>\n",
       "      <td>2PT Field Goal</td>\n",
       "      <td>Center(C)</td>\n",
       "      <td>Restricted Area</td>\n",
       "      <td>Less Than 8 ft.</td>\n",
       "      <td>1610612747</td>\n",
       "      <td>Los Angeles Lakers</td>\n",
       "      <td>2000-10-31</td>\n",
       "      <td>LAL @ POR</td>\n",
       "      <td>POR</td>\n",
       "      <td>8</td>\n",
       "    </tr>\n",
       "    <tr>\n",
       "      <th>16</th>\n",
       "      <td>Driving Layup Shot</td>\n",
       "      <td>Layup</td>\n",
       "      <td>100</td>\n",
       "      <td>20000019</td>\n",
       "      <td>34.0443</td>\n",
       "      <td>0</td>\n",
       "      <td>0</td>\n",
       "      <td>-118.2698</td>\n",
       "      <td>0</td>\n",
       "      <td>1</td>\n",
       "      <td>...</td>\n",
       "      <td>2PT Field Goal</td>\n",
       "      <td>Center(C)</td>\n",
       "      <td>Restricted Area</td>\n",
       "      <td>Less Than 8 ft.</td>\n",
       "      <td>1610612747</td>\n",
       "      <td>Los Angeles Lakers</td>\n",
       "      <td>2000-11-01</td>\n",
       "      <td>LAL vs. UTA</td>\n",
       "      <td>UTA</td>\n",
       "      <td>17</td>\n",
       "    </tr>\n",
       "    <tr>\n",
       "      <th>19</th>\n",
       "      <td>Driving Layup Shot</td>\n",
       "      <td>Layup</td>\n",
       "      <td>249</td>\n",
       "      <td>20000019</td>\n",
       "      <td>34.0443</td>\n",
       "      <td>0</td>\n",
       "      <td>0</td>\n",
       "      <td>-118.2698</td>\n",
       "      <td>10</td>\n",
       "      <td>3</td>\n",
       "      <td>...</td>\n",
       "      <td>2PT Field Goal</td>\n",
       "      <td>Center(C)</td>\n",
       "      <td>Restricted Area</td>\n",
       "      <td>Less Than 8 ft.</td>\n",
       "      <td>1610612747</td>\n",
       "      <td>Los Angeles Lakers</td>\n",
       "      <td>2000-11-01</td>\n",
       "      <td>LAL vs. UTA</td>\n",
       "      <td>UTA</td>\n",
       "      <td>20</td>\n",
       "    </tr>\n",
       "    <tr>\n",
       "      <th>32</th>\n",
       "      <td>Jump Shot</td>\n",
       "      <td>Jump Shot</td>\n",
       "      <td>4</td>\n",
       "      <td>20000047</td>\n",
       "      <td>33.9683</td>\n",
       "      <td>163</td>\n",
       "      <td>76</td>\n",
       "      <td>-118.1068</td>\n",
       "      <td>11</td>\n",
       "      <td>1</td>\n",
       "      <td>...</td>\n",
       "      <td>2PT Field Goal</td>\n",
       "      <td>Right Side(R)</td>\n",
       "      <td>Mid-Range</td>\n",
       "      <td>16-24 ft.</td>\n",
       "      <td>1610612747</td>\n",
       "      <td>Los Angeles Lakers</td>\n",
       "      <td>2000-11-04</td>\n",
       "      <td>LAL @ VAN</td>\n",
       "      <td>VAN</td>\n",
       "      <td>33</td>\n",
       "    </tr>\n",
       "    <tr>\n",
       "      <th>...</th>\n",
       "      <td>...</td>\n",
       "      <td>...</td>\n",
       "      <td>...</td>\n",
       "      <td>...</td>\n",
       "      <td>...</td>\n",
       "      <td>...</td>\n",
       "      <td>...</td>\n",
       "      <td>...</td>\n",
       "      <td>...</td>\n",
       "      <td>...</td>\n",
       "      <td>...</td>\n",
       "      <td>...</td>\n",
       "      <td>...</td>\n",
       "      <td>...</td>\n",
       "      <td>...</td>\n",
       "      <td>...</td>\n",
       "      <td>...</td>\n",
       "      <td>...</td>\n",
       "      <td>...</td>\n",
       "      <td>...</td>\n",
       "      <td>...</td>\n",
       "    </tr>\n",
       "    <tr>\n",
       "      <th>30668</th>\n",
       "      <td>Jump Shot</td>\n",
       "      <td>Jump Shot</td>\n",
       "      <td>386</td>\n",
       "      <td>49900087</td>\n",
       "      <td>33.8223</td>\n",
       "      <td>-23</td>\n",
       "      <td>222</td>\n",
       "      <td>-118.2928</td>\n",
       "      <td>7</td>\n",
       "      <td>4</td>\n",
       "      <td>...</td>\n",
       "      <td>2PT Field Goal</td>\n",
       "      <td>Center(C)</td>\n",
       "      <td>Mid-Range</td>\n",
       "      <td>16-24 ft.</td>\n",
       "      <td>1610612747</td>\n",
       "      <td>Los Angeles Lakers</td>\n",
       "      <td>2000-06-16</td>\n",
       "      <td>LAL @ IND</td>\n",
       "      <td>IND</td>\n",
       "      <td>30669</td>\n",
       "    </tr>\n",
       "    <tr>\n",
       "      <th>30680</th>\n",
       "      <td>Tip Shot</td>\n",
       "      <td>Tip Shot</td>\n",
       "      <td>213</td>\n",
       "      <td>49900088</td>\n",
       "      <td>34.0443</td>\n",
       "      <td>0</td>\n",
       "      <td>0</td>\n",
       "      <td>-118.2698</td>\n",
       "      <td>0</td>\n",
       "      <td>2</td>\n",
       "      <td>...</td>\n",
       "      <td>2PT Field Goal</td>\n",
       "      <td>Center(C)</td>\n",
       "      <td>Restricted Area</td>\n",
       "      <td>Less Than 8 ft.</td>\n",
       "      <td>1610612747</td>\n",
       "      <td>Los Angeles Lakers</td>\n",
       "      <td>2000-06-19</td>\n",
       "      <td>LAL vs. IND</td>\n",
       "      <td>IND</td>\n",
       "      <td>30681</td>\n",
       "    </tr>\n",
       "    <tr>\n",
       "      <th>30682</th>\n",
       "      <td>Running Jump Shot</td>\n",
       "      <td>Jump Shot</td>\n",
       "      <td>226</td>\n",
       "      <td>49900088</td>\n",
       "      <td>33.9963</td>\n",
       "      <td>-68</td>\n",
       "      <td>48</td>\n",
       "      <td>-118.3378</td>\n",
       "      <td>11</td>\n",
       "      <td>3</td>\n",
       "      <td>...</td>\n",
       "      <td>2PT Field Goal</td>\n",
       "      <td>Left Side(L)</td>\n",
       "      <td>In The Paint (Non-RA)</td>\n",
       "      <td>8-16 ft.</td>\n",
       "      <td>1610612747</td>\n",
       "      <td>Los Angeles Lakers</td>\n",
       "      <td>2000-06-19</td>\n",
       "      <td>LAL vs. IND</td>\n",
       "      <td>IND</td>\n",
       "      <td>30683</td>\n",
       "    </tr>\n",
       "    <tr>\n",
       "      <th>30686</th>\n",
       "      <td>Running Jump Shot</td>\n",
       "      <td>Jump Shot</td>\n",
       "      <td>268</td>\n",
       "      <td>49900088</td>\n",
       "      <td>33.9513</td>\n",
       "      <td>16</td>\n",
       "      <td>93</td>\n",
       "      <td>-118.2538</td>\n",
       "      <td>5</td>\n",
       "      <td>3</td>\n",
       "      <td>...</td>\n",
       "      <td>2PT Field Goal</td>\n",
       "      <td>Center(C)</td>\n",
       "      <td>In The Paint (Non-RA)</td>\n",
       "      <td>8-16 ft.</td>\n",
       "      <td>1610612747</td>\n",
       "      <td>Los Angeles Lakers</td>\n",
       "      <td>2000-06-19</td>\n",
       "      <td>LAL vs. IND</td>\n",
       "      <td>IND</td>\n",
       "      <td>30687</td>\n",
       "    </tr>\n",
       "    <tr>\n",
       "      <th>30693</th>\n",
       "      <td>Tip Shot</td>\n",
       "      <td>Tip Shot</td>\n",
       "      <td>398</td>\n",
       "      <td>49900088</td>\n",
       "      <td>34.0443</td>\n",
       "      <td>0</td>\n",
       "      <td>0</td>\n",
       "      <td>-118.2698</td>\n",
       "      <td>6</td>\n",
       "      <td>4</td>\n",
       "      <td>...</td>\n",
       "      <td>2PT Field Goal</td>\n",
       "      <td>Center(C)</td>\n",
       "      <td>Restricted Area</td>\n",
       "      <td>Less Than 8 ft.</td>\n",
       "      <td>1610612747</td>\n",
       "      <td>Los Angeles Lakers</td>\n",
       "      <td>2000-06-19</td>\n",
       "      <td>LAL vs. IND</td>\n",
       "      <td>IND</td>\n",
       "      <td>30694</td>\n",
       "    </tr>\n",
       "  </tbody>\n",
       "</table>\n",
       "<p>5000 rows × 25 columns</p>\n",
       "</div>"
      ],
      "text/plain": [
       "              action_type combined_shot_type  game_event_id   game_id  \\\n",
       "0               Jump Shot          Jump Shot             10  20000012   \n",
       "7               Jump Shot          Jump Shot            254  20000012   \n",
       "16     Driving Layup Shot              Layup            100  20000019   \n",
       "19     Driving Layup Shot              Layup            249  20000019   \n",
       "32              Jump Shot          Jump Shot              4  20000047   \n",
       "...                   ...                ...            ...       ...   \n",
       "30668           Jump Shot          Jump Shot            386  49900087   \n",
       "30680            Tip Shot           Tip Shot            213  49900088   \n",
       "30682   Running Jump Shot          Jump Shot            226  49900088   \n",
       "30686   Running Jump Shot          Jump Shot            268  49900088   \n",
       "30693            Tip Shot           Tip Shot            398  49900088   \n",
       "\n",
       "           lat  loc_x  loc_y       lon  minutes_remaining  period  ...  \\\n",
       "0      33.9723    167     72 -118.1028                 10       1  ...   \n",
       "7      34.0163      1     28 -118.2688                  8       3  ...   \n",
       "16     34.0443      0      0 -118.2698                  0       1  ...   \n",
       "19     34.0443      0      0 -118.2698                 10       3  ...   \n",
       "32     33.9683    163     76 -118.1068                 11       1  ...   \n",
       "...        ...    ...    ...       ...                ...     ...  ...   \n",
       "30668  33.8223    -23    222 -118.2928                  7       4  ...   \n",
       "30680  34.0443      0      0 -118.2698                  0       2  ...   \n",
       "30682  33.9963    -68     48 -118.3378                 11       3  ...   \n",
       "30686  33.9513     16     93 -118.2538                  5       3  ...   \n",
       "30693  34.0443      0      0 -118.2698                  6       4  ...   \n",
       "\n",
       "            shot_type shot_zone_area        shot_zone_basic  shot_zone_range  \\\n",
       "0      2PT Field Goal  Right Side(R)              Mid-Range        16-24 ft.   \n",
       "7      2PT Field Goal      Center(C)        Restricted Area  Less Than 8 ft.   \n",
       "16     2PT Field Goal      Center(C)        Restricted Area  Less Than 8 ft.   \n",
       "19     2PT Field Goal      Center(C)        Restricted Area  Less Than 8 ft.   \n",
       "32     2PT Field Goal  Right Side(R)              Mid-Range        16-24 ft.   \n",
       "...               ...            ...                    ...              ...   \n",
       "30668  2PT Field Goal      Center(C)              Mid-Range        16-24 ft.   \n",
       "30680  2PT Field Goal      Center(C)        Restricted Area  Less Than 8 ft.   \n",
       "30682  2PT Field Goal   Left Side(L)  In The Paint (Non-RA)         8-16 ft.   \n",
       "30686  2PT Field Goal      Center(C)  In The Paint (Non-RA)         8-16 ft.   \n",
       "30693  2PT Field Goal      Center(C)        Restricted Area  Less Than 8 ft.   \n",
       "\n",
       "          team_id           team_name   game_date      matchup opponent  \\\n",
       "0      1610612747  Los Angeles Lakers  2000-10-31    LAL @ POR      POR   \n",
       "7      1610612747  Los Angeles Lakers  2000-10-31    LAL @ POR      POR   \n",
       "16     1610612747  Los Angeles Lakers  2000-11-01  LAL vs. UTA      UTA   \n",
       "19     1610612747  Los Angeles Lakers  2000-11-01  LAL vs. UTA      UTA   \n",
       "32     1610612747  Los Angeles Lakers  2000-11-04    LAL @ VAN      VAN   \n",
       "...           ...                 ...         ...          ...      ...   \n",
       "30668  1610612747  Los Angeles Lakers  2000-06-16    LAL @ IND      IND   \n",
       "30680  1610612747  Los Angeles Lakers  2000-06-19  LAL vs. IND      IND   \n",
       "30682  1610612747  Los Angeles Lakers  2000-06-19  LAL vs. IND      IND   \n",
       "30686  1610612747  Los Angeles Lakers  2000-06-19  LAL vs. IND      IND   \n",
       "30693  1610612747  Los Angeles Lakers  2000-06-19  LAL vs. IND      IND   \n",
       "\n",
       "       shot_id  \n",
       "0            1  \n",
       "7            8  \n",
       "16          17  \n",
       "19          20  \n",
       "32          33  \n",
       "...        ...  \n",
       "30668    30669  \n",
       "30680    30681  \n",
       "30682    30683  \n",
       "30686    30687  \n",
       "30693    30694  \n",
       "\n",
       "[5000 rows x 25 columns]"
      ]
     },
     "execution_count": 45,
     "metadata": {},
     "output_type": "execute_result"
    }
   ],
   "source": [
    "kobe[kobe_null]"
   ]
  },
  {
   "cell_type": "code",
   "execution_count": 16,
   "id": "c372b8da-9724-4da3-9057-f18f40b8455a",
   "metadata": {},
   "outputs": [],
   "source": [
    "kobe_10_31 = kobe['game_date'] == '2000-10-31'"
   ]
  },
  {
   "cell_type": "code",
   "execution_count": 17,
   "id": "ab950e5b-140c-410b-888a-c9f3248fa56f",
   "metadata": {},
   "outputs": [],
   "source": [
    "kobe_test = kobe[kobe_10_31]"
   ]
  },
  {
   "cell_type": "code",
   "execution_count": 18,
   "id": "b5ee7b40-86e1-4e80-b8a6-df618698add8",
   "metadata": {},
   "outputs": [
    {
     "data": {
      "text/plain": [
       "4.0"
      ]
     },
     "execution_count": 18,
     "metadata": {},
     "output_type": "execute_result"
    }
   ],
   "source": [
    "kobe_test['shot_made_flag'].sum()"
   ]
  },
  {
   "cell_type": "code",
   "execution_count": 19,
   "id": "8c2fbc61-7a89-4540-af0e-3968ab3d5c7f",
   "metadata": {},
   "outputs": [
    {
     "data": {
      "text/plain": [
       "0     NaN\n",
       "1     0.0\n",
       "2     1.0\n",
       "3     0.0\n",
       "4     1.0\n",
       "5     0.0\n",
       "6     1.0\n",
       "7     NaN\n",
       "8     1.0\n",
       "9     0.0\n",
       "10    0.0\n",
       "Name: shot_made_flag, dtype: float64"
      ]
     },
     "execution_count": 19,
     "metadata": {},
     "output_type": "execute_result"
    }
   ],
   "source": [
    "kobe_test['shot_made_flag'].head(20)"
   ]
  },
  {
   "cell_type": "code",
   "execution_count": 21,
   "id": "4cb1514d-1d7e-44bc-b883-12ce6c5bf364",
   "metadata": {},
   "outputs": [],
   "source": [
    "kobe_06_19 = kobe['game_date'] == '2000-06-19'"
   ]
  },
  {
   "cell_type": "code",
   "execution_count": 22,
   "id": "5130f23a-5295-41b0-b672-4d99bf2987ec",
   "metadata": {},
   "outputs": [],
   "source": [
    "kobe_test2 = kobe[kobe_06_19]"
   ]
  },
  {
   "cell_type": "code",
   "execution_count": 23,
   "id": "e6b3f7e8-ca40-4fe5-ab9e-469c7011147a",
   "metadata": {},
   "outputs": [
    {
     "data": {
      "text/plain": [
       "6.0"
      ]
     },
     "execution_count": 23,
     "metadata": {},
     "output_type": "execute_result"
    }
   ],
   "source": [
    "kobe_test2['shot_made_flag'].sum()"
   ]
  },
  {
   "cell_type": "code",
   "execution_count": 24,
   "id": "818db2f2-bc89-4eb2-87fd-9e53319e9d5d",
   "metadata": {},
   "outputs": [
    {
     "data": {
      "text/plain": [
       "30670    0.0\n",
       "30671    0.0\n",
       "30672    1.0\n",
       "30673    0.0\n",
       "30674    1.0\n",
       "30675    0.0\n",
       "30676    1.0\n",
       "30677    0.0\n",
       "30678    0.0\n",
       "30679    0.0\n",
       "30680    NaN\n",
       "30681    1.0\n",
       "30682    NaN\n",
       "30683    0.0\n",
       "30684    0.0\n",
       "30685    0.0\n",
       "30686    NaN\n",
       "30687    0.0\n",
       "30688    1.0\n",
       "30689    0.0\n",
       "Name: shot_made_flag, dtype: float64"
      ]
     },
     "execution_count": 24,
     "metadata": {},
     "output_type": "execute_result"
    }
   ],
   "source": [
    "kobe_test2['shot_made_flag'].head(20)"
   ]
  },
  {
   "cell_type": "code",
   "execution_count": 28,
   "id": "f3dad8ab-73e1-4efa-9e25-0c671d8fb455",
   "metadata": {},
   "outputs": [
    {
     "data": {
      "text/plain": [
       "Jump Shot             16\n",
       "Running Jump Shot      5\n",
       "Driving Layup Shot     3\n",
       "Tip Shot               2\n",
       "Layup Shot             1\n",
       "Name: action_type, dtype: int64"
      ]
     },
     "execution_count": 28,
     "metadata": {},
     "output_type": "execute_result"
    }
   ],
   "source": [
    "kobe_test2['action_type'].value_counts()"
   ]
  },
  {
   "cell_type": "code",
   "execution_count": 29,
   "id": "8cebbe0f-ec9f-474f-be9c-f908262c7d83",
   "metadata": {},
   "outputs": [
    {
     "data": {
      "text/plain": [
       "Jump Shot            8\n",
       "Running Jump Shot    1\n",
       "Layup Shot           1\n",
       "Driving Dunk Shot    1\n",
       "Name: action_type, dtype: int64"
      ]
     },
     "execution_count": 29,
     "metadata": {},
     "output_type": "execute_result"
    }
   ],
   "source": [
    "kobe_test['action_type'].value_counts()"
   ]
  },
  {
   "cell_type": "code",
   "execution_count": 30,
   "id": "3cb27b9e-6218-4d60-826f-340fc374904d",
   "metadata": {},
   "outputs": [
    {
     "data": {
      "text/plain": [
       "11465.0"
      ]
     },
     "execution_count": 30,
     "metadata": {},
     "output_type": "execute_result"
    }
   ],
   "source": [
    "kobe['shot_made_flag'].sum()"
   ]
  },
  {
   "cell_type": "code",
   "execution_count": 44,
   "id": "670cf575-80dc-4764-a6cb-d795a763098f",
   "metadata": {},
   "outputs": [],
   "source": [
    "kobe_null = kobe['shot_made_flag'].isnull()"
   ]
  },
  {
   "cell_type": "code",
   "execution_count": 42,
   "id": "649f41da-2718-4a0b-9240-abad909ceefd",
   "metadata": {},
   "outputs": [
    {
     "data": {
      "text/plain": [
       "5000"
      ]
     },
     "execution_count": 42,
     "metadata": {},
     "output_type": "execute_result"
    }
   ],
   "source": [
    "kobe_null.sum()"
   ]
  },
  {
   "cell_type": "code",
   "execution_count": 40,
   "id": "d57de557-59b4-492a-813c-f9690bd7ccc5",
   "metadata": {},
   "outputs": [],
   "source": [
    "kobe_is_null = kobe[kobe_null]"
   ]
  },
  {
   "cell_type": "markdown",
   "id": "0047d7aa-53b2-48bb-971b-037b0895a983",
   "metadata": {},
   "source": [
    "### what shots types are null?\n"
   ]
  },
  {
   "cell_type": "code",
   "execution_count": 41,
   "id": "b92d636c-4bdd-4c5d-9f7e-f41536dbe84d",
   "metadata": {},
   "outputs": [
    {
     "data": {
      "text/plain": [
       "Jump Shot                             3044\n",
       "Layup Shot                             413\n",
       "Driving Layup Shot                     350\n",
       "Fadeaway Jump Shot                     176\n",
       "Turnaround Jump Shot                   166\n",
       "Running Jump Shot                      147\n",
       "Slam Dunk Shot                          77\n",
       "Pullup Jump shot                        74\n",
       "Turnaround Fadeaway shot                73\n",
       "Reverse Layup Shot                      62\n",
       "Driving Dunk Shot                       53\n",
       "Dunk Shot                               45\n",
       "Jump Bank Shot                          44\n",
       "Tip Shot                                31\n",
       "Alley Oop Dunk Shot                     27\n",
       "Floating Jump shot                      21\n",
       "Running Layup Shot                      21\n",
       "Driving Finger Roll Shot                14\n",
       "Reverse Dunk Shot                       14\n",
       "Driving Reverse Layup Shot              14\n",
       "Alley Oop Layup shot                    13\n",
       "Turnaround Bank shot                    13\n",
       "Step Back Jump shot                     12\n",
       "Hook Shot                               11\n",
       "Driving Finger Roll Layup Shot          10\n",
       "Running Hook Shot                        8\n",
       "Putback Layup Shot                       6\n",
       "Turnaround Hook Shot                     6\n",
       "Driving Slam Dunk Shot                   5\n",
       "Driving Jump shot                        5\n",
       "Follow Up Dunk Shot                      5\n",
       "Jump Hook Shot                           5\n",
       "Running Bank shot                        5\n",
       "Finger Roll Layup Shot                   5\n",
       "Running Reverse Layup Shot               4\n",
       "Fadeaway Bank shot                       4\n",
       "Driving Floating Jump Shot               2\n",
       "Finger Roll Shot                         2\n",
       "Driving Bank shot                        2\n",
       "Putback Dunk Shot                        2\n",
       "Running Tip Shot                         1\n",
       "Driving Hook Shot                        1\n",
       "Pullup Bank shot                         1\n",
       "Running Finger Roll Layup Shot           1\n",
       "Running Pull-Up Jump Shot                1\n",
       "Turnaround Fadeaway Bank Jump Shot       1\n",
       "Running Dunk Shot                        1\n",
       "Cutting Finger Roll Layup Shot           1\n",
       "Reverse Slam Dunk Shot                   1\n",
       "Name: action_type, dtype: int64"
      ]
     },
     "execution_count": 41,
     "metadata": {},
     "output_type": "execute_result"
    }
   ],
   "source": [
    "kobe_is_null['action_type'].value_counts()"
   ]
  },
  {
   "cell_type": "code",
   "execution_count": 38,
   "id": "e6f7b1c6-f7f3-4cf3-aa40-6b424bddb360",
   "metadata": {},
   "outputs": [
    {
     "data": {
      "text/plain": [
       "254"
      ]
     },
     "execution_count": 38,
     "metadata": {},
     "output_type": "execute_result"
    }
   ],
   "source": [
    "unaccounted_scored_shots = 11719-11465\n",
    "unaccounted_scored_shots"
   ]
  },
  {
   "cell_type": "markdown",
   "id": "59692c61-1a96-40c3-88bd-7801b51127f4",
   "metadata": {},
   "source": [
    "### shots made per year"
   ]
  },
  {
   "cell_type": "code",
   "execution_count": 55,
   "id": "0111efc7-4a1a-4db0-857d-0ff55b7d9cd4",
   "metadata": {},
   "outputs": [],
   "source": [
    "import matplotlib.pyplot as plt"
   ]
  },
  {
   "cell_type": "code",
   "execution_count": 75,
   "id": "1c1d4ffb-16c1-4efa-86ca-20ad798b4a6c",
   "metadata": {
    "tags": []
   },
   "outputs": [
    {
     "data": {
      "image/png": "[encoded data removed]",
      "text/plain": [
       "<Figure size 432x288 with 1 Axes>"
      ]
     },
     "metadata": {
      "needs_background": "light"
     },
     "output_type": "display_data"
    }
   ],
   "source": [
    "kobe_copy = kobe\n",
    "kobe_copy[\"game_date\"] = kobe_copy[\"game_date\"].astype(\"datetime64\")\n",
    "# kobe_copy.groupby(kobe_copy[\"game_date\"].dt.year).count().plot(kind=\"bar\")\n",
    "kobe_copy.groupby(kobe_copy[\"game_date\"].dt.year)['shot_made_flag'].count().plot(kind=\"bar\")\n",
    "\n",
    "#source code = https://stackoverflow.com/questions/27365467/can-pandas-plot-a-histogram-of-dates\n",
    "\n",
    "# depicting the visualization\n",
    "plt.xlabel('Year') \n",
    "plt.ylabel('Shots') \n",
    "  \n",
    "# displaying the title\n",
    "plt.title(\"Shots taken\")\n",
    "  \n",
    "plt.show() "
   ]
  },
  {
   "cell_type": "code",
   "execution_count": 60,
   "id": "80126a4a-e613-4c2d-a634-5abb7d329aae",
   "metadata": {
    "jupyter": {
     "source_hidden": true
    },
    "tags": []
   },
   "outputs": [
    {
     "data": {
      "image/png": "[encoded data removed]",
      "text/plain": [
       "<Figure size 432x288 with 1 Axes>"
      ]
     },
     "metadata": {
      "needs_background": "light"
     },
     "output_type": "display_data"
    }
   ],
   "source": [
    "kobe_copy = kobe\n",
    "kobe_copy[\"game_date\"] = kobe_copy[\"game_date\"].astype(\"datetime64\")\n",
    "# kobe_copy.groupby(kobe_copy[\"game_date\"].dt.year).count().plot(kind=\"bar\")\n",
    "kobe_copy.groupby(kobe_copy[\"game_date\"].dt.year)['shot_made_flag'].sum().plot(kind=\"bar\")\n",
    "\n",
    "#source code = https://stackoverflow.com/questions/27365467/can-pandas-plot-a-histogram-of-dates\n",
    "\n",
    "# depicting the visualization\n",
    "plt.xlabel('Year') \n",
    "plt.ylabel('Shots') \n",
    "  \n",
    "# displaying the title\n",
    "plt.title(\"Shots made\")\n",
    "  \n",
    "plt.show() "
   ]
  },
  {
   "cell_type": "markdown",
   "id": "186f5fb0-c3f2-4902-9c9b-4caa0d4b747f",
   "metadata": {},
   "source": [
    "### what year were the null shots?"
   ]
  },
  {
   "cell_type": "code",
   "execution_count": 61,
   "id": "80106205-564e-452e-a43b-29b671f0f6e8",
   "metadata": {},
   "outputs": [],
   "source": [
    "kobe_copy_null_shot = kobe_copy[kobe_copy['shot_made_flag'].isnull()]"
   ]
  },
  {
   "cell_type": "code",
   "execution_count": 65,
   "id": "544812d6-d810-4e45-8953-d2aba03c697b",
   "metadata": {},
   "outputs": [
    {
     "data": {
      "text/plain": [
       "0       NaN\n",
       "7       NaN\n",
       "16      NaN\n",
       "19      NaN\n",
       "32      NaN\n",
       "         ..\n",
       "30668   NaN\n",
       "30680   NaN\n",
       "30682   NaN\n",
       "30686   NaN\n",
       "30693   NaN\n",
       "Name: shot_made_flag, Length: 5000, dtype: float64"
      ]
     },
     "execution_count": 65,
     "metadata": {},
     "output_type": "execute_result"
    }
   ],
   "source": [
    "kobe_copy_null_shot['shot_made_flag']"
   ]
  },
  {
   "cell_type": "code",
   "execution_count": 67,
   "id": "5e0beca4-b8b3-4630-8971-46f3e3a86ddf",
   "metadata": {},
   "outputs": [
    {
     "ename": "AttributeError",
     "evalue": "'SeriesGroupBy' object has no attribute 'isnull'",
     "output_type": "error",
     "traceback": [
      "\u001b[1;31m---------------------------------------------------------------------------\u001b[0m",
      "\u001b[1;31mAttributeError\u001b[0m                            Traceback (most recent call last)",
      "\u001b[1;32m<ipython-input-67-b0068123fc5e>\u001b[0m in \u001b[0;36m<module>\u001b[1;34m\u001b[0m\n\u001b[1;32m----> 1\u001b[1;33m \u001b[0mkobe_copy_null_shot\u001b[0m\u001b[1;33m.\u001b[0m\u001b[0mgroupby\u001b[0m\u001b[1;33m(\u001b[0m\u001b[0mkobe_copy_null_shot\u001b[0m\u001b[1;33m[\u001b[0m\u001b[1;34m\"game_date\"\u001b[0m\u001b[1;33m]\u001b[0m\u001b[1;33m.\u001b[0m\u001b[0mdt\u001b[0m\u001b[1;33m.\u001b[0m\u001b[0myear\u001b[0m\u001b[1;33m)\u001b[0m\u001b[1;33m[\u001b[0m\u001b[1;34m'shot_made_flag'\u001b[0m\u001b[1;33m]\u001b[0m\u001b[1;33m.\u001b[0m\u001b[0misnull\u001b[0m\u001b[1;33m(\u001b[0m\u001b[1;33m)\u001b[0m\u001b[1;33m.\u001b[0m\u001b[0msum\u001b[0m\u001b[1;33m(\u001b[0m\u001b[1;33m)\u001b[0m\u001b[1;33m.\u001b[0m\u001b[0mplot\u001b[0m\u001b[1;33m(\u001b[0m\u001b[0mkind\u001b[0m\u001b[1;33m=\u001b[0m\u001b[1;34m\"bar\"\u001b[0m\u001b[1;33m)\u001b[0m\u001b[1;33m\u001b[0m\u001b[1;33m\u001b[0m\u001b[0m\n\u001b[0m\u001b[0;32m      2\u001b[0m \u001b[1;33m\u001b[0m\u001b[0m\n\u001b[0;32m      3\u001b[0m \u001b[1;31m#source code = https://stackoverflow.com/questions/27365467/can-pandas-plot-a-histogram-of-dates\u001b[0m\u001b[1;33m\u001b[0m\u001b[1;33m\u001b[0m\u001b[1;33m\u001b[0m\u001b[0m\n\u001b[0;32m      4\u001b[0m \u001b[1;33m\u001b[0m\u001b[0m\n\u001b[0;32m      5\u001b[0m \u001b[1;31m# depicting the visualization\u001b[0m\u001b[1;33m\u001b[0m\u001b[1;33m\u001b[0m\u001b[1;33m\u001b[0m\u001b[0m\n",
      "\u001b[1;32m~\\Anaconda\\lib\\site-packages\\pandas\\core\\groupby\\groupby.py\u001b[0m in \u001b[0;36m__getattr__\u001b[1;34m(self, attr)\u001b[0m\n\u001b[0;32m    750\u001b[0m             \u001b[1;32mreturn\u001b[0m \u001b[0mself\u001b[0m\u001b[1;33m[\u001b[0m\u001b[0mattr\u001b[0m\u001b[1;33m]\u001b[0m\u001b[1;33m\u001b[0m\u001b[1;33m\u001b[0m\u001b[0m\n\u001b[0;32m    751\u001b[0m \u001b[1;33m\u001b[0m\u001b[0m\n\u001b[1;32m--> 752\u001b[1;33m         raise AttributeError(\n\u001b[0m\u001b[0;32m    753\u001b[0m             \u001b[1;34mf\"'{type(self).__name__}' object has no attribute '{attr}'\"\u001b[0m\u001b[1;33m\u001b[0m\u001b[1;33m\u001b[0m\u001b[0m\n\u001b[0;32m    754\u001b[0m         )\n",
      "\u001b[1;31mAttributeError\u001b[0m: 'SeriesGroupBy' object has no attribute 'isnull'"
     ]
    }
   ],
   "source": [
    "kobe_copy_null_shot.groupby(kobe_copy_null_shot[\"game_date\"].dt.year)['shot_made_flag'].sum().plot(kind=\"bar\")\n",
    "\n",
    "#source code = https://stackoverflow.com/questions/27365467/can-pandas-plot-a-histogram-of-dates\n",
    "\n",
    "# depicting the visualization\n",
    "plt.xlabel('Year') \n",
    "plt.ylabel('Shots') \n",
    "  \n",
    "# displaying the title\n",
    "plt.title(\"Shots taken\")\n",
    "  \n",
    "plt.show() "
   ]
  },
  {
   "cell_type": "code",
   "execution_count": 52,
   "id": "67569bdd-424e-479c-a751-6698850058f3",
   "metadata": {},
   "outputs": [
    {
     "data": {
      "text/plain": [
       "5000   2003-04-15\n",
       "5001   2003-04-15\n",
       "5002   2003-04-15\n",
       "5003   2003-04-16\n",
       "5004   2003-04-16\n",
       "5005   2003-04-16\n",
       "5006   2003-04-16\n",
       "5007   2003-04-16\n",
       "5008   2003-04-16\n",
       "5009   2003-04-16\n",
       "Name: game_date, dtype: datetime64[ns]"
      ]
     },
     "execution_count": 52,
     "metadata": {},
     "output_type": "execute_result"
    }
   ],
   "source": [
    "kobe_copy[\"game_date\"][5000:]"
   ]
  },
  {
   "cell_type": "code",
   "execution_count": null,
   "id": "2af475cd-f536-49b8-a3e7-8cd41a83e6fd",
   "metadata": {},
   "outputs": [],
   "source": []
  },
  {
   "cell_type": "code",
   "execution_count": null,
   "id": "5322a6ab-ed0f-4f44-993b-a98d09a3f4c8",
   "metadata": {},
   "outputs": [],
   "source": []
  }
 ],
 "metadata": {
  "kernelspec": {
   "display_name": "Python 3",
   "language": "python",
   "name": "python3"
  },
  "language_info": {
   "codemirror_mode": {
    "name": "ipython",
    "version": 3
   },
   "file_extension": ".py",
   "mimetype": "text/x-python",
   "name": "python",
   "nbconvert_exporter": "python",
   "pygments_lexer": "ipython3",
   "version": "3.8.8"
  }
 },
 "nbformat": 4,
 "nbformat_minor": 5
}
