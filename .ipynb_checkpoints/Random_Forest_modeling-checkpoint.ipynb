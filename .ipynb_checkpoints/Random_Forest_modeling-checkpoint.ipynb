{
 "cells": [
  {
   "cell_type": "code",
   "execution_count": 36,
   "id": "a1d93dfd-49dc-403b-9ca4-6d11a2f1e78e",
   "metadata": {},
   "outputs": [],
   "source": [
    "from sklearn.datasets import make_regression\n",
    "from sklearn.preprocessing import StandardScaler\n",
    "from sklearn.model_selection import train_test_split, GridSearchCV\n",
    "from sklearn import metrics\n",
    "\n",
    "from tensorflow.keras.models import Sequential\n",
    "from tensorflow.keras.layers import Dense, Dropout\n",
    "from keras.wrappers.scikit_learn import KerasClassifier"
   ]
  },
  {
   "cell_type": "code",
   "execution_count": 3,
   "id": "79d8b58c-2cf9-4267-b051-2c2912e19512",
   "metadata": {},
   "outputs": [],
   "source": [
    "import pandas as pd"
   ]
  },
  {
   "cell_type": "code",
   "execution_count": 4,
   "id": "3b03ab56-3db7-4ffb-b350-702d1f30bb7f",
   "metadata": {},
   "outputs": [],
   "source": [
    "kobe = pd.read_csv('./datasets/data.csv')"
   ]
  },
  {
   "cell_type": "code",
   "execution_count": 5,
   "id": "fc9d3cb7-701b-4074-81f4-bb514da3d13c",
   "metadata": {},
   "outputs": [
    {
     "data": {
      "text/html": [
       "<div>\n",
       "<style scoped>\n",
       "    .dataframe tbody tr th:only-of-type {\n",
       "        vertical-align: middle;\n",
       "    }\n",
       "\n",
       "    .dataframe tbody tr th {\n",
       "        vertical-align: top;\n",
       "    }\n",
       "\n",
       "    .dataframe thead th {\n",
       "        text-align: right;\n",
       "    }\n",
       "</style>\n",
       "<table border=\"1\" class=\"dataframe\">\n",
       "  <thead>\n",
       "    <tr style=\"text-align: right;\">\n",
       "      <th></th>\n",
       "      <th>action_type</th>\n",
       "      <th>combined_shot_type</th>\n",
       "      <th>game_event_id</th>\n",
       "      <th>game_id</th>\n",
       "      <th>lat</th>\n",
       "      <th>loc_x</th>\n",
       "      <th>loc_y</th>\n",
       "      <th>lon</th>\n",
       "      <th>minutes_remaining</th>\n",
       "      <th>period</th>\n",
       "      <th>...</th>\n",
       "      <th>shot_type</th>\n",
       "      <th>shot_zone_area</th>\n",
       "      <th>shot_zone_basic</th>\n",
       "      <th>shot_zone_range</th>\n",
       "      <th>team_id</th>\n",
       "      <th>team_name</th>\n",
       "      <th>game_date</th>\n",
       "      <th>matchup</th>\n",
       "      <th>opponent</th>\n",
       "      <th>shot_id</th>\n",
       "    </tr>\n",
       "  </thead>\n",
       "  <tbody>\n",
       "    <tr>\n",
       "      <th>0</th>\n",
       "      <td>Jump Shot</td>\n",
       "      <td>Jump Shot</td>\n",
       "      <td>10</td>\n",
       "      <td>20000012</td>\n",
       "      <td>33.9723</td>\n",
       "      <td>167</td>\n",
       "      <td>72</td>\n",
       "      <td>-118.1028</td>\n",
       "      <td>10</td>\n",
       "      <td>1</td>\n",
       "      <td>...</td>\n",
       "      <td>2PT Field Goal</td>\n",
       "      <td>Right Side(R)</td>\n",
       "      <td>Mid-Range</td>\n",
       "      <td>16-24 ft.</td>\n",
       "      <td>1610612747</td>\n",
       "      <td>Los Angeles Lakers</td>\n",
       "      <td>2000-10-31</td>\n",
       "      <td>LAL @ POR</td>\n",
       "      <td>POR</td>\n",
       "      <td>1</td>\n",
       "    </tr>\n",
       "    <tr>\n",
       "      <th>1</th>\n",
       "      <td>Jump Shot</td>\n",
       "      <td>Jump Shot</td>\n",
       "      <td>12</td>\n",
       "      <td>20000012</td>\n",
       "      <td>34.0443</td>\n",
       "      <td>-157</td>\n",
       "      <td>0</td>\n",
       "      <td>-118.4268</td>\n",
       "      <td>10</td>\n",
       "      <td>1</td>\n",
       "      <td>...</td>\n",
       "      <td>2PT Field Goal</td>\n",
       "      <td>Left Side(L)</td>\n",
       "      <td>Mid-Range</td>\n",
       "      <td>8-16 ft.</td>\n",
       "      <td>1610612747</td>\n",
       "      <td>Los Angeles Lakers</td>\n",
       "      <td>2000-10-31</td>\n",
       "      <td>LAL @ POR</td>\n",
       "      <td>POR</td>\n",
       "      <td>2</td>\n",
       "    </tr>\n",
       "    <tr>\n",
       "      <th>2</th>\n",
       "      <td>Jump Shot</td>\n",
       "      <td>Jump Shot</td>\n",
       "      <td>35</td>\n",
       "      <td>20000012</td>\n",
       "      <td>33.9093</td>\n",
       "      <td>-101</td>\n",
       "      <td>135</td>\n",
       "      <td>-118.3708</td>\n",
       "      <td>7</td>\n",
       "      <td>1</td>\n",
       "      <td>...</td>\n",
       "      <td>2PT Field Goal</td>\n",
       "      <td>Left Side Center(LC)</td>\n",
       "      <td>Mid-Range</td>\n",
       "      <td>16-24 ft.</td>\n",
       "      <td>1610612747</td>\n",
       "      <td>Los Angeles Lakers</td>\n",
       "      <td>2000-10-31</td>\n",
       "      <td>LAL @ POR</td>\n",
       "      <td>POR</td>\n",
       "      <td>3</td>\n",
       "    </tr>\n",
       "    <tr>\n",
       "      <th>3</th>\n",
       "      <td>Jump Shot</td>\n",
       "      <td>Jump Shot</td>\n",
       "      <td>43</td>\n",
       "      <td>20000012</td>\n",
       "      <td>33.8693</td>\n",
       "      <td>138</td>\n",
       "      <td>175</td>\n",
       "      <td>-118.1318</td>\n",
       "      <td>6</td>\n",
       "      <td>1</td>\n",
       "      <td>...</td>\n",
       "      <td>2PT Field Goal</td>\n",
       "      <td>Right Side Center(RC)</td>\n",
       "      <td>Mid-Range</td>\n",
       "      <td>16-24 ft.</td>\n",
       "      <td>1610612747</td>\n",
       "      <td>Los Angeles Lakers</td>\n",
       "      <td>2000-10-31</td>\n",
       "      <td>LAL @ POR</td>\n",
       "      <td>POR</td>\n",
       "      <td>4</td>\n",
       "    </tr>\n",
       "    <tr>\n",
       "      <th>4</th>\n",
       "      <td>Driving Dunk Shot</td>\n",
       "      <td>Dunk</td>\n",
       "      <td>155</td>\n",
       "      <td>20000012</td>\n",
       "      <td>34.0443</td>\n",
       "      <td>0</td>\n",
       "      <td>0</td>\n",
       "      <td>-118.2698</td>\n",
       "      <td>6</td>\n",
       "      <td>2</td>\n",
       "      <td>...</td>\n",
       "      <td>2PT Field Goal</td>\n",
       "      <td>Center(C)</td>\n",
       "      <td>Restricted Area</td>\n",
       "      <td>Less Than 8 ft.</td>\n",
       "      <td>1610612747</td>\n",
       "      <td>Los Angeles Lakers</td>\n",
       "      <td>2000-10-31</td>\n",
       "      <td>LAL @ POR</td>\n",
       "      <td>POR</td>\n",
       "      <td>5</td>\n",
       "    </tr>\n",
       "  </tbody>\n",
       "</table>\n",
       "<p>5 rows × 25 columns</p>\n",
       "</div>"
      ],
      "text/plain": [
       "         action_type combined_shot_type  game_event_id   game_id      lat  \\\n",
       "0          Jump Shot          Jump Shot             10  20000012  33.9723   \n",
       "1          Jump Shot          Jump Shot             12  20000012  34.0443   \n",
       "2          Jump Shot          Jump Shot             35  20000012  33.9093   \n",
       "3          Jump Shot          Jump Shot             43  20000012  33.8693   \n",
       "4  Driving Dunk Shot               Dunk            155  20000012  34.0443   \n",
       "\n",
       "   loc_x  loc_y       lon  minutes_remaining  period  ...       shot_type  \\\n",
       "0    167     72 -118.1028                 10       1  ...  2PT Field Goal   \n",
       "1   -157      0 -118.4268                 10       1  ...  2PT Field Goal   \n",
       "2   -101    135 -118.3708                  7       1  ...  2PT Field Goal   \n",
       "3    138    175 -118.1318                  6       1  ...  2PT Field Goal   \n",
       "4      0      0 -118.2698                  6       2  ...  2PT Field Goal   \n",
       "\n",
       "          shot_zone_area  shot_zone_basic  shot_zone_range     team_id  \\\n",
       "0          Right Side(R)        Mid-Range        16-24 ft.  1610612747   \n",
       "1           Left Side(L)        Mid-Range         8-16 ft.  1610612747   \n",
       "2   Left Side Center(LC)        Mid-Range        16-24 ft.  1610612747   \n",
       "3  Right Side Center(RC)        Mid-Range        16-24 ft.  1610612747   \n",
       "4              Center(C)  Restricted Area  Less Than 8 ft.  1610612747   \n",
       "\n",
       "            team_name   game_date    matchup opponent  shot_id  \n",
       "0  Los Angeles Lakers  2000-10-31  LAL @ POR      POR        1  \n",
       "1  Los Angeles Lakers  2000-10-31  LAL @ POR      POR        2  \n",
       "2  Los Angeles Lakers  2000-10-31  LAL @ POR      POR        3  \n",
       "3  Los Angeles Lakers  2000-10-31  LAL @ POR      POR        4  \n",
       "4  Los Angeles Lakers  2000-10-31  LAL @ POR      POR        5  \n",
       "\n",
       "[5 rows x 25 columns]"
      ]
     },
     "execution_count": 5,
     "metadata": {},
     "output_type": "execute_result"
    }
   ],
   "source": [
    "kobe.head(5)"
   ]
  },
  {
   "cell_type": "markdown",
   "id": "ff4d32ae-4cfd-4472-8b02-d6e2d6c064cc",
   "metadata": {},
   "source": [
    "### how many different values in each column"
   ]
  },
  {
   "cell_type": "code",
   "execution_count": 26,
   "id": "70997bb6-681c-480f-aad2-901c5c32eeb5",
   "metadata": {
    "collapsed": true,
    "jupyter": {
     "outputs_hidden": true
    },
    "tags": []
   },
   "outputs": [
    {
     "name": "stdout",
     "output_type": "stream",
     "text": [
      "Jump Shot                             18880\n",
      "Layup Shot                             2567\n",
      "Driving Layup Shot                     1978\n",
      "Turnaround Jump Shot                   1057\n",
      "Fadeaway Jump Shot                     1048\n",
      "Running Jump Shot                       926\n",
      "Pullup Jump shot                        476\n",
      "Turnaround Fadeaway shot                439\n",
      "Slam Dunk Shot                          411\n",
      "Reverse Layup Shot                      395\n",
      "Jump Bank Shot                          333\n",
      "Driving Dunk Shot                       310\n",
      "Dunk Shot                               262\n",
      "Tip Shot                                182\n",
      "Alley Oop Dunk Shot                     122\n",
      "Step Back Jump shot                     118\n",
      "Floating Jump shot                      114\n",
      "Driving Reverse Layup Shot               97\n",
      "Hook Shot                                84\n",
      "Driving Finger Roll Shot                 82\n",
      "Alley Oop Layup shot                     80\n",
      "Reverse Dunk Shot                        75\n",
      "Running Layup Shot                       72\n",
      "Turnaround Bank shot                     71\n",
      "Driving Finger Roll Layup Shot           69\n",
      "Driving Slam Dunk Shot                   48\n",
      "Running Bank shot                        48\n",
      "Running Hook Shot                        41\n",
      "Finger Roll Layup Shot                   33\n",
      "Fadeaway Bank shot                       31\n",
      "Driving Jump shot                        28\n",
      "Finger Roll Shot                         28\n",
      "Jump Hook Shot                           24\n",
      "Running Dunk Shot                        19\n",
      "Reverse Slam Dunk Shot                   16\n",
      "Putback Layup Shot                       15\n",
      "Follow Up Dunk Shot                      15\n",
      "Driving Hook Shot                        14\n",
      "Turnaround Hook Shot                     14\n",
      "Pullup Bank shot                         12\n",
      "Running Reverse Layup Shot               11\n",
      "Running Finger Roll Layup Shot            6\n",
      "Cutting Layup Shot                        6\n",
      "Hook Bank Shot                            5\n",
      "Driving Bank shot                         5\n",
      "Driving Floating Jump Shot                5\n",
      "Putback Dunk Shot                         5\n",
      "Running Pull-Up Jump Shot                 4\n",
      "Running Finger Roll Shot                  4\n",
      "Putback Slam Dunk Shot                    2\n",
      "Tip Layup Shot                            2\n",
      "Turnaround Finger Roll Shot               2\n",
      "Running Tip Shot                          2\n",
      "Running Slam Dunk Shot                    1\n",
      "Turnaround Fadeaway Bank Jump Shot        1\n",
      "Cutting Finger Roll Layup Shot            1\n",
      "Driving Floating Bank Jump Shot           1\n",
      "Name: action_type, dtype: int64\n",
      "3    8296\n",
      "1    8048\n",
      "4    7260\n",
      "2    6718\n",
      "5     330\n",
      "6      38\n",
      "7       7\n",
      "Name: period, dtype: int64\n",
      "Jump Shot    23485\n",
      "Layup         5448\n",
      "Dunk          1286\n",
      "Tip Shot       184\n",
      "Hook Shot      153\n",
      "Bank Shot      141\n",
      "Name: combined_shot_type, dtype: int64\n",
      "2005-06    2318\n",
      "2008-09    2242\n",
      "2002-03    2241\n",
      "2007-08    2153\n",
      "2009-10    2080\n",
      "2001-02    2028\n",
      "2006-07    1887\n",
      "2000-01    1868\n",
      "2010-11    1825\n",
      "2003-04    1638\n",
      "2011-12    1637\n",
      "2012-13    1593\n",
      "1999-00    1577\n",
      "2004-05    1324\n",
      "2015-16    1113\n",
      "1997-98     989\n",
      "1998-99     921\n",
      "2014-15     713\n",
      "1996-97     477\n",
      "2013-14      73\n",
      "Name: season, dtype: int64\n",
      "2PT Field Goal    24271\n",
      "3PT Field Goal     6426\n",
      "Name: shot_type, dtype: int64\n",
      "Center(C)                13455\n",
      "Right Side Center(RC)     4776\n",
      "Right Side(R)             4588\n",
      "Left Side Center(LC)      4044\n",
      "Left Side(L)              3751\n",
      "Back Court(BC)              83\n",
      "Name: shot_zone_area, dtype: int64\n",
      "Mid-Range                12625\n",
      "Restricted Area           7136\n",
      "Above the Break 3         5620\n",
      "In The Paint (Non-RA)     4578\n",
      "Right Corner 3             387\n",
      "Left Corner 3              280\n",
      "Backcourt                   71\n",
      "Name: shot_zone_basic, dtype: int64\n",
      "Less Than 8 ft.    9398\n",
      "16-24 ft.          8315\n",
      "8-16 ft.           6626\n",
      "24+ ft.            6275\n",
      "Back Court Shot      83\n",
      "Name: shot_zone_range, dtype: int64\n",
      "Los Angeles Lakers    30697\n",
      "Name: team_name, dtype: int64\n",
      "2016-04-13    50\n",
      "2002-11-07    47\n",
      "2006-01-22    46\n",
      "2006-12-29    45\n",
      "2008-01-14    44\n",
      "              ..\n",
      "1997-04-25     1\n",
      "1996-11-03     1\n",
      "1996-12-29     1\n",
      "1997-03-20     1\n",
      "1996-11-05     1\n",
      "Name: game_date, Length: 1559, dtype: int64\n",
      "LAL @ SAS      1020\n",
      "LAL vs. SAS     936\n",
      "LAL @ SAC       889\n",
      "LAL vs. HOU     878\n",
      "LAL @ DEN       873\n",
      "               ... \n",
      "LAL @ PHO        33\n",
      "LAL vs. NOP      27\n",
      "LAL vs. SAN      22\n",
      "LAL @ UTH        21\n",
      "LAL vs. BKN      15\n",
      "Name: matchup, Length: 74, dtype: int64\n"
     ]
    }
   ],
   "source": [
    "#source code: https://stackoverflow.com/questions/23197324/pandas-value-counts-applied-to-each-column\n",
    "for c in kobe_objects.columns:\n",
    "    print(kobe_objects[c].value_counts())"
   ]
  },
  {
   "cell_type": "markdown",
   "id": "04da9055-b092-4646-ba0d-ac46067d4892",
   "metadata": {},
   "source": [
    "### create a separate year column"
   ]
  },
  {
   "cell_type": "code",
   "execution_count": 29,
   "id": "bbfccef5-f70e-416e-ab72-d1fabcb114b8",
   "metadata": {},
   "outputs": [],
   "source": [
    "kobe['game_year'] = pd.DatetimeIndex(kobe['game_date']).year"
   ]
  },
  {
   "cell_type": "markdown",
   "id": "3dc5199f-744e-415d-a421-51b88f804366",
   "metadata": {},
   "source": [
    "### Fillna Kobe's NaN shots"
   ]
  },
  {
   "cell_type": "code",
   "execution_count": null,
   "id": "a2f30381-6694-4cd3-b1eb-a0c4d2ffc1d0",
   "metadata": {},
   "outputs": [],
   "source": [
    "###Only 0.827% of Kobes made shots are unnaccounted for in this dataset"
   ]
  },
  {
   "cell_type": "code",
   "execution_count": 30,
   "id": "5322a6ab-ed0f-4f44-993b-a98d09a3f4c8",
   "metadata": {},
   "outputs": [],
   "source": [
    "kobe['shot_made_flag'] = kobe['shot_made_flag'].fillna(0)"
   ]
  },
  {
   "cell_type": "code",
   "execution_count": 31,
   "id": "0f2c43ac-0dd8-444f-8a92-f921128bc5b9",
   "metadata": {},
   "outputs": [],
   "source": [
    "#create a classification dataframe\n",
    "kobe_objects = kobe[['action_type','period','combined_shot_type','season','shot_type','shot_zone_area','shot_zone_basic','shot_zone_range','team_name','game_year','matchup']]"
   ]
  },
  {
   "cell_type": "code",
   "execution_count": 32,
   "id": "1b8622fa-4755-4819-976c-059b94689798",
   "metadata": {},
   "outputs": [],
   "source": [
    "#get dummies\n",
    "kobe_objects_dummies = pd.get_dummies(kobe_objects)"
   ]
  },
  {
   "cell_type": "markdown",
   "id": "6518cccb-3d25-433f-b687-586e3ccfecc0",
   "metadata": {},
   "source": [
    "### Classification"
   ]
  },
  {
   "cell_type": "code",
   "execution_count": 33,
   "id": "5256ea51-f2da-44ae-a1d4-e60aee9a32a1",
   "metadata": {},
   "outputs": [],
   "source": [
    "X = kobe_objects_dummies\n",
    "y = kobe['shot_made_flag']"
   ]
  },
  {
   "cell_type": "markdown",
   "id": "98992540-1fc3-45d8-b57a-232ee7cc53b5",
   "metadata": {},
   "source": [
    "### Train/Test Split\n",
    "---\n",
    "\n",
    "We always want to have a validation set to test our model. Use the `train_test_split` function to split our `X` and `y` variables into a training set and a holdout set."
   ]
  },
  {
   "cell_type": "code",
   "execution_count": 34,
   "id": "9467919c-d172-4dc7-af65-cd6d4b27c802",
   "metadata": {},
   "outputs": [],
   "source": [
    "X_train, X_test, y_train, y_test = train_test_split(X, y, random_state=42)"
   ]
  },
  {
   "cell_type": "markdown",
   "id": "b7e1aba0-e23d-44ac-a355-d8e51b904c8c",
   "metadata": {},
   "source": [
    "### `StandardScaler`\n",
    "---\n",
    "\n",
    "You want to scale your data for *any* model that uses Gradient Descent, which includes Neural Networks."
   ]
  },
  {
   "cell_type": "code",
   "execution_count": 35,
   "id": "4a421ed2-beb5-49c2-a098-2c82e5ba2519",
   "metadata": {},
   "outputs": [],
   "source": [
    "sc = StandardScaler()\n",
    "X_train_sc = sc.fit_transform(X_train)\n",
    "X_test_sc = sc.transform(X_test)"
   ]
  },
  {
   "cell_type": "markdown",
   "id": "e368b447-f12c-4184-88a9-d4614fa4198e",
   "metadata": {},
   "source": [
    "### Create your network topology\n",
    "---\n",
    "\n",
    "We'll create a neural network like we've done before, only this time we'll wrap the entire model in a function. Once we have that set up, we can use the `KerasRegressor` wrapper to set it up as an `sklearn` model, which we'll then apply `GridSearchCV`."
   ]
  },
  {
   "cell_type": "code",
   "execution_count": null,
   "id": "f8daae82-bf07-40ff-bf5f-d1a1ab01c146",
   "metadata": {},
   "outputs": [],
   "source": [
    "# Define a function that will go in the scikit-learn wrapper\n"
   ]
  },
  {
   "cell_type": "code",
   "execution_count": 37,
   "id": "2184b76e-ef9f-4852-8865-201a54fcff47",
   "metadata": {},
   "outputs": [
    {
     "name": "stdout",
     "output_type": "stream",
     "text": [
      "Epoch 1/10\n",
      "90/90 [==============================] - 0s 2ms/step - loss: 0.4992 - val_loss: 0.3079\n",
      "Epoch 2/10\n",
      "90/90 [==============================] - 0s 865us/step - loss: 0.2915 - val_loss: 0.2761\n",
      "Epoch 3/10\n",
      "90/90 [==============================] - 0s 831us/step - loss: 0.2562 - val_loss: 0.2532\n",
      "Epoch 4/10\n",
      "90/90 [==============================] - 0s 854us/step - loss: 0.2360 - val_loss: 0.2417\n",
      "Epoch 5/10\n",
      "90/90 [==============================] - 0s 843us/step - loss: 0.2257 - val_loss: 0.2380\n",
      "Epoch 6/10\n",
      "90/90 [==============================] - 0s 854us/step - loss: 0.2191 - val_loss: 0.2332\n",
      "Epoch 7/10\n",
      "90/90 [==============================] - 0s 831us/step - loss: 0.2135 - val_loss: 0.2304\n",
      "Epoch 8/10\n",
      "90/90 [==============================] - 0s 843us/step - loss: 0.2111 - val_loss: 0.2288\n",
      "Epoch 9/10\n",
      "90/90 [==============================] - 0s 910us/step - loss: 0.2079 - val_loss: 0.2270\n",
      "Epoch 10/10\n",
      "90/90 [==============================] - 0s 910us/step - loss: 0.2054 - val_loss: 0.2259\n"
     ]
    },
    {
     "data": {
      "text/plain": [
       "<keras.callbacks.History at 0x214c3dac2b0>"
      ]
     },
     "execution_count": 37,
     "metadata": {},
     "output_type": "execute_result"
    }
   ],
   "source": [
    "# Create a \"baseline\" model, without grid searching over the parameters\n",
    "model = Sequential()\n",
    "model.add(Dense(32, activation='relu', input_shape=(X_train_sc.shape[1], )))\n",
    "model.add(Dense(1, activation=None)) # Regression problem - no activation function\n",
    "\n",
    "# Compile it\n",
    "model.compile(loss='mse', optimizer='adam')\n",
    "\n",
    "# Fit the network\n",
    "model.fit(X_train_sc, y_train, validation_data=(X_test_sc, y_test), batch_size=256, epochs=10)"
   ]
  },
  {
   "cell_type": "code",
   "execution_count": 38,
   "id": "7f2cf9c2-ac40-43fb-b55c-7b98c12188c7",
   "metadata": {},
   "outputs": [
    {
     "name": "stdout",
     "output_type": "stream",
     "text": [
      "240/240 [==============================] - 0s 439us/step - loss: 0.2259\n"
     ]
    },
    {
     "data": {
      "text/plain": [
       "0.225882887840271"
      ]
     },
     "execution_count": 38,
     "metadata": {},
     "output_type": "execute_result"
    }
   ],
   "source": [
    "model.evaluate(X_test_sc, y_test)"
   ]
  },
  {
   "cell_type": "code",
   "execution_count": 39,
   "id": "c219567d-3c97-4524-8a45-8388cec6ce3f",
   "metadata": {},
   "outputs": [
    {
     "data": {
      "text/plain": [
       "array([[0.3942208 ],\n",
       "       [0.49727187],\n",
       "       [0.5999566 ],\n",
       "       ...,\n",
       "       [0.16056098],\n",
       "       [0.24897262],\n",
       "       [0.4130881 ]], dtype=float32)"
      ]
     },
     "execution_count": 39,
     "metadata": {},
     "output_type": "execute_result"
    }
   ],
   "source": [
    "y_pred = model.predict(X_test_sc)\n",
    "y_pred"
   ]
  },
  {
   "cell_type": "code",
   "execution_count": 40,
   "id": "329b87d8-6e7d-4885-aa23-28d3a1041bf5",
   "metadata": {},
   "outputs": [
    {
     "data": {
      "text/plain": [
       "0.04206725953993462"
      ]
     },
     "execution_count": 40,
     "metadata": {},
     "output_type": "execute_result"
    }
   ],
   "source": [
    "# Get the testing R-squared\n",
    "metrics.r2_score(y_true=y_test, y_pred=y_pred)"
   ]
  },
  {
   "cell_type": "code",
   "execution_count": 41,
   "id": "0c5659af-1bae-4b7b-ac51-a60ced665657",
   "metadata": {},
   "outputs": [],
   "source": [
    "# Define a function that will go in the scikit-learn wrapper\n",
    "def model_func(layer_one_neurons=32, layer_two_neurons=16, layer_two=True):\n",
    "    \n",
    "    # Instantiate the model \n",
    "    model = Sequential()\n",
    "    \n",
    "    # First layer - input and 1st hidden\n",
    "    model.add(Dense(units=layer_one_neurons, activation='relu', input_shape=(X_train_sc.shape[1], )))\n",
    "    \n",
    "    if layer_two: # If layer_two is True, add another layer, with the number of neurons\n",
    "        model.add(Dense(units=layer_two_neurons, activation='relu'))\n",
    "    \n",
    "    # Output layer\n",
    "    model.add(Dense(units=1, activation=None))\n",
    "    \n",
    "    # Compile the network\n",
    "    model.compile(loss='mse', optimizer='adam')\n",
    "    \n",
    "    return model"
   ]
  },
  {
   "cell_type": "code",
   "execution_count": 42,
   "id": "258e7ef7-3917-475e-9566-16aca2a4ce81",
   "metadata": {},
   "outputs": [],
   "source": [
    "# Wrap the function with the KerasRegressor\n",
    "nn = KerasClassifier(build_fn=model_func, epochs=10, batch_size=256, validation_data=(X_test_sc, y_test))"
   ]
  },
  {
   "cell_type": "code",
   "execution_count": 43,
   "id": "578e631b-bf19-4800-abc7-2bdfe2d90237",
   "metadata": {},
   "outputs": [
    {
     "name": "stdout",
     "output_type": "stream",
     "text": [
      "Epoch 1/10\n",
      "90/90 [==============================] - 0s 2ms/step - loss: 0.3602 - val_loss: 0.2598\n",
      "Epoch 2/10\n",
      "90/90 [==============================] - 0s 905us/step - loss: 0.2378 - val_loss: 0.2391\n",
      "Epoch 3/10\n",
      "90/90 [==============================] - 0s 933us/step - loss: 0.2203 - val_loss: 0.2315\n",
      "Epoch 4/10\n",
      "90/90 [==============================] - 0s 899us/step - loss: 0.2123 - val_loss: 0.2283\n",
      "Epoch 5/10\n",
      "90/90 [==============================] - 0s 921us/step - loss: 0.2075 - val_loss: 0.2259\n",
      "Epoch 6/10\n",
      "90/90 [==============================] - 0s 933us/step - loss: 0.2040 - val_loss: 0.2249\n",
      "Epoch 7/10\n",
      "90/90 [==============================] - 0s 899us/step - loss: 0.2008 - val_loss: 0.2235\n",
      "Epoch 8/10\n",
      "90/90 [==============================] - 0s 940us/step - loss: 0.1987 - val_loss: 0.2236\n",
      "Epoch 9/10\n",
      "90/90 [==============================] - 0s 938us/step - loss: 0.1972 - val_loss: 0.2222\n",
      "Epoch 10/10\n",
      "90/90 [==============================] - 0s 924us/step - loss: 0.1952 - val_loss: 0.2244\n"
     ]
    },
    {
     "data": {
      "text/plain": [
       "<keras.callbacks.History at 0x214c4e48370>"
      ]
     },
     "execution_count": 43,
     "metadata": {},
     "output_type": "execute_result"
    }
   ],
   "source": [
    "# I can now fit it as a Scikit-Learn model!\n",
    "nn.fit(X_train_sc, y_train)"
   ]
  },
  {
   "cell_type": "code",
   "execution_count": 44,
   "id": "b75253a5-e38c-4e36-b308-5ec45ac4a220",
   "metadata": {},
   "outputs": [
    {
     "name": "stdout",
     "output_type": "stream",
     "text": [
      "90/90 [==============================] - 0s 730us/step - loss: 0.1902\n"
     ]
    },
    {
     "ename": "ValueError",
     "evalue": "The model is not configured to compute accuracy. You should pass `metrics=[\"accuracy\"]` to the `model.compile()` method.",
     "output_type": "error",
     "traceback": [
      "\u001b[1;31m---------------------------------------------------------------------------\u001b[0m",
      "\u001b[1;31mValueError\u001b[0m                                Traceback (most recent call last)",
      "\u001b[1;32m<ipython-input-44-43348c3f7fe9>\u001b[0m in \u001b[0;36m<module>\u001b[1;34m\u001b[0m\n\u001b[0;32m      1\u001b[0m \u001b[1;31m# Score\u001b[0m\u001b[1;33m\u001b[0m\u001b[1;33m\u001b[0m\u001b[1;33m\u001b[0m\u001b[0m\n\u001b[1;32m----> 2\u001b[1;33m \u001b[0mprint\u001b[0m\u001b[1;33m(\u001b[0m\u001b[1;34mf\"Training Score (MSE): {nn.score(X_train_sc, y_train)}\"\u001b[0m\u001b[1;33m)\u001b[0m\u001b[1;33m\u001b[0m\u001b[1;33m\u001b[0m\u001b[0m\n\u001b[0m\u001b[0;32m      3\u001b[0m \u001b[0mprint\u001b[0m\u001b[1;33m(\u001b[0m\u001b[1;34m\" \"\u001b[0m\u001b[1;33m)\u001b[0m\u001b[1;33m\u001b[0m\u001b[1;33m\u001b[0m\u001b[0m\n\u001b[0;32m      4\u001b[0m \u001b[0mprint\u001b[0m\u001b[1;33m(\u001b[0m\u001b[1;34mf\"Testing Score (MSE): {nn.score(X_test_sc, y_test)}\"\u001b[0m\u001b[1;33m)\u001b[0m\u001b[1;33m\u001b[0m\u001b[1;33m\u001b[0m\u001b[0m\n",
      "\u001b[1;32m~\\AppData\\Roaming\\Python\\Python38\\site-packages\\keras\\wrappers\\scikit_learn.py\u001b[0m in \u001b[0;36mscore\u001b[1;34m(self, x, y, **kwargs)\u001b[0m\n\u001b[0;32m    304\u001b[0m       \u001b[1;32mif\u001b[0m \u001b[0mname\u001b[0m \u001b[1;32min\u001b[0m \u001b[1;33m[\u001b[0m\u001b[1;34m'accuracy'\u001b[0m\u001b[1;33m,\u001b[0m \u001b[1;34m'acc'\u001b[0m\u001b[1;33m]\u001b[0m\u001b[1;33m:\u001b[0m\u001b[1;33m\u001b[0m\u001b[1;33m\u001b[0m\u001b[0m\n\u001b[0;32m    305\u001b[0m         \u001b[1;32mreturn\u001b[0m \u001b[0moutput\u001b[0m\u001b[1;33m\u001b[0m\u001b[1;33m\u001b[0m\u001b[0m\n\u001b[1;32m--> 306\u001b[1;33m     raise ValueError('The model is not configured to compute accuracy. '\n\u001b[0m\u001b[0;32m    307\u001b[0m                      \u001b[1;34m'You should pass `metrics=[\"accuracy\"]` to '\u001b[0m\u001b[1;33m\u001b[0m\u001b[1;33m\u001b[0m\u001b[0m\n\u001b[0;32m    308\u001b[0m                      'the `model.compile()` method.')\n",
      "\u001b[1;31mValueError\u001b[0m: The model is not configured to compute accuracy. You should pass `metrics=[\"accuracy\"]` to the `model.compile()` method."
     ]
    }
   ],
   "source": [
    "# Score\n",
    "print(f\"Training Score (MSE): {nn.score(X_train_sc, y_train)}\")\n",
    "print(\" \")\n",
    "print(f\"Testing Score (MSE): {nn.score(X_test_sc, y_test)}\")"
   ]
  },
  {
   "cell_type": "code",
   "execution_count": 45,
   "id": "b0265974-cbe8-4f56-8a74-987580a216c2",
   "metadata": {},
   "outputs": [
    {
     "data": {
      "text/plain": [
       "-0.38414270138953666"
      ]
     },
     "execution_count": 45,
     "metadata": {},
     "output_type": "execute_result"
    }
   ],
   "source": [
    "# Testing R2\n",
    "metrics.r2_score(y_true=y_test, y_pred=nn.predict(X_test_sc))"
   ]
  },
  {
   "cell_type": "markdown",
   "id": "40760609-eee9-4a0e-9eb3-d63193a84c74",
   "metadata": {},
   "source": [
    "### Time to Grid Search!"
   ]
  },
  {
   "cell_type": "code",
   "execution_count": 46,
   "id": "6638fc33-7efb-42bb-a987-4106bcd1a1cc",
   "metadata": {},
   "outputs": [],
   "source": [
    "# Instantiate a model (without output)\n",
    "nn_gs = KerasClassifier(build_fn=model_func, epochs=10, batch_size=256, validation_data=(X_test_sc, y_test), verbose=0) # no output"
   ]
  },
  {
   "cell_type": "code",
   "execution_count": 47,
   "id": "d7d6a0ca-f1c3-4d0e-a038-b740d89817b6",
   "metadata": {},
   "outputs": [],
   "source": [
    "# Parameters grid\n",
    "params = {\n",
    "    'epochs':[10, 20],\n",
    "    'layer_one_neurons':[16, 32],\n",
    "    'layer_two_neurons':[16, 32],\n",
    "    'layer_two':[True, False]\n",
    "}"
   ]
  },
  {
   "cell_type": "code",
   "execution_count": 48,
   "id": "d19718dd-e6c4-45d5-8e12-995487d2003c",
   "metadata": {
    "tags": []
   },
   "outputs": [
    {
     "name": "stderr",
     "output_type": "stream",
     "text": [
      "C:\\Users\\pharr\\Anaconda\\lib\\site-packages\\sklearn\\model_selection\\_validation.py:683: UserWarning: Scoring failed. The score on this train-test partition for these parameters will be set to nan. Details: \n",
      "Traceback (most recent call last):\n",
      "  File \"C:\\Users\\pharr\\Anaconda\\lib\\site-packages\\sklearn\\model_selection\\_validation.py\", line 674, in _score\n",
      "    scores = scorer(estimator, X_test, y_test)\n",
      "  File \"C:\\Users\\pharr\\Anaconda\\lib\\site-packages\\sklearn\\metrics\\_scorer.py\", line 397, in _passthrough_scorer\n",
      "    return estimator.score(*args, **kwargs)\n",
      "  File \"C:\\Users\\pharr\\AppData\\Roaming\\Python\\Python38\\site-packages\\keras\\wrappers\\scikit_learn.py\", line 306, in score\n",
      "    raise ValueError('The model is not configured to compute accuracy. '\n",
      "ValueError: The model is not configured to compute accuracy. You should pass `metrics=[\"accuracy\"]` to the `model.compile()` method.\n",
      "\n",
      "  warnings.warn(\n",
      "C:\\Users\\pharr\\Anaconda\\lib\\site-packages\\sklearn\\model_selection\\_validation.py:683: UserWarning: Scoring failed. The score on this train-test partition for these parameters will be set to nan. Details: \n",
      "Traceback (most recent call last):\n",
      "  File \"C:\\Users\\pharr\\Anaconda\\lib\\site-packages\\sklearn\\model_selection\\_validation.py\", line 674, in _score\n",
      "    scores = scorer(estimator, X_test, y_test)\n",
      "  File \"C:\\Users\\pharr\\Anaconda\\lib\\site-packages\\sklearn\\metrics\\_scorer.py\", line 397, in _passthrough_scorer\n",
      "    return estimator.score(*args, **kwargs)\n",
      "  File \"C:\\Users\\pharr\\AppData\\Roaming\\Python\\Python38\\site-packages\\keras\\wrappers\\scikit_learn.py\", line 306, in score\n",
      "    raise ValueError('The model is not configured to compute accuracy. '\n",
      "ValueError: The model is not configured to compute accuracy. You should pass `metrics=[\"accuracy\"]` to the `model.compile()` method.\n",
      "\n",
      "  warnings.warn(\n",
      "C:\\Users\\pharr\\Anaconda\\lib\\site-packages\\sklearn\\model_selection\\_validation.py:683: UserWarning: Scoring failed. The score on this train-test partition for these parameters will be set to nan. Details: \n",
      "Traceback (most recent call last):\n",
      "  File \"C:\\Users\\pharr\\Anaconda\\lib\\site-packages\\sklearn\\model_selection\\_validation.py\", line 674, in _score\n",
      "    scores = scorer(estimator, X_test, y_test)\n",
      "  File \"C:\\Users\\pharr\\Anaconda\\lib\\site-packages\\sklearn\\metrics\\_scorer.py\", line 397, in _passthrough_scorer\n",
      "    return estimator.score(*args, **kwargs)\n",
      "  File \"C:\\Users\\pharr\\AppData\\Roaming\\Python\\Python38\\site-packages\\keras\\wrappers\\scikit_learn.py\", line 306, in score\n",
      "    raise ValueError('The model is not configured to compute accuracy. '\n",
      "ValueError: The model is not configured to compute accuracy. You should pass `metrics=[\"accuracy\"]` to the `model.compile()` method.\n",
      "\n",
      "  warnings.warn(\n",
      "C:\\Users\\pharr\\Anaconda\\lib\\site-packages\\sklearn\\model_selection\\_validation.py:683: UserWarning: Scoring failed. The score on this train-test partition for these parameters will be set to nan. Details: \n",
      "Traceback (most recent call last):\n",
      "  File \"C:\\Users\\pharr\\Anaconda\\lib\\site-packages\\sklearn\\model_selection\\_validation.py\", line 674, in _score\n",
      "    scores = scorer(estimator, X_test, y_test)\n",
      "  File \"C:\\Users\\pharr\\Anaconda\\lib\\site-packages\\sklearn\\metrics\\_scorer.py\", line 397, in _passthrough_scorer\n",
      "    return estimator.score(*args, **kwargs)\n",
      "  File \"C:\\Users\\pharr\\AppData\\Roaming\\Python\\Python38\\site-packages\\keras\\wrappers\\scikit_learn.py\", line 306, in score\n",
      "    raise ValueError('The model is not configured to compute accuracy. '\n",
      "ValueError: The model is not configured to compute accuracy. You should pass `metrics=[\"accuracy\"]` to the `model.compile()` method.\n",
      "\n",
      "  warnings.warn(\n",
      "C:\\Users\\pharr\\Anaconda\\lib\\site-packages\\sklearn\\model_selection\\_validation.py:683: UserWarning: Scoring failed. The score on this train-test partition for these parameters will be set to nan. Details: \n",
      "Traceback (most recent call last):\n",
      "  File \"C:\\Users\\pharr\\Anaconda\\lib\\site-packages\\sklearn\\model_selection\\_validation.py\", line 674, in _score\n",
      "    scores = scorer(estimator, X_test, y_test)\n",
      "  File \"C:\\Users\\pharr\\Anaconda\\lib\\site-packages\\sklearn\\metrics\\_scorer.py\", line 397, in _passthrough_scorer\n",
      "    return estimator.score(*args, **kwargs)\n",
      "  File \"C:\\Users\\pharr\\AppData\\Roaming\\Python\\Python38\\site-packages\\keras\\wrappers\\scikit_learn.py\", line 306, in score\n",
      "    raise ValueError('The model is not configured to compute accuracy. '\n",
      "ValueError: The model is not configured to compute accuracy. You should pass `metrics=[\"accuracy\"]` to the `model.compile()` method.\n",
      "\n",
      "  warnings.warn(\n",
      "C:\\Users\\pharr\\Anaconda\\lib\\site-packages\\sklearn\\model_selection\\_validation.py:683: UserWarning: Scoring failed. The score on this train-test partition for these parameters will be set to nan. Details: \n",
      "Traceback (most recent call last):\n",
      "  File \"C:\\Users\\pharr\\Anaconda\\lib\\site-packages\\sklearn\\model_selection\\_validation.py\", line 674, in _score\n",
      "    scores = scorer(estimator, X_test, y_test)\n",
      "  File \"C:\\Users\\pharr\\Anaconda\\lib\\site-packages\\sklearn\\metrics\\_scorer.py\", line 397, in _passthrough_scorer\n",
      "    return estimator.score(*args, **kwargs)\n",
      "  File \"C:\\Users\\pharr\\AppData\\Roaming\\Python\\Python38\\site-packages\\keras\\wrappers\\scikit_learn.py\", line 306, in score\n",
      "    raise ValueError('The model is not configured to compute accuracy. '\n",
      "ValueError: The model is not configured to compute accuracy. You should pass `metrics=[\"accuracy\"]` to the `model.compile()` method.\n",
      "\n",
      "  warnings.warn(\n",
      "C:\\Users\\pharr\\Anaconda\\lib\\site-packages\\sklearn\\model_selection\\_validation.py:683: UserWarning: Scoring failed. The score on this train-test partition for these parameters will be set to nan. Details: \n",
      "Traceback (most recent call last):\n",
      "  File \"C:\\Users\\pharr\\Anaconda\\lib\\site-packages\\sklearn\\model_selection\\_validation.py\", line 674, in _score\n",
      "    scores = scorer(estimator, X_test, y_test)\n",
      "  File \"C:\\Users\\pharr\\Anaconda\\lib\\site-packages\\sklearn\\metrics\\_scorer.py\", line 397, in _passthrough_scorer\n",
      "    return estimator.score(*args, **kwargs)\n",
      "  File \"C:\\Users\\pharr\\AppData\\Roaming\\Python\\Python38\\site-packages\\keras\\wrappers\\scikit_learn.py\", line 306, in score\n",
      "    raise ValueError('The model is not configured to compute accuracy. '\n",
      "ValueError: The model is not configured to compute accuracy. You should pass `metrics=[\"accuracy\"]` to the `model.compile()` method.\n",
      "\n",
      "  warnings.warn(\n",
      "C:\\Users\\pharr\\Anaconda\\lib\\site-packages\\sklearn\\model_selection\\_validation.py:683: UserWarning: Scoring failed. The score on this train-test partition for these parameters will be set to nan. Details: \n",
      "Traceback (most recent call last):\n",
      "  File \"C:\\Users\\pharr\\Anaconda\\lib\\site-packages\\sklearn\\model_selection\\_validation.py\", line 674, in _score\n",
      "    scores = scorer(estimator, X_test, y_test)\n",
      "  File \"C:\\Users\\pharr\\Anaconda\\lib\\site-packages\\sklearn\\metrics\\_scorer.py\", line 397, in _passthrough_scorer\n",
      "    return estimator.score(*args, **kwargs)\n",
      "  File \"C:\\Users\\pharr\\AppData\\Roaming\\Python\\Python38\\site-packages\\keras\\wrappers\\scikit_learn.py\", line 306, in score\n",
      "    raise ValueError('The model is not configured to compute accuracy. '\n",
      "ValueError: The model is not configured to compute accuracy. You should pass `metrics=[\"accuracy\"]` to the `model.compile()` method.\n",
      "\n",
      "  warnings.warn(\n",
      "C:\\Users\\pharr\\Anaconda\\lib\\site-packages\\sklearn\\model_selection\\_validation.py:683: UserWarning: Scoring failed. The score on this train-test partition for these parameters will be set to nan. Details: \n",
      "Traceback (most recent call last):\n",
      "  File \"C:\\Users\\pharr\\Anaconda\\lib\\site-packages\\sklearn\\model_selection\\_validation.py\", line 674, in _score\n",
      "    scores = scorer(estimator, X_test, y_test)\n",
      "  File \"C:\\Users\\pharr\\Anaconda\\lib\\site-packages\\sklearn\\metrics\\_scorer.py\", line 397, in _passthrough_scorer\n",
      "    return estimator.score(*args, **kwargs)\n",
      "  File \"C:\\Users\\pharr\\AppData\\Roaming\\Python\\Python38\\site-packages\\keras\\wrappers\\scikit_learn.py\", line 306, in score\n",
      "    raise ValueError('The model is not configured to compute accuracy. '\n",
      "ValueError: The model is not configured to compute accuracy. You should pass `metrics=[\"accuracy\"]` to the `model.compile()` method.\n",
      "\n",
      "  warnings.warn(\n",
      "C:\\Users\\pharr\\Anaconda\\lib\\site-packages\\sklearn\\model_selection\\_validation.py:683: UserWarning: Scoring failed. The score on this train-test partition for these parameters will be set to nan. Details: \n",
      "Traceback (most recent call last):\n",
      "  File \"C:\\Users\\pharr\\Anaconda\\lib\\site-packages\\sklearn\\model_selection\\_validation.py\", line 674, in _score\n",
      "    scores = scorer(estimator, X_test, y_test)\n",
      "  File \"C:\\Users\\pharr\\Anaconda\\lib\\site-packages\\sklearn\\metrics\\_scorer.py\", line 397, in _passthrough_scorer\n",
      "    return estimator.score(*args, **kwargs)\n",
      "  File \"C:\\Users\\pharr\\AppData\\Roaming\\Python\\Python38\\site-packages\\keras\\wrappers\\scikit_learn.py\", line 306, in score\n",
      "    raise ValueError('The model is not configured to compute accuracy. '\n",
      "ValueError: The model is not configured to compute accuracy. You should pass `metrics=[\"accuracy\"]` to the `model.compile()` method.\n",
      "\n",
      "  warnings.warn(\n",
      "C:\\Users\\pharr\\Anaconda\\lib\\site-packages\\sklearn\\model_selection\\_validation.py:683: UserWarning: Scoring failed. The score on this train-test partition for these parameters will be set to nan. Details: \n",
      "Traceback (most recent call last):\n",
      "  File \"C:\\Users\\pharr\\Anaconda\\lib\\site-packages\\sklearn\\model_selection\\_validation.py\", line 674, in _score\n",
      "    scores = scorer(estimator, X_test, y_test)\n",
      "  File \"C:\\Users\\pharr\\Anaconda\\lib\\site-packages\\sklearn\\metrics\\_scorer.py\", line 397, in _passthrough_scorer\n",
      "    return estimator.score(*args, **kwargs)\n",
      "  File \"C:\\Users\\pharr\\AppData\\Roaming\\Python\\Python38\\site-packages\\keras\\wrappers\\scikit_learn.py\", line 306, in score\n",
      "    raise ValueError('The model is not configured to compute accuracy. '\n",
      "ValueError: The model is not configured to compute accuracy. You should pass `metrics=[\"accuracy\"]` to the `model.compile()` method.\n",
      "\n",
      "  warnings.warn(\n",
      "C:\\Users\\pharr\\Anaconda\\lib\\site-packages\\sklearn\\model_selection\\_validation.py:683: UserWarning: Scoring failed. The score on this train-test partition for these parameters will be set to nan. Details: \n",
      "Traceback (most recent call last):\n",
      "  File \"C:\\Users\\pharr\\Anaconda\\lib\\site-packages\\sklearn\\model_selection\\_validation.py\", line 674, in _score\n",
      "    scores = scorer(estimator, X_test, y_test)\n",
      "  File \"C:\\Users\\pharr\\Anaconda\\lib\\site-packages\\sklearn\\metrics\\_scorer.py\", line 397, in _passthrough_scorer\n",
      "    return estimator.score(*args, **kwargs)\n",
      "  File \"C:\\Users\\pharr\\AppData\\Roaming\\Python\\Python38\\site-packages\\keras\\wrappers\\scikit_learn.py\", line 306, in score\n",
      "    raise ValueError('The model is not configured to compute accuracy. '\n",
      "ValueError: The model is not configured to compute accuracy. You should pass `metrics=[\"accuracy\"]` to the `model.compile()` method.\n",
      "\n",
      "  warnings.warn(\n",
      "C:\\Users\\pharr\\Anaconda\\lib\\site-packages\\sklearn\\model_selection\\_validation.py:683: UserWarning: Scoring failed. The score on this train-test partition for these parameters will be set to nan. Details: \n",
      "Traceback (most recent call last):\n",
      "  File \"C:\\Users\\pharr\\Anaconda\\lib\\site-packages\\sklearn\\model_selection\\_validation.py\", line 674, in _score\n",
      "    scores = scorer(estimator, X_test, y_test)\n",
      "  File \"C:\\Users\\pharr\\Anaconda\\lib\\site-packages\\sklearn\\metrics\\_scorer.py\", line 397, in _passthrough_scorer\n",
      "    return estimator.score(*args, **kwargs)\n",
      "  File \"C:\\Users\\pharr\\AppData\\Roaming\\Python\\Python38\\site-packages\\keras\\wrappers\\scikit_learn.py\", line 306, in score\n",
      "    raise ValueError('The model is not configured to compute accuracy. '\n",
      "ValueError: The model is not configured to compute accuracy. You should pass `metrics=[\"accuracy\"]` to the `model.compile()` method.\n",
      "\n",
      "  warnings.warn(\n",
      "C:\\Users\\pharr\\Anaconda\\lib\\site-packages\\sklearn\\model_selection\\_validation.py:683: UserWarning: Scoring failed. The score on this train-test partition for these parameters will be set to nan. Details: \n",
      "Traceback (most recent call last):\n",
      "  File \"C:\\Users\\pharr\\Anaconda\\lib\\site-packages\\sklearn\\model_selection\\_validation.py\", line 674, in _score\n",
      "    scores = scorer(estimator, X_test, y_test)\n",
      "  File \"C:\\Users\\pharr\\Anaconda\\lib\\site-packages\\sklearn\\metrics\\_scorer.py\", line 397, in _passthrough_scorer\n",
      "    return estimator.score(*args, **kwargs)\n",
      "  File \"C:\\Users\\pharr\\AppData\\Roaming\\Python\\Python38\\site-packages\\keras\\wrappers\\scikit_learn.py\", line 306, in score\n",
      "    raise ValueError('The model is not configured to compute accuracy. '\n",
      "ValueError: The model is not configured to compute accuracy. You should pass `metrics=[\"accuracy\"]` to the `model.compile()` method.\n",
      "\n",
      "  warnings.warn(\n",
      "C:\\Users\\pharr\\Anaconda\\lib\\site-packages\\sklearn\\model_selection\\_validation.py:683: UserWarning: Scoring failed. The score on this train-test partition for these parameters will be set to nan. Details: \n",
      "Traceback (most recent call last):\n",
      "  File \"C:\\Users\\pharr\\Anaconda\\lib\\site-packages\\sklearn\\model_selection\\_validation.py\", line 674, in _score\n",
      "    scores = scorer(estimator, X_test, y_test)\n",
      "  File \"C:\\Users\\pharr\\Anaconda\\lib\\site-packages\\sklearn\\metrics\\_scorer.py\", line 397, in _passthrough_scorer\n",
      "    return estimator.score(*args, **kwargs)\n",
      "  File \"C:\\Users\\pharr\\AppData\\Roaming\\Python\\Python38\\site-packages\\keras\\wrappers\\scikit_learn.py\", line 306, in score\n",
      "    raise ValueError('The model is not configured to compute accuracy. '\n",
      "ValueError: The model is not configured to compute accuracy. You should pass `metrics=[\"accuracy\"]` to the `model.compile()` method.\n",
      "\n",
      "  warnings.warn(\n",
      "C:\\Users\\pharr\\Anaconda\\lib\\site-packages\\sklearn\\model_selection\\_validation.py:683: UserWarning: Scoring failed. The score on this train-test partition for these parameters will be set to nan. Details: \n",
      "Traceback (most recent call last):\n",
      "  File \"C:\\Users\\pharr\\Anaconda\\lib\\site-packages\\sklearn\\model_selection\\_validation.py\", line 674, in _score\n",
      "    scores = scorer(estimator, X_test, y_test)\n",
      "  File \"C:\\Users\\pharr\\Anaconda\\lib\\site-packages\\sklearn\\metrics\\_scorer.py\", line 397, in _passthrough_scorer\n",
      "    return estimator.score(*args, **kwargs)\n",
      "  File \"C:\\Users\\pharr\\AppData\\Roaming\\Python\\Python38\\site-packages\\keras\\wrappers\\scikit_learn.py\", line 306, in score\n",
      "    raise ValueError('The model is not configured to compute accuracy. '\n",
      "ValueError: The model is not configured to compute accuracy. You should pass `metrics=[\"accuracy\"]` to the `model.compile()` method.\n",
      "\n",
      "  warnings.warn(\n",
      "C:\\Users\\pharr\\Anaconda\\lib\\site-packages\\sklearn\\model_selection\\_validation.py:683: UserWarning: Scoring failed. The score on this train-test partition for these parameters will be set to nan. Details: \n",
      "Traceback (most recent call last):\n",
      "  File \"C:\\Users\\pharr\\Anaconda\\lib\\site-packages\\sklearn\\model_selection\\_validation.py\", line 674, in _score\n",
      "    scores = scorer(estimator, X_test, y_test)\n",
      "  File \"C:\\Users\\pharr\\Anaconda\\lib\\site-packages\\sklearn\\metrics\\_scorer.py\", line 397, in _passthrough_scorer\n",
      "    return estimator.score(*args, **kwargs)\n",
      "  File \"C:\\Users\\pharr\\AppData\\Roaming\\Python\\Python38\\site-packages\\keras\\wrappers\\scikit_learn.py\", line 306, in score\n",
      "    raise ValueError('The model is not configured to compute accuracy. '\n",
      "ValueError: The model is not configured to compute accuracy. You should pass `metrics=[\"accuracy\"]` to the `model.compile()` method.\n",
      "\n",
      "  warnings.warn(\n",
      "C:\\Users\\pharr\\Anaconda\\lib\\site-packages\\sklearn\\model_selection\\_validation.py:683: UserWarning: Scoring failed. The score on this train-test partition for these parameters will be set to nan. Details: \n",
      "Traceback (most recent call last):\n",
      "  File \"C:\\Users\\pharr\\Anaconda\\lib\\site-packages\\sklearn\\model_selection\\_validation.py\", line 674, in _score\n",
      "    scores = scorer(estimator, X_test, y_test)\n",
      "  File \"C:\\Users\\pharr\\Anaconda\\lib\\site-packages\\sklearn\\metrics\\_scorer.py\", line 397, in _passthrough_scorer\n",
      "    return estimator.score(*args, **kwargs)\n",
      "  File \"C:\\Users\\pharr\\AppData\\Roaming\\Python\\Python38\\site-packages\\keras\\wrappers\\scikit_learn.py\", line 306, in score\n",
      "    raise ValueError('The model is not configured to compute accuracy. '\n",
      "ValueError: The model is not configured to compute accuracy. You should pass `metrics=[\"accuracy\"]` to the `model.compile()` method.\n",
      "\n",
      "  warnings.warn(\n",
      "C:\\Users\\pharr\\Anaconda\\lib\\site-packages\\sklearn\\model_selection\\_validation.py:683: UserWarning: Scoring failed. The score on this train-test partition for these parameters will be set to nan. Details: \n",
      "Traceback (most recent call last):\n",
      "  File \"C:\\Users\\pharr\\Anaconda\\lib\\site-packages\\sklearn\\model_selection\\_validation.py\", line 674, in _score\n",
      "    scores = scorer(estimator, X_test, y_test)\n",
      "  File \"C:\\Users\\pharr\\Anaconda\\lib\\site-packages\\sklearn\\metrics\\_scorer.py\", line 397, in _passthrough_scorer\n",
      "    return estimator.score(*args, **kwargs)\n",
      "  File \"C:\\Users\\pharr\\AppData\\Roaming\\Python\\Python38\\site-packages\\keras\\wrappers\\scikit_learn.py\", line 306, in score\n",
      "    raise ValueError('The model is not configured to compute accuracy. '\n",
      "ValueError: The model is not configured to compute accuracy. You should pass `metrics=[\"accuracy\"]` to the `model.compile()` method.\n",
      "\n",
      "  warnings.warn(\n",
      "C:\\Users\\pharr\\Anaconda\\lib\\site-packages\\sklearn\\model_selection\\_validation.py:683: UserWarning: Scoring failed. The score on this train-test partition for these parameters will be set to nan. Details: \n",
      "Traceback (most recent call last):\n",
      "  File \"C:\\Users\\pharr\\Anaconda\\lib\\site-packages\\sklearn\\model_selection\\_validation.py\", line 674, in _score\n",
      "    scores = scorer(estimator, X_test, y_test)\n",
      "  File \"C:\\Users\\pharr\\Anaconda\\lib\\site-packages\\sklearn\\metrics\\_scorer.py\", line 397, in _passthrough_scorer\n",
      "    return estimator.score(*args, **kwargs)\n",
      "  File \"C:\\Users\\pharr\\AppData\\Roaming\\Python\\Python38\\site-packages\\keras\\wrappers\\scikit_learn.py\", line 306, in score\n",
      "    raise ValueError('The model is not configured to compute accuracy. '\n",
      "ValueError: The model is not configured to compute accuracy. You should pass `metrics=[\"accuracy\"]` to the `model.compile()` method.\n",
      "\n",
      "  warnings.warn(\n",
      "C:\\Users\\pharr\\Anaconda\\lib\\site-packages\\sklearn\\model_selection\\_validation.py:683: UserWarning: Scoring failed. The score on this train-test partition for these parameters will be set to nan. Details: \n",
      "Traceback (most recent call last):\n",
      "  File \"C:\\Users\\pharr\\Anaconda\\lib\\site-packages\\sklearn\\model_selection\\_validation.py\", line 674, in _score\n",
      "    scores = scorer(estimator, X_test, y_test)\n",
      "  File \"C:\\Users\\pharr\\Anaconda\\lib\\site-packages\\sklearn\\metrics\\_scorer.py\", line 397, in _passthrough_scorer\n",
      "    return estimator.score(*args, **kwargs)\n",
      "  File \"C:\\Users\\pharr\\AppData\\Roaming\\Python\\Python38\\site-packages\\keras\\wrappers\\scikit_learn.py\", line 306, in score\n",
      "    raise ValueError('The model is not configured to compute accuracy. '\n",
      "ValueError: The model is not configured to compute accuracy. You should pass `metrics=[\"accuracy\"]` to the `model.compile()` method.\n",
      "\n",
      "  warnings.warn(\n",
      "C:\\Users\\pharr\\Anaconda\\lib\\site-packages\\sklearn\\model_selection\\_validation.py:683: UserWarning: Scoring failed. The score on this train-test partition for these parameters will be set to nan. Details: \n",
      "Traceback (most recent call last):\n",
      "  File \"C:\\Users\\pharr\\Anaconda\\lib\\site-packages\\sklearn\\model_selection\\_validation.py\", line 674, in _score\n",
      "    scores = scorer(estimator, X_test, y_test)\n",
      "  File \"C:\\Users\\pharr\\Anaconda\\lib\\site-packages\\sklearn\\metrics\\_scorer.py\", line 397, in _passthrough_scorer\n",
      "    return estimator.score(*args, **kwargs)\n",
      "  File \"C:\\Users\\pharr\\AppData\\Roaming\\Python\\Python38\\site-packages\\keras\\wrappers\\scikit_learn.py\", line 306, in score\n",
      "    raise ValueError('The model is not configured to compute accuracy. '\n",
      "ValueError: The model is not configured to compute accuracy. You should pass `metrics=[\"accuracy\"]` to the `model.compile()` method.\n",
      "\n",
      "  warnings.warn(\n",
      "C:\\Users\\pharr\\Anaconda\\lib\\site-packages\\sklearn\\model_selection\\_validation.py:683: UserWarning: Scoring failed. The score on this train-test partition for these parameters will be set to nan. Details: \n",
      "Traceback (most recent call last):\n",
      "  File \"C:\\Users\\pharr\\Anaconda\\lib\\site-packages\\sklearn\\model_selection\\_validation.py\", line 674, in _score\n",
      "    scores = scorer(estimator, X_test, y_test)\n",
      "  File \"C:\\Users\\pharr\\Anaconda\\lib\\site-packages\\sklearn\\metrics\\_scorer.py\", line 397, in _passthrough_scorer\n",
      "    return estimator.score(*args, **kwargs)\n",
      "  File \"C:\\Users\\pharr\\AppData\\Roaming\\Python\\Python38\\site-packages\\keras\\wrappers\\scikit_learn.py\", line 306, in score\n",
      "    raise ValueError('The model is not configured to compute accuracy. '\n",
      "ValueError: The model is not configured to compute accuracy. You should pass `metrics=[\"accuracy\"]` to the `model.compile()` method.\n",
      "\n",
      "  warnings.warn(\n",
      "C:\\Users\\pharr\\Anaconda\\lib\\site-packages\\sklearn\\model_selection\\_validation.py:683: UserWarning: Scoring failed. The score on this train-test partition for these parameters will be set to nan. Details: \n",
      "Traceback (most recent call last):\n",
      "  File \"C:\\Users\\pharr\\Anaconda\\lib\\site-packages\\sklearn\\model_selection\\_validation.py\", line 674, in _score\n",
      "    scores = scorer(estimator, X_test, y_test)\n",
      "  File \"C:\\Users\\pharr\\Anaconda\\lib\\site-packages\\sklearn\\metrics\\_scorer.py\", line 397, in _passthrough_scorer\n",
      "    return estimator.score(*args, **kwargs)\n",
      "  File \"C:\\Users\\pharr\\AppData\\Roaming\\Python\\Python38\\site-packages\\keras\\wrappers\\scikit_learn.py\", line 306, in score\n",
      "    raise ValueError('The model is not configured to compute accuracy. '\n",
      "ValueError: The model is not configured to compute accuracy. You should pass `metrics=[\"accuracy\"]` to the `model.compile()` method.\n",
      "\n",
      "  warnings.warn(\n",
      "C:\\Users\\pharr\\Anaconda\\lib\\site-packages\\sklearn\\model_selection\\_validation.py:683: UserWarning: Scoring failed. The score on this train-test partition for these parameters will be set to nan. Details: \n",
      "Traceback (most recent call last):\n",
      "  File \"C:\\Users\\pharr\\Anaconda\\lib\\site-packages\\sklearn\\model_selection\\_validation.py\", line 674, in _score\n",
      "    scores = scorer(estimator, X_test, y_test)\n",
      "  File \"C:\\Users\\pharr\\Anaconda\\lib\\site-packages\\sklearn\\metrics\\_scorer.py\", line 397, in _passthrough_scorer\n",
      "    return estimator.score(*args, **kwargs)\n",
      "  File \"C:\\Users\\pharr\\AppData\\Roaming\\Python\\Python38\\site-packages\\keras\\wrappers\\scikit_learn.py\", line 306, in score\n",
      "    raise ValueError('The model is not configured to compute accuracy. '\n",
      "ValueError: The model is not configured to compute accuracy. You should pass `metrics=[\"accuracy\"]` to the `model.compile()` method.\n",
      "\n",
      "  warnings.warn(\n",
      "C:\\Users\\pharr\\Anaconda\\lib\\site-packages\\sklearn\\model_selection\\_validation.py:683: UserWarning: Scoring failed. The score on this train-test partition for these parameters will be set to nan. Details: \n",
      "Traceback (most recent call last):\n",
      "  File \"C:\\Users\\pharr\\Anaconda\\lib\\site-packages\\sklearn\\model_selection\\_validation.py\", line 674, in _score\n",
      "    scores = scorer(estimator, X_test, y_test)\n",
      "  File \"C:\\Users\\pharr\\Anaconda\\lib\\site-packages\\sklearn\\metrics\\_scorer.py\", line 397, in _passthrough_scorer\n",
      "    return estimator.score(*args, **kwargs)\n",
      "  File \"C:\\Users\\pharr\\AppData\\Roaming\\Python\\Python38\\site-packages\\keras\\wrappers\\scikit_learn.py\", line 306, in score\n",
      "    raise ValueError('The model is not configured to compute accuracy. '\n",
      "ValueError: The model is not configured to compute accuracy. You should pass `metrics=[\"accuracy\"]` to the `model.compile()` method.\n",
      "\n",
      "  warnings.warn(\n",
      "C:\\Users\\pharr\\Anaconda\\lib\\site-packages\\sklearn\\model_selection\\_validation.py:683: UserWarning: Scoring failed. The score on this train-test partition for these parameters will be set to nan. Details: \n",
      "Traceback (most recent call last):\n",
      "  File \"C:\\Users\\pharr\\Anaconda\\lib\\site-packages\\sklearn\\model_selection\\_validation.py\", line 674, in _score\n",
      "    scores = scorer(estimator, X_test, y_test)\n",
      "  File \"C:\\Users\\pharr\\Anaconda\\lib\\site-packages\\sklearn\\metrics\\_scorer.py\", line 397, in _passthrough_scorer\n",
      "    return estimator.score(*args, **kwargs)\n",
      "  File \"C:\\Users\\pharr\\AppData\\Roaming\\Python\\Python38\\site-packages\\keras\\wrappers\\scikit_learn.py\", line 306, in score\n",
      "    raise ValueError('The model is not configured to compute accuracy. '\n",
      "ValueError: The model is not configured to compute accuracy. You should pass `metrics=[\"accuracy\"]` to the `model.compile()` method.\n",
      "\n",
      "  warnings.warn(\n",
      "C:\\Users\\pharr\\Anaconda\\lib\\site-packages\\sklearn\\model_selection\\_validation.py:683: UserWarning: Scoring failed. The score on this train-test partition for these parameters will be set to nan. Details: \n",
      "Traceback (most recent call last):\n",
      "  File \"C:\\Users\\pharr\\Anaconda\\lib\\site-packages\\sklearn\\model_selection\\_validation.py\", line 674, in _score\n",
      "    scores = scorer(estimator, X_test, y_test)\n",
      "  File \"C:\\Users\\pharr\\Anaconda\\lib\\site-packages\\sklearn\\metrics\\_scorer.py\", line 397, in _passthrough_scorer\n",
      "    return estimator.score(*args, **kwargs)\n",
      "  File \"C:\\Users\\pharr\\AppData\\Roaming\\Python\\Python38\\site-packages\\keras\\wrappers\\scikit_learn.py\", line 306, in score\n",
      "    raise ValueError('The model is not configured to compute accuracy. '\n",
      "ValueError: The model is not configured to compute accuracy. You should pass `metrics=[\"accuracy\"]` to the `model.compile()` method.\n",
      "\n",
      "  warnings.warn(\n",
      "C:\\Users\\pharr\\Anaconda\\lib\\site-packages\\sklearn\\model_selection\\_validation.py:683: UserWarning: Scoring failed. The score on this train-test partition for these parameters will be set to nan. Details: \n",
      "Traceback (most recent call last):\n",
      "  File \"C:\\Users\\pharr\\Anaconda\\lib\\site-packages\\sklearn\\model_selection\\_validation.py\", line 674, in _score\n",
      "    scores = scorer(estimator, X_test, y_test)\n",
      "  File \"C:\\Users\\pharr\\Anaconda\\lib\\site-packages\\sklearn\\metrics\\_scorer.py\", line 397, in _passthrough_scorer\n",
      "    return estimator.score(*args, **kwargs)\n",
      "  File \"C:\\Users\\pharr\\AppData\\Roaming\\Python\\Python38\\site-packages\\keras\\wrappers\\scikit_learn.py\", line 306, in score\n",
      "    raise ValueError('The model is not configured to compute accuracy. '\n",
      "ValueError: The model is not configured to compute accuracy. You should pass `metrics=[\"accuracy\"]` to the `model.compile()` method.\n",
      "\n",
      "  warnings.warn(\n",
      "C:\\Users\\pharr\\Anaconda\\lib\\site-packages\\sklearn\\model_selection\\_validation.py:683: UserWarning: Scoring failed. The score on this train-test partition for these parameters will be set to nan. Details: \n",
      "Traceback (most recent call last):\n",
      "  File \"C:\\Users\\pharr\\Anaconda\\lib\\site-packages\\sklearn\\model_selection\\_validation.py\", line 674, in _score\n",
      "    scores = scorer(estimator, X_test, y_test)\n",
      "  File \"C:\\Users\\pharr\\Anaconda\\lib\\site-packages\\sklearn\\metrics\\_scorer.py\", line 397, in _passthrough_scorer\n",
      "    return estimator.score(*args, **kwargs)\n",
      "  File \"C:\\Users\\pharr\\AppData\\Roaming\\Python\\Python38\\site-packages\\keras\\wrappers\\scikit_learn.py\", line 306, in score\n",
      "    raise ValueError('The model is not configured to compute accuracy. '\n",
      "ValueError: The model is not configured to compute accuracy. You should pass `metrics=[\"accuracy\"]` to the `model.compile()` method.\n",
      "\n",
      "  warnings.warn(\n",
      "C:\\Users\\pharr\\Anaconda\\lib\\site-packages\\sklearn\\model_selection\\_validation.py:683: UserWarning: Scoring failed. The score on this train-test partition for these parameters will be set to nan. Details: \n",
      "Traceback (most recent call last):\n",
      "  File \"C:\\Users\\pharr\\Anaconda\\lib\\site-packages\\sklearn\\model_selection\\_validation.py\", line 674, in _score\n",
      "    scores = scorer(estimator, X_test, y_test)\n",
      "  File \"C:\\Users\\pharr\\Anaconda\\lib\\site-packages\\sklearn\\metrics\\_scorer.py\", line 397, in _passthrough_scorer\n",
      "    return estimator.score(*args, **kwargs)\n",
      "  File \"C:\\Users\\pharr\\AppData\\Roaming\\Python\\Python38\\site-packages\\keras\\wrappers\\scikit_learn.py\", line 306, in score\n",
      "    raise ValueError('The model is not configured to compute accuracy. '\n",
      "ValueError: The model is not configured to compute accuracy. You should pass `metrics=[\"accuracy\"]` to the `model.compile()` method.\n",
      "\n",
      "  warnings.warn(\n",
      "C:\\Users\\pharr\\Anaconda\\lib\\site-packages\\sklearn\\model_selection\\_validation.py:683: UserWarning: Scoring failed. The score on this train-test partition for these parameters will be set to nan. Details: \n",
      "Traceback (most recent call last):\n",
      "  File \"C:\\Users\\pharr\\Anaconda\\lib\\site-packages\\sklearn\\model_selection\\_validation.py\", line 674, in _score\n",
      "    scores = scorer(estimator, X_test, y_test)\n",
      "  File \"C:\\Users\\pharr\\Anaconda\\lib\\site-packages\\sklearn\\metrics\\_scorer.py\", line 397, in _passthrough_scorer\n",
      "    return estimator.score(*args, **kwargs)\n",
      "  File \"C:\\Users\\pharr\\AppData\\Roaming\\Python\\Python38\\site-packages\\keras\\wrappers\\scikit_learn.py\", line 306, in score\n",
      "    raise ValueError('The model is not configured to compute accuracy. '\n",
      "ValueError: The model is not configured to compute accuracy. You should pass `metrics=[\"accuracy\"]` to the `model.compile()` method.\n",
      "\n",
      "  warnings.warn(\n",
      "C:\\Users\\pharr\\Anaconda\\lib\\site-packages\\sklearn\\model_selection\\_validation.py:683: UserWarning: Scoring failed. The score on this train-test partition for these parameters will be set to nan. Details: \n",
      "Traceback (most recent call last):\n",
      "  File \"C:\\Users\\pharr\\Anaconda\\lib\\site-packages\\sklearn\\model_selection\\_validation.py\", line 674, in _score\n",
      "    scores = scorer(estimator, X_test, y_test)\n",
      "  File \"C:\\Users\\pharr\\Anaconda\\lib\\site-packages\\sklearn\\metrics\\_scorer.py\", line 397, in _passthrough_scorer\n",
      "    return estimator.score(*args, **kwargs)\n",
      "  File \"C:\\Users\\pharr\\AppData\\Roaming\\Python\\Python38\\site-packages\\keras\\wrappers\\scikit_learn.py\", line 306, in score\n",
      "    raise ValueError('The model is not configured to compute accuracy. '\n",
      "ValueError: The model is not configured to compute accuracy. You should pass `metrics=[\"accuracy\"]` to the `model.compile()` method.\n",
      "\n",
      "  warnings.warn(\n",
      "C:\\Users\\pharr\\Anaconda\\lib\\site-packages\\sklearn\\model_selection\\_validation.py:683: UserWarning: Scoring failed. The score on this train-test partition for these parameters will be set to nan. Details: \n",
      "Traceback (most recent call last):\n",
      "  File \"C:\\Users\\pharr\\Anaconda\\lib\\site-packages\\sklearn\\model_selection\\_validation.py\", line 674, in _score\n",
      "    scores = scorer(estimator, X_test, y_test)\n",
      "  File \"C:\\Users\\pharr\\Anaconda\\lib\\site-packages\\sklearn\\metrics\\_scorer.py\", line 397, in _passthrough_scorer\n",
      "    return estimator.score(*args, **kwargs)\n",
      "  File \"C:\\Users\\pharr\\AppData\\Roaming\\Python\\Python38\\site-packages\\keras\\wrappers\\scikit_learn.py\", line 306, in score\n",
      "    raise ValueError('The model is not configured to compute accuracy. '\n",
      "ValueError: The model is not configured to compute accuracy. You should pass `metrics=[\"accuracy\"]` to the `model.compile()` method.\n",
      "\n",
      "  warnings.warn(\n",
      "C:\\Users\\pharr\\Anaconda\\lib\\site-packages\\sklearn\\model_selection\\_validation.py:683: UserWarning: Scoring failed. The score on this train-test partition for these parameters will be set to nan. Details: \n",
      "Traceback (most recent call last):\n",
      "  File \"C:\\Users\\pharr\\Anaconda\\lib\\site-packages\\sklearn\\model_selection\\_validation.py\", line 674, in _score\n",
      "    scores = scorer(estimator, X_test, y_test)\n",
      "  File \"C:\\Users\\pharr\\Anaconda\\lib\\site-packages\\sklearn\\metrics\\_scorer.py\", line 397, in _passthrough_scorer\n",
      "    return estimator.score(*args, **kwargs)\n",
      "  File \"C:\\Users\\pharr\\AppData\\Roaming\\Python\\Python38\\site-packages\\keras\\wrappers\\scikit_learn.py\", line 306, in score\n",
      "    raise ValueError('The model is not configured to compute accuracy. '\n",
      "ValueError: The model is not configured to compute accuracy. You should pass `metrics=[\"accuracy\"]` to the `model.compile()` method.\n",
      "\n",
      "  warnings.warn(\n",
      "C:\\Users\\pharr\\Anaconda\\lib\\site-packages\\sklearn\\model_selection\\_validation.py:683: UserWarning: Scoring failed. The score on this train-test partition for these parameters will be set to nan. Details: \n",
      "Traceback (most recent call last):\n",
      "  File \"C:\\Users\\pharr\\Anaconda\\lib\\site-packages\\sklearn\\model_selection\\_validation.py\", line 674, in _score\n",
      "    scores = scorer(estimator, X_test, y_test)\n",
      "  File \"C:\\Users\\pharr\\Anaconda\\lib\\site-packages\\sklearn\\metrics\\_scorer.py\", line 397, in _passthrough_scorer\n",
      "    return estimator.score(*args, **kwargs)\n",
      "  File \"C:\\Users\\pharr\\AppData\\Roaming\\Python\\Python38\\site-packages\\keras\\wrappers\\scikit_learn.py\", line 306, in score\n",
      "    raise ValueError('The model is not configured to compute accuracy. '\n",
      "ValueError: The model is not configured to compute accuracy. You should pass `metrics=[\"accuracy\"]` to the `model.compile()` method.\n",
      "\n",
      "  warnings.warn(\n",
      "C:\\Users\\pharr\\Anaconda\\lib\\site-packages\\sklearn\\model_selection\\_validation.py:683: UserWarning: Scoring failed. The score on this train-test partition for these parameters will be set to nan. Details: \n",
      "Traceback (most recent call last):\n",
      "  File \"C:\\Users\\pharr\\Anaconda\\lib\\site-packages\\sklearn\\model_selection\\_validation.py\", line 674, in _score\n",
      "    scores = scorer(estimator, X_test, y_test)\n",
      "  File \"C:\\Users\\pharr\\Anaconda\\lib\\site-packages\\sklearn\\metrics\\_scorer.py\", line 397, in _passthrough_scorer\n",
      "    return estimator.score(*args, **kwargs)\n",
      "  File \"C:\\Users\\pharr\\AppData\\Roaming\\Python\\Python38\\site-packages\\keras\\wrappers\\scikit_learn.py\", line 306, in score\n",
      "    raise ValueError('The model is not configured to compute accuracy. '\n",
      "ValueError: The model is not configured to compute accuracy. You should pass `metrics=[\"accuracy\"]` to the `model.compile()` method.\n",
      "\n",
      "  warnings.warn(\n",
      "C:\\Users\\pharr\\Anaconda\\lib\\site-packages\\sklearn\\model_selection\\_validation.py:683: UserWarning: Scoring failed. The score on this train-test partition for these parameters will be set to nan. Details: \n",
      "Traceback (most recent call last):\n",
      "  File \"C:\\Users\\pharr\\Anaconda\\lib\\site-packages\\sklearn\\model_selection\\_validation.py\", line 674, in _score\n",
      "    scores = scorer(estimator, X_test, y_test)\n",
      "  File \"C:\\Users\\pharr\\Anaconda\\lib\\site-packages\\sklearn\\metrics\\_scorer.py\", line 397, in _passthrough_scorer\n",
      "    return estimator.score(*args, **kwargs)\n",
      "  File \"C:\\Users\\pharr\\AppData\\Roaming\\Python\\Python38\\site-packages\\keras\\wrappers\\scikit_learn.py\", line 306, in score\n",
      "    raise ValueError('The model is not configured to compute accuracy. '\n",
      "ValueError: The model is not configured to compute accuracy. You should pass `metrics=[\"accuracy\"]` to the `model.compile()` method.\n",
      "\n",
      "  warnings.warn(\n",
      "C:\\Users\\pharr\\Anaconda\\lib\\site-packages\\sklearn\\model_selection\\_validation.py:683: UserWarning: Scoring failed. The score on this train-test partition for these parameters will be set to nan. Details: \n",
      "Traceback (most recent call last):\n",
      "  File \"C:\\Users\\pharr\\Anaconda\\lib\\site-packages\\sklearn\\model_selection\\_validation.py\", line 674, in _score\n",
      "    scores = scorer(estimator, X_test, y_test)\n",
      "  File \"C:\\Users\\pharr\\Anaconda\\lib\\site-packages\\sklearn\\metrics\\_scorer.py\", line 397, in _passthrough_scorer\n",
      "    return estimator.score(*args, **kwargs)\n",
      "  File \"C:\\Users\\pharr\\AppData\\Roaming\\Python\\Python38\\site-packages\\keras\\wrappers\\scikit_learn.py\", line 306, in score\n",
      "    raise ValueError('The model is not configured to compute accuracy. '\n",
      "ValueError: The model is not configured to compute accuracy. You should pass `metrics=[\"accuracy\"]` to the `model.compile()` method.\n",
      "\n",
      "  warnings.warn(\n",
      "C:\\Users\\pharr\\Anaconda\\lib\\site-packages\\sklearn\\model_selection\\_validation.py:683: UserWarning: Scoring failed. The score on this train-test partition for these parameters will be set to nan. Details: \n",
      "Traceback (most recent call last):\n",
      "  File \"C:\\Users\\pharr\\Anaconda\\lib\\site-packages\\sklearn\\model_selection\\_validation.py\", line 674, in _score\n",
      "    scores = scorer(estimator, X_test, y_test)\n",
      "  File \"C:\\Users\\pharr\\Anaconda\\lib\\site-packages\\sklearn\\metrics\\_scorer.py\", line 397, in _passthrough_scorer\n",
      "    return estimator.score(*args, **kwargs)\n",
      "  File \"C:\\Users\\pharr\\AppData\\Roaming\\Python\\Python38\\site-packages\\keras\\wrappers\\scikit_learn.py\", line 306, in score\n",
      "    raise ValueError('The model is not configured to compute accuracy. '\n",
      "ValueError: The model is not configured to compute accuracy. You should pass `metrics=[\"accuracy\"]` to the `model.compile()` method.\n",
      "\n",
      "  warnings.warn(\n",
      "C:\\Users\\pharr\\Anaconda\\lib\\site-packages\\sklearn\\model_selection\\_validation.py:683: UserWarning: Scoring failed. The score on this train-test partition for these parameters will be set to nan. Details: \n",
      "Traceback (most recent call last):\n",
      "  File \"C:\\Users\\pharr\\Anaconda\\lib\\site-packages\\sklearn\\model_selection\\_validation.py\", line 674, in _score\n",
      "    scores = scorer(estimator, X_test, y_test)\n",
      "  File \"C:\\Users\\pharr\\Anaconda\\lib\\site-packages\\sklearn\\metrics\\_scorer.py\", line 397, in _passthrough_scorer\n",
      "    return estimator.score(*args, **kwargs)\n",
      "  File \"C:\\Users\\pharr\\AppData\\Roaming\\Python\\Python38\\site-packages\\keras\\wrappers\\scikit_learn.py\", line 306, in score\n",
      "    raise ValueError('The model is not configured to compute accuracy. '\n",
      "ValueError: The model is not configured to compute accuracy. You should pass `metrics=[\"accuracy\"]` to the `model.compile()` method.\n",
      "\n",
      "  warnings.warn(\n",
      "C:\\Users\\pharr\\Anaconda\\lib\\site-packages\\sklearn\\model_selection\\_validation.py:683: UserWarning: Scoring failed. The score on this train-test partition for these parameters will be set to nan. Details: \n",
      "Traceback (most recent call last):\n",
      "  File \"C:\\Users\\pharr\\Anaconda\\lib\\site-packages\\sklearn\\model_selection\\_validation.py\", line 674, in _score\n",
      "    scores = scorer(estimator, X_test, y_test)\n",
      "  File \"C:\\Users\\pharr\\Anaconda\\lib\\site-packages\\sklearn\\metrics\\_scorer.py\", line 397, in _passthrough_scorer\n",
      "    return estimator.score(*args, **kwargs)\n",
      "  File \"C:\\Users\\pharr\\AppData\\Roaming\\Python\\Python38\\site-packages\\keras\\wrappers\\scikit_learn.py\", line 306, in score\n",
      "    raise ValueError('The model is not configured to compute accuracy. '\n",
      "ValueError: The model is not configured to compute accuracy. You should pass `metrics=[\"accuracy\"]` to the `model.compile()` method.\n",
      "\n",
      "  warnings.warn(\n",
      "C:\\Users\\pharr\\Anaconda\\lib\\site-packages\\sklearn\\model_selection\\_validation.py:683: UserWarning: Scoring failed. The score on this train-test partition for these parameters will be set to nan. Details: \n",
      "Traceback (most recent call last):\n",
      "  File \"C:\\Users\\pharr\\Anaconda\\lib\\site-packages\\sklearn\\model_selection\\_validation.py\", line 674, in _score\n",
      "    scores = scorer(estimator, X_test, y_test)\n",
      "  File \"C:\\Users\\pharr\\Anaconda\\lib\\site-packages\\sklearn\\metrics\\_scorer.py\", line 397, in _passthrough_scorer\n",
      "    return estimator.score(*args, **kwargs)\n",
      "  File \"C:\\Users\\pharr\\AppData\\Roaming\\Python\\Python38\\site-packages\\keras\\wrappers\\scikit_learn.py\", line 306, in score\n",
      "    raise ValueError('The model is not configured to compute accuracy. '\n",
      "ValueError: The model is not configured to compute accuracy. You should pass `metrics=[\"accuracy\"]` to the `model.compile()` method.\n",
      "\n",
      "  warnings.warn(\n",
      "C:\\Users\\pharr\\Anaconda\\lib\\site-packages\\sklearn\\model_selection\\_validation.py:683: UserWarning: Scoring failed. The score on this train-test partition for these parameters will be set to nan. Details: \n",
      "Traceback (most recent call last):\n",
      "  File \"C:\\Users\\pharr\\Anaconda\\lib\\site-packages\\sklearn\\model_selection\\_validation.py\", line 674, in _score\n",
      "    scores = scorer(estimator, X_test, y_test)\n",
      "  File \"C:\\Users\\pharr\\Anaconda\\lib\\site-packages\\sklearn\\metrics\\_scorer.py\", line 397, in _passthrough_scorer\n",
      "    return estimator.score(*args, **kwargs)\n",
      "  File \"C:\\Users\\pharr\\AppData\\Roaming\\Python\\Python38\\site-packages\\keras\\wrappers\\scikit_learn.py\", line 306, in score\n",
      "    raise ValueError('The model is not configured to compute accuracy. '\n",
      "ValueError: The model is not configured to compute accuracy. You should pass `metrics=[\"accuracy\"]` to the `model.compile()` method.\n",
      "\n",
      "  warnings.warn(\n",
      "C:\\Users\\pharr\\Anaconda\\lib\\site-packages\\sklearn\\model_selection\\_validation.py:683: UserWarning: Scoring failed. The score on this train-test partition for these parameters will be set to nan. Details: \n",
      "Traceback (most recent call last):\n",
      "  File \"C:\\Users\\pharr\\Anaconda\\lib\\site-packages\\sklearn\\model_selection\\_validation.py\", line 674, in _score\n",
      "    scores = scorer(estimator, X_test, y_test)\n",
      "  File \"C:\\Users\\pharr\\Anaconda\\lib\\site-packages\\sklearn\\metrics\\_scorer.py\", line 397, in _passthrough_scorer\n",
      "    return estimator.score(*args, **kwargs)\n",
      "  File \"C:\\Users\\pharr\\AppData\\Roaming\\Python\\Python38\\site-packages\\keras\\wrappers\\scikit_learn.py\", line 306, in score\n",
      "    raise ValueError('The model is not configured to compute accuracy. '\n",
      "ValueError: The model is not configured to compute accuracy. You should pass `metrics=[\"accuracy\"]` to the `model.compile()` method.\n",
      "\n",
      "  warnings.warn(\n",
      "C:\\Users\\pharr\\Anaconda\\lib\\site-packages\\sklearn\\model_selection\\_validation.py:683: UserWarning: Scoring failed. The score on this train-test partition for these parameters will be set to nan. Details: \n",
      "Traceback (most recent call last):\n",
      "  File \"C:\\Users\\pharr\\Anaconda\\lib\\site-packages\\sklearn\\model_selection\\_validation.py\", line 674, in _score\n",
      "    scores = scorer(estimator, X_test, y_test)\n",
      "  File \"C:\\Users\\pharr\\Anaconda\\lib\\site-packages\\sklearn\\metrics\\_scorer.py\", line 397, in _passthrough_scorer\n",
      "    return estimator.score(*args, **kwargs)\n",
      "  File \"C:\\Users\\pharr\\AppData\\Roaming\\Python\\Python38\\site-packages\\keras\\wrappers\\scikit_learn.py\", line 306, in score\n",
      "    raise ValueError('The model is not configured to compute accuracy. '\n",
      "ValueError: The model is not configured to compute accuracy. You should pass `metrics=[\"accuracy\"]` to the `model.compile()` method.\n",
      "\n",
      "  warnings.warn(\n",
      "C:\\Users\\pharr\\Anaconda\\lib\\site-packages\\sklearn\\model_selection\\_validation.py:683: UserWarning: Scoring failed. The score on this train-test partition for these parameters will be set to nan. Details: \n",
      "Traceback (most recent call last):\n",
      "  File \"C:\\Users\\pharr\\Anaconda\\lib\\site-packages\\sklearn\\model_selection\\_validation.py\", line 674, in _score\n",
      "    scores = scorer(estimator, X_test, y_test)\n",
      "  File \"C:\\Users\\pharr\\Anaconda\\lib\\site-packages\\sklearn\\metrics\\_scorer.py\", line 397, in _passthrough_scorer\n",
      "    return estimator.score(*args, **kwargs)\n",
      "  File \"C:\\Users\\pharr\\AppData\\Roaming\\Python\\Python38\\site-packages\\keras\\wrappers\\scikit_learn.py\", line 306, in score\n",
      "    raise ValueError('The model is not configured to compute accuracy. '\n",
      "ValueError: The model is not configured to compute accuracy. You should pass `metrics=[\"accuracy\"]` to the `model.compile()` method.\n",
      "\n",
      "  warnings.warn(\n",
      "C:\\Users\\pharr\\Anaconda\\lib\\site-packages\\sklearn\\model_selection\\_validation.py:683: UserWarning: Scoring failed. The score on this train-test partition for these parameters will be set to nan. Details: \n",
      "Traceback (most recent call last):\n",
      "  File \"C:\\Users\\pharr\\Anaconda\\lib\\site-packages\\sklearn\\model_selection\\_validation.py\", line 674, in _score\n",
      "    scores = scorer(estimator, X_test, y_test)\n",
      "  File \"C:\\Users\\pharr\\Anaconda\\lib\\site-packages\\sklearn\\metrics\\_scorer.py\", line 397, in _passthrough_scorer\n",
      "    return estimator.score(*args, **kwargs)\n",
      "  File \"C:\\Users\\pharr\\AppData\\Roaming\\Python\\Python38\\site-packages\\keras\\wrappers\\scikit_learn.py\", line 306, in score\n",
      "    raise ValueError('The model is not configured to compute accuracy. '\n",
      "ValueError: The model is not configured to compute accuracy. You should pass `metrics=[\"accuracy\"]` to the `model.compile()` method.\n",
      "\n",
      "  warnings.warn(\n",
      "C:\\Users\\pharr\\Anaconda\\lib\\site-packages\\sklearn\\model_selection\\_search.py:918: UserWarning: One or more of the test scores are non-finite: [nan nan nan nan nan nan nan nan nan nan nan nan nan nan nan nan]\n",
      "  warnings.warn(\n"
     ]
    },
    {
     "data": {
      "text/plain": [
       "GridSearchCV(cv=3,\n",
       "             estimator=<keras.wrappers.scikit_learn.KerasClassifier object at 0x00000214C3D26A00>,\n",
       "             param_grid={'epochs': [10, 20], 'layer_one_neurons': [16, 32],\n",
       "                         'layer_two': [True, False],\n",
       "                         'layer_two_neurons': [16, 32]})"
      ]
     },
     "execution_count": 48,
     "metadata": {},
     "output_type": "execute_result"
    }
   ],
   "source": [
    "# Instantiate a grid search\n",
    "gsnn = GridSearchCV(estimator=nn_gs, param_grid=params, cv=3)\n",
    "\n",
    "# Fit the GridSearch model!\n",
    "gsnn.fit(X_train_sc, y_train)"
   ]
  },
  {
   "cell_type": "code",
   "execution_count": 49,
   "id": "e2d71b07-3712-4bbc-b65f-070a8e726b51",
   "metadata": {},
   "outputs": [
    {
     "data": {
      "text/plain": [
       "nan"
      ]
     },
     "execution_count": 49,
     "metadata": {},
     "output_type": "execute_result"
    }
   ],
   "source": [
    "# Best (cross validated) testing score on training data\n",
    "gsnn.best_score_"
   ]
  },
  {
   "cell_type": "code",
   "execution_count": 50,
   "id": "5ab7c704-f64e-4cd8-8ce6-f1dfb26493c6",
   "metadata": {},
   "outputs": [
    {
     "data": {
      "text/plain": [
       "{'epochs': 10,\n",
       " 'layer_one_neurons': 16,\n",
       " 'layer_two': True,\n",
       " 'layer_two_neurons': 16}"
      ]
     },
     "execution_count": 50,
     "metadata": {},
     "output_type": "execute_result"
    }
   ],
   "source": [
    "# Best estimator\n",
    "gsnn.best_params_"
   ]
  },
  {
   "cell_type": "code",
   "execution_count": 51,
   "id": "e18a45b3-1599-4dbc-8ea3-46fda10e0bf1",
   "metadata": {},
   "outputs": [
    {
     "ename": "ValueError",
     "evalue": "The model is not configured to compute accuracy. You should pass `metrics=[\"accuracy\"]` to the `model.compile()` method.",
     "output_type": "error",
     "traceback": [
      "\u001b[1;31m---------------------------------------------------------------------------\u001b[0m",
      "\u001b[1;31mValueError\u001b[0m                                Traceback (most recent call last)",
      "\u001b[1;32m<ipython-input-51-8719676480c2>\u001b[0m in \u001b[0;36m<module>\u001b[1;34m\u001b[0m\n\u001b[0;32m      1\u001b[0m \u001b[1;31m# Evaluate on the testing data\u001b[0m\u001b[1;33m\u001b[0m\u001b[1;33m\u001b[0m\u001b[1;33m\u001b[0m\u001b[0m\n\u001b[1;32m----> 2\u001b[1;33m \u001b[0mgsnn\u001b[0m\u001b[1;33m.\u001b[0m\u001b[0mbest_estimator_\u001b[0m\u001b[1;33m.\u001b[0m\u001b[0mscore\u001b[0m\u001b[1;33m(\u001b[0m\u001b[0mX_test_sc\u001b[0m\u001b[1;33m,\u001b[0m \u001b[0my_test\u001b[0m\u001b[1;33m)\u001b[0m\u001b[1;33m\u001b[0m\u001b[1;33m\u001b[0m\u001b[0m\n\u001b[0m",
      "\u001b[1;32m~\\AppData\\Roaming\\Python\\Python38\\site-packages\\keras\\wrappers\\scikit_learn.py\u001b[0m in \u001b[0;36mscore\u001b[1;34m(self, x, y, **kwargs)\u001b[0m\n\u001b[0;32m    304\u001b[0m       \u001b[1;32mif\u001b[0m \u001b[0mname\u001b[0m \u001b[1;32min\u001b[0m \u001b[1;33m[\u001b[0m\u001b[1;34m'accuracy'\u001b[0m\u001b[1;33m,\u001b[0m \u001b[1;34m'acc'\u001b[0m\u001b[1;33m]\u001b[0m\u001b[1;33m:\u001b[0m\u001b[1;33m\u001b[0m\u001b[1;33m\u001b[0m\u001b[0m\n\u001b[0;32m    305\u001b[0m         \u001b[1;32mreturn\u001b[0m \u001b[0moutput\u001b[0m\u001b[1;33m\u001b[0m\u001b[1;33m\u001b[0m\u001b[0m\n\u001b[1;32m--> 306\u001b[1;33m     raise ValueError('The model is not configured to compute accuracy. '\n\u001b[0m\u001b[0;32m    307\u001b[0m                      \u001b[1;34m'You should pass `metrics=[\"accuracy\"]` to '\u001b[0m\u001b[1;33m\u001b[0m\u001b[1;33m\u001b[0m\u001b[0m\n\u001b[0;32m    308\u001b[0m                      'the `model.compile()` method.')\n",
      "\u001b[1;31mValueError\u001b[0m: The model is not configured to compute accuracy. You should pass `metrics=[\"accuracy\"]` to the `model.compile()` method."
     ]
    }
   ],
   "source": [
    "# Evaluate on the testing data\n",
    "gsnn.best_estimator_.score(X_test_sc, y_test)"
   ]
  },
  {
   "cell_type": "code",
   "execution_count": 52,
   "id": "996a5f47-b092-455d-a51e-5840cc1cbacd",
   "metadata": {},
   "outputs": [
    {
     "data": {
      "text/plain": [
       "-0.3648033822084453"
      ]
     },
     "execution_count": 52,
     "metadata": {},
     "output_type": "execute_result"
    }
   ],
   "source": [
    "# Generate (test) predictions and get R2 score\n",
    "y_pred = gsnn.best_estimator_.predict(X_test_sc)\n",
    "metrics.r2_score(y_test, y_pred)"
   ]
  },
  {
   "cell_type": "markdown",
   "id": "6fcd6322-45e6-4306-9d6b-6a5592d6521b",
   "metadata": {},
   "source": [
    "## Let's try adding layers!\n",
    "![](./assets/deeper.png)"
   ]
  },
  {
   "cell_type": "code",
   "execution_count": null,
   "id": "e8b7026d-db1c-4ad0-ada2-7c7702f814e1",
   "metadata": {},
   "outputs": [],
   "source": [
    "# Add an arugment of number of layers to the function (and loop through it) "
   ]
  },
  {
   "cell_type": "code",
   "execution_count": 22,
   "id": "1595e766-2600-44a8-84f8-fd7fa110e25e",
   "metadata": {},
   "outputs": [],
   "source": [
    "# Add an arugment of number of layers to the function (and loop through it) \n",
    "def model_func_deep(layer_one_neurons=32, next_layer_neurons=32, layer_dropout=0.5, hidden_layers=5, optimizer='adam'):\n",
    "    \n",
    "    model = Sequential()\n",
    "    for layer in range(hidden_layers):\n",
    "        \n",
    "        if layer == 0: # If it's the first layer:\n",
    "            model.add(Dense(units=layer_one_neurons, activation='relu', input_shape=(X_train_sc.shape[1], )))\n",
    "            model.add(Dropout(rate=layer_dropout))\n",
    "        else: # If it's any other layer, no need to specify input shape\n",
    "            model.add(Dense(units=next_layer_neurons, activation='relu'))\n",
    "            model.add(Dropout(rate=layer_dropout))\n",
    "            \n",
    "    # Add an output layer - OUTSIDE OF THE FOR LOOP\n",
    "    model.add(Dense(units=1, activation=None)) # Regression problem - no activation function. Also, NO dropout!\n",
    "    \n",
    "    # Compile the network\n",
    "    model.compile(loss='mse', optimizer=optimizer)\n",
    "    \n",
    "    return model"
   ]
  },
  {
   "cell_type": "code",
   "execution_count": 23,
   "id": "01eb299b-d353-4388-b2a5-05e55c22f730",
   "metadata": {},
   "outputs": [],
   "source": [
    "# Deep network\n",
    "nn_deep = KerasRegressor(build_fn=model_func_deep, epochs=10, batch_size=256, verbose=0)"
   ]
  },
  {
   "cell_type": "code",
   "execution_count": 24,
   "id": "c1321abf-09da-4b4a-b6b1-92d3f3453015",
   "metadata": {},
   "outputs": [],
   "source": [
    "# Params grid\n",
    "params_deep = {\n",
    "    'hidden_layers':[2, 3],\n",
    "    'optimizer':['adam','RMSprop']\n",
    "}"
   ]
  },
  {
   "cell_type": "code",
   "execution_count": 25,
   "id": "391506e2-1757-4c75-b0ce-b90059c54484",
   "metadata": {},
   "outputs": [],
   "source": [
    "gs_deep = GridSearchCV(estimator=nn_deep, param_grid=params_deep, cv=3)\n",
    "results = gs_deep.fit(X_train_sc, y_train)"
   ]
  },
  {
   "cell_type": "markdown",
   "id": "0693135a-2dba-43c9-8ad4-531a8ab481dc",
   "metadata": {},
   "source": [
    "![](./assets/still-waiting.jpg)"
   ]
  },
  {
   "cell_type": "code",
   "execution_count": 2,
   "id": "dad9b040-932e-447e-943f-fd7391f981a1",
   "metadata": {},
   "outputs": [],
   "source": [
    "# Make predictions \n"
   ]
  },
  {
   "cell_type": "code",
   "execution_count": 26,
   "id": "4bdba3bc-cf68-489e-bc4f-12077ff912fd",
   "metadata": {},
   "outputs": [
    {
     "data": {
      "text/plain": [
       "-13796.797688802084"
      ]
     },
     "execution_count": 26,
     "metadata": {},
     "output_type": "execute_result"
    }
   ],
   "source": [
    "# Get the best (cross validated) score (on the training data)\n",
    "gs_deep.best_score_"
   ]
  },
  {
   "cell_type": "code",
   "execution_count": 27,
   "id": "8e55a26a-3ff9-4f35-b2f5-bd223f01e2b8",
   "metadata": {},
   "outputs": [
    {
     "data": {
      "text/plain": [
       "{'hidden_layers': 3, 'optimizer': 'adam'}"
      ]
     },
     "execution_count": 27,
     "metadata": {},
     "output_type": "execute_result"
    }
   ],
   "source": [
    "# Get the best parameters\n",
    "gs_deep.best_params_"
   ]
  },
  {
   "cell_type": "code",
   "execution_count": 28,
   "id": "99672aeb-90dd-4a53-8755-e10ff22d3613",
   "metadata": {},
   "outputs": [],
   "source": [
    "# Make predictions \n",
    "pred_deep = gs_deep.predict(X_test_sc)\n",
    "# Would have been the same as gs_deep.best_estimater_.predict(X_test_Sc)"
   ]
  },
  {
   "cell_type": "code",
   "execution_count": 29,
   "id": "36f478af-317f-46d9-b4df-4b424f7fa67c",
   "metadata": {},
   "outputs": [
    {
     "data": {
      "text/plain": [
       "0.943323107075611"
      ]
     },
     "execution_count": 29,
     "metadata": {},
     "output_type": "execute_result"
    }
   ],
   "source": [
    "# Check the R-squared (on test predictions)\n",
    "metrics.r2_score(y_true=y_test, y_pred=pred_deep)"
   ]
  },
  {
   "cell_type": "code",
   "execution_count": 30,
   "id": "0bf29c7f-8c6b-42f6-9467-e0a89462b292",
   "metadata": {},
   "outputs": [
    {
     "data": {
      "text/plain": [
       "-2236.618896484375"
      ]
     },
     "execution_count": 30,
     "metadata": {},
     "output_type": "execute_result"
    }
   ],
   "source": [
    "# Testing MSE\n",
    "gs_deep.score(X_test_sc, y_test)"
   ]
  },
  {
   "cell_type": "code",
   "execution_count": 31,
   "id": "2ecf9440-0038-4bfd-9c72-be55d3572bb4",
   "metadata": {},
   "outputs": [
    {
     "data": {
      "text/plain": [
       "2236.618896484375"
      ]
     },
     "execution_count": 31,
     "metadata": {},
     "output_type": "execute_result"
    }
   ],
   "source": [
    "# Testing MSE - get absolute value\n",
    "abs(gs_deep.score(X_test_sc, y_test))"
   ]
  },
  {
   "cell_type": "code",
   "execution_count": 33,
   "id": "097a4e36-a1e8-4695-9cf7-f2991f79a2de",
   "metadata": {},
   "outputs": [],
   "source": [
    "import numpy as np\n"
   ]
  },
  {
   "cell_type": "code",
   "execution_count": 34,
   "id": "865b54e8-ab1a-4158-a833-7b5698534a99",
   "metadata": {},
   "outputs": [
    {
     "data": {
      "text/plain": [
       "47.29290535042624"
      ]
     },
     "execution_count": 34,
     "metadata": {},
     "output_type": "execute_result"
    }
   ],
   "source": [
    "# Testing RMSE - get absolute value\n",
    "np.sqrt(abs(gs_deep.score(X_test_sc, y_test)))"
   ]
  },
  {
   "cell_type": "code",
   "execution_count": null,
   "id": "e9870dc9-1eb7-4780-8ecb-443a9f6062b6",
   "metadata": {},
   "outputs": [],
   "source": []
  },
  {
   "cell_type": "code",
   "execution_count": null,
   "id": "efa58506-250e-4754-9da2-4629b9c8cdae",
   "metadata": {},
   "outputs": [],
   "source": []
  }
 ],
 "metadata": {
  "kernelspec": {
   "display_name": "Python 3",
   "language": "python",
   "name": "python3"
  },
  "language_info": {
   "codemirror_mode": {
    "name": "ipython",
    "version": 3
   },
   "file_extension": ".py",
   "mimetype": "text/x-python",
   "name": "python",
   "nbconvert_exporter": "python",
   "pygments_lexer": "ipython3",
   "version": "3.8.8"
  }
 },
 "nbformat": 4,
 "nbformat_minor": 5
}
