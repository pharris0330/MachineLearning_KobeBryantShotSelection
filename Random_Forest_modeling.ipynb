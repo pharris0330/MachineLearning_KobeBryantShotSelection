{
 "cells": [
  {
   "cell_type": "code",
   "execution_count": 36,
   "id": "a1d93dfd-49dc-403b-9ca4-6d11a2f1e78e",
   "metadata": {},
   "outputs": [],
   "source": []
  },
  {
   "cell_type": "code",
   "execution_count": 1,
   "id": "40ef8950-66a3-4f4f-805e-5364e586fd47",
   "metadata": {},
   "outputs": [],
   "source": [
    "import pandas as pd\n",
    "import numpy as np\n",
    "\n",
    "from sklearn.ensemble import ExtraTreesClassifier, RandomForestClassifier\n",
    "from sklearn.model_selection import cross_val_score, GridSearchCV, train_test_split\n",
    "\n",
    "import matplotlib.pyplot as plt"
   ]
  },
  {
   "cell_type": "code",
   "execution_count": 2,
   "id": "3b03ab56-3db7-4ffb-b350-702d1f30bb7f",
   "metadata": {},
   "outputs": [],
   "source": [
    "kobe = pd.read_csv('./datasets/data.csv')"
   ]
  },
  {
   "cell_type": "markdown",
   "id": "04da9055-b092-4646-ba0d-ac46067d4892",
   "metadata": {},
   "source": [
    "### create a separate year column"
   ]
  },
  {
   "cell_type": "code",
   "execution_count": 4,
   "id": "bbfccef5-f70e-416e-ab72-d1fabcb114b8",
   "metadata": {},
   "outputs": [],
   "source": [
    "kobe['game_year'] = pd.DatetimeIndex(kobe['game_date']).year"
   ]
  },
  {
   "cell_type": "markdown",
   "id": "3dc5199f-744e-415d-a421-51b88f804366",
   "metadata": {},
   "source": [
    "### Fillna Kobe's NaN shots"
   ]
  },
  {
   "cell_type": "code",
   "execution_count": null,
   "id": "a2f30381-6694-4cd3-b1eb-a0c4d2ffc1d0",
   "metadata": {},
   "outputs": [],
   "source": [
    "###Only 0.827% of Kobes made shots are unnaccounted for in this dataset"
   ]
  },
  {
   "cell_type": "code",
   "execution_count": 5,
   "id": "5322a6ab-ed0f-4f44-993b-a98d09a3f4c8",
   "metadata": {},
   "outputs": [],
   "source": [
    "kobe['shot_made_flag'] = kobe['shot_made_flag'].fillna(0)"
   ]
  },
  {
   "cell_type": "markdown",
   "id": "85d2c70e-6de6-4b18-8d8e-dc375a77fdb5",
   "metadata": {},
   "source": [
    "### how many different values in each column"
   ]
  },
  {
   "cell_type": "code",
   "execution_count": 26,
   "id": "360dd881-1e43-46ce-ba3c-932db103ddbc",
   "metadata": {
    "collapsed": true,
    "jupyter": {
     "outputs_hidden": true
    },
    "tags": []
   },
   "outputs": [
    {
     "name": "stdout",
     "output_type": "stream",
     "text": [
      "Jump Shot                             18880\n",
      "Layup Shot                             2567\n",
      "Driving Layup Shot                     1978\n",
      "Turnaround Jump Shot                   1057\n",
      "Fadeaway Jump Shot                     1048\n",
      "Running Jump Shot                       926\n",
      "Pullup Jump shot                        476\n",
      "Turnaround Fadeaway shot                439\n",
      "Slam Dunk Shot                          411\n",
      "Reverse Layup Shot                      395\n",
      "Jump Bank Shot                          333\n",
      "Driving Dunk Shot                       310\n",
      "Dunk Shot                               262\n",
      "Tip Shot                                182\n",
      "Alley Oop Dunk Shot                     122\n",
      "Step Back Jump shot                     118\n",
      "Floating Jump shot                      114\n",
      "Driving Reverse Layup Shot               97\n",
      "Hook Shot                                84\n",
      "Driving Finger Roll Shot                 82\n",
      "Alley Oop Layup shot                     80\n",
      "Reverse Dunk Shot                        75\n",
      "Running Layup Shot                       72\n",
      "Turnaround Bank shot                     71\n",
      "Driving Finger Roll Layup Shot           69\n",
      "Driving Slam Dunk Shot                   48\n",
      "Running Bank shot                        48\n",
      "Running Hook Shot                        41\n",
      "Finger Roll Layup Shot                   33\n",
      "Fadeaway Bank shot                       31\n",
      "Driving Jump shot                        28\n",
      "Finger Roll Shot                         28\n",
      "Jump Hook Shot                           24\n",
      "Running Dunk Shot                        19\n",
      "Reverse Slam Dunk Shot                   16\n",
      "Putback Layup Shot                       15\n",
      "Follow Up Dunk Shot                      15\n",
      "Driving Hook Shot                        14\n",
      "Turnaround Hook Shot                     14\n",
      "Pullup Bank shot                         12\n",
      "Running Reverse Layup Shot               11\n",
      "Running Finger Roll Layup Shot            6\n",
      "Cutting Layup Shot                        6\n",
      "Hook Bank Shot                            5\n",
      "Driving Bank shot                         5\n",
      "Driving Floating Jump Shot                5\n",
      "Putback Dunk Shot                         5\n",
      "Running Pull-Up Jump Shot                 4\n",
      "Running Finger Roll Shot                  4\n",
      "Putback Slam Dunk Shot                    2\n",
      "Tip Layup Shot                            2\n",
      "Turnaround Finger Roll Shot               2\n",
      "Running Tip Shot                          2\n",
      "Running Slam Dunk Shot                    1\n",
      "Turnaround Fadeaway Bank Jump Shot        1\n",
      "Cutting Finger Roll Layup Shot            1\n",
      "Driving Floating Bank Jump Shot           1\n",
      "Name: action_type, dtype: int64\n",
      "3    8296\n",
      "1    8048\n",
      "4    7260\n",
      "2    6718\n",
      "5     330\n",
      "6      38\n",
      "7       7\n",
      "Name: period, dtype: int64\n",
      "Jump Shot    23485\n",
      "Layup         5448\n",
      "Dunk          1286\n",
      "Tip Shot       184\n",
      "Hook Shot      153\n",
      "Bank Shot      141\n",
      "Name: combined_shot_type, dtype: int64\n",
      "2005-06    2318\n",
      "2008-09    2242\n",
      "2002-03    2241\n",
      "2007-08    2153\n",
      "2009-10    2080\n",
      "2001-02    2028\n",
      "2006-07    1887\n",
      "2000-01    1868\n",
      "2010-11    1825\n",
      "2003-04    1638\n",
      "2011-12    1637\n",
      "2012-13    1593\n",
      "1999-00    1577\n",
      "2004-05    1324\n",
      "2015-16    1113\n",
      "1997-98     989\n",
      "1998-99     921\n",
      "2014-15     713\n",
      "1996-97     477\n",
      "2013-14      73\n",
      "Name: season, dtype: int64\n",
      "2PT Field Goal    24271\n",
      "3PT Field Goal     6426\n",
      "Name: shot_type, dtype: int64\n",
      "Center(C)                13455\n",
      "Right Side Center(RC)     4776\n",
      "Right Side(R)             4588\n",
      "Left Side Center(LC)      4044\n",
      "Left Side(L)              3751\n",
      "Back Court(BC)              83\n",
      "Name: shot_zone_area, dtype: int64\n",
      "Mid-Range                12625\n",
      "Restricted Area           7136\n",
      "Above the Break 3         5620\n",
      "In The Paint (Non-RA)     4578\n",
      "Right Corner 3             387\n",
      "Left Corner 3              280\n",
      "Backcourt                   71\n",
      "Name: shot_zone_basic, dtype: int64\n",
      "Less Than 8 ft.    9398\n",
      "16-24 ft.          8315\n",
      "8-16 ft.           6626\n",
      "24+ ft.            6275\n",
      "Back Court Shot      83\n",
      "Name: shot_zone_range, dtype: int64\n",
      "Los Angeles Lakers    30697\n",
      "Name: team_name, dtype: int64\n",
      "2016-04-13    50\n",
      "2002-11-07    47\n",
      "2006-01-22    46\n",
      "2006-12-29    45\n",
      "2008-01-14    44\n",
      "              ..\n",
      "1997-04-25     1\n",
      "1996-11-03     1\n",
      "1996-12-29     1\n",
      "1997-03-20     1\n",
      "1996-11-05     1\n",
      "Name: game_date, Length: 1559, dtype: int64\n",
      "LAL @ SAS      1020\n",
      "LAL vs. SAS     936\n",
      "LAL @ SAC       889\n",
      "LAL vs. HOU     878\n",
      "LAL @ DEN       873\n",
      "               ... \n",
      "LAL @ PHO        33\n",
      "LAL vs. NOP      27\n",
      "LAL vs. SAN      22\n",
      "LAL @ UTH        21\n",
      "LAL vs. BKN      15\n",
      "Name: matchup, Length: 74, dtype: int64\n"
     ]
    }
   ],
   "source": [
    "#source code: https://stackoverflow.com/questions/23197324/pandas-value-counts-applied-to-each-column\n",
    "for c in kobe_objects.columns:\n",
    "    print(kobe_objects[c].value_counts())"
   ]
  },
  {
   "cell_type": "code",
   "execution_count": null,
   "id": "0d4f6c2a-fd89-45a9-b7e4-2021e6d59585",
   "metadata": {},
   "outputs": [],
   "source": []
  },
  {
   "cell_type": "code",
   "execution_count": 12,
   "id": "0f2c43ac-0dd8-444f-8a92-f921128bc5b9",
   "metadata": {},
   "outputs": [],
   "source": [
    "#create a classification dataframe\n",
    "kobe_objects = kobe[['period','season','shot_type','shot_zone_area','shot_zone_basic','shot_zone_range']]"
   ]
  },
  {
   "cell_type": "code",
   "execution_count": 13,
   "id": "1b8622fa-4755-4819-976c-059b94689798",
   "metadata": {},
   "outputs": [],
   "source": [
    "#get dummies\n",
    "kobe_objects_dummies = pd.get_dummies(kobe_objects)"
   ]
  },
  {
   "cell_type": "code",
   "execution_count": 14,
   "id": "8a9ed039-473b-4a37-9722-9296079cc2ad",
   "metadata": {},
   "outputs": [
    {
     "data": {
      "text/plain": [
       "(30697, 41)"
      ]
     },
     "execution_count": 14,
     "metadata": {},
     "output_type": "execute_result"
    }
   ],
   "source": [
    "kobe_objects_dummies.shape"
   ]
  },
  {
   "cell_type": "markdown",
   "id": "6518cccb-3d25-433f-b687-586e3ccfecc0",
   "metadata": {},
   "source": [
    "### Classification"
   ]
  },
  {
   "cell_type": "code",
   "execution_count": 15,
   "id": "5256ea51-f2da-44ae-a1d4-e60aee9a32a1",
   "metadata": {},
   "outputs": [],
   "source": [
    "X = kobe_objects_dummies\n",
    "y = kobe['shot_made_flag']"
   ]
  },
  {
   "cell_type": "code",
   "execution_count": null,
   "id": "e1e8e626-1688-43c6-8138-e56b4706ac15",
   "metadata": {},
   "outputs": [],
   "source": []
  },
  {
   "cell_type": "code",
   "execution_count": 16,
   "id": "9a3a86e5-1bec-40f5-acab-37133a2aa751",
   "metadata": {},
   "outputs": [
    {
     "data": {
      "text/plain": [
       "0.0    0.626511\n",
       "1.0    0.373489\n",
       "Name: shot_made_flag, dtype: float64"
      ]
     },
     "execution_count": 16,
     "metadata": {},
     "output_type": "execute_result"
    }
   ],
   "source": [
    "y.value_counts(normalize=True)"
   ]
  },
  {
   "cell_type": "markdown",
   "id": "a6a60c8c-c18f-425a-b2f9-6f0b6a4dd4ef",
   "metadata": {},
   "source": [
    "### Train/ test/ split"
   ]
  },
  {
   "cell_type": "code",
   "execution_count": 17,
   "id": "57352fb0-80b0-4c51-9a33-0fcec2e0004f",
   "metadata": {},
   "outputs": [],
   "source": [
    "X_train, X_test, y_train, y_test = train_test_split(X, y, stratify=y, random_state=42)"
   ]
  },
  {
   "cell_type": "markdown",
   "id": "2272652a-3ad8-41d9-bc68-5c27810e2116",
   "metadata": {},
   "source": [
    "## Model instantiation"
   ]
  },
  {
   "cell_type": "code",
   "execution_count": 18,
   "id": "1e4cba6f-e407-4283-b4af-861c1ec0fcde",
   "metadata": {},
   "outputs": [],
   "source": [
    "rfc = RandomForestClassifier()\n",
    "etc = ExtraTreesClassifier()"
   ]
  },
  {
   "cell_type": "markdown",
   "id": "f87d06fb-bbb6-433d-bfda-20f6567ddc05",
   "metadata": {},
   "source": [
    "## Model Evaluation"
   ]
  },
  {
   "cell_type": "code",
   "execution_count": 19,
   "id": "226a06da-4e76-4523-b96d-9bac430ae67c",
   "metadata": {},
   "outputs": [
    {
     "name": "stdout",
     "output_type": "stream",
     "text": [
      "[0.5980456  0.60108578 0.61142485 0.59926151 0.60447437]\n",
      "0.6028584217472226\n"
     ]
    }
   ],
   "source": [
    "rfc_cv_scores = cross_val_score(rfc, X_train, y_train)\n",
    "print(rfc_cv_scores)\n",
    "print(rfc_cv_scores.mean())"
   ]
  },
  {
   "cell_type": "code",
   "execution_count": 20,
   "id": "e02b49e9-a06b-4cc6-8c77-7bb5d8e19d28",
   "metadata": {},
   "outputs": [
    {
     "name": "stdout",
     "output_type": "stream",
     "text": [
      "[0.59891422 0.61216069 0.61164205 0.607298   0.60881842]\n",
      "0.6077666778923299\n"
     ]
    }
   ],
   "source": [
    "etc_cv_scores = cross_val_score(etc, X_train, y_train)\n",
    "print(etc_cv_scores)\n",
    "print(etc_cv_scores.mean())"
   ]
  },
  {
   "cell_type": "markdown",
   "id": "ca79632b-e5aa-4b3c-b644-ba742dc524db",
   "metadata": {},
   "source": [
    "## Grid Search"
   ]
  },
  {
   "cell_type": "code",
   "execution_count": 21,
   "id": "5d509d25-4aef-4ffc-aa70-789bb177d75b",
   "metadata": {},
   "outputs": [
    {
     "data": {
      "text/plain": [
       "RandomForestClassifier()"
      ]
     },
     "execution_count": 21,
     "metadata": {},
     "output_type": "execute_result"
    }
   ],
   "source": [
    "RandomForestClassifier()"
   ]
  },
  {
   "cell_type": "code",
   "execution_count": 22,
   "id": "f8e393c7-eaa8-4faa-b550-8911c41525f9",
   "metadata": {},
   "outputs": [],
   "source": [
    "grid = {\n",
    "    'n_estimators': [100, 150, 200],\n",
    "    'max_depth': [None, 3, 5, 7, 10],\n",
    "    'min_samples_split': [2, 3, 5]\n",
    "}\n",
    "\n",
    "gs = GridSearchCV(rfc, param_grid=grid)"
   ]
  },
  {
   "cell_type": "code",
   "execution_count": 23,
   "id": "67c05c64-a950-41fe-b945-30e383baaf5f",
   "metadata": {},
   "outputs": [
    {
     "data": {
      "text/plain": [
       "GridSearchCV(estimator=RandomForestClassifier(),\n",
       "             param_grid={'max_depth': [None, 3, 5, 7, 10],\n",
       "                         'min_samples_split': [2, 3, 5],\n",
       "                         'n_estimators': [100, 150, 200]})"
      ]
     },
     "execution_count": 23,
     "metadata": {},
     "output_type": "execute_result"
    }
   ],
   "source": [
    "gs.fit(X_train, y_train)"
   ]
  },
  {
   "cell_type": "code",
   "execution_count": 24,
   "id": "03c6fefb-671d-4210-9354-2fd82576b920",
   "metadata": {},
   "outputs": [
    {
     "data": {
      "text/plain": [
       "(0.6324387611773175,\n",
       " {'max_depth': 7, 'min_samples_split': 3, 'n_estimators': 150})"
      ]
     },
     "execution_count": 24,
     "metadata": {},
     "output_type": "execute_result"
    }
   ],
   "source": [
    "gs.best_score_, gs.best_params_"
   ]
  },
  {
   "cell_type": "code",
   "execution_count": 25,
   "id": "adf556c6-3d10-44b7-8356-27fb1eefd0f8",
   "metadata": {},
   "outputs": [
    {
     "data": {
      "text/plain": [
       "RandomForestClassifier(max_depth=7, min_samples_split=3, n_estimators=150)"
      ]
     },
     "execution_count": 25,
     "metadata": {},
     "output_type": "execute_result"
    }
   ],
   "source": [
    "gs.best_estimator_"
   ]
  },
  {
   "cell_type": "code",
   "execution_count": 26,
   "id": "84f99ae5-964d-45de-a56d-73748f9059c8",
   "metadata": {},
   "outputs": [
    {
     "data": {
      "text/plain": [
       "(0.6385196768308574, 0.6297068403908794)"
      ]
     },
     "execution_count": 26,
     "metadata": {},
     "output_type": "execute_result"
    }
   ],
   "source": [
    "gs.score(X_train, y_train), gs.score(X_test, y_test)"
   ]
  },
  {
   "cell_type": "code",
   "execution_count": 29,
   "id": "76f3e0e7-702c-4176-9abc-75426764bef3",
   "metadata": {},
   "outputs": [],
   "source": [
    "from sklearn import metrics"
   ]
  },
  {
   "cell_type": "code",
   "execution_count": 30,
   "id": "943b409e-1ab6-4454-ac9d-2602b4e75bdc",
   "metadata": {},
   "outputs": [
    {
     "data": {
      "text/plain": [
       "-0.5823782534283344"
      ]
     },
     "execution_count": 30,
     "metadata": {},
     "output_type": "execute_result"
    }
   ],
   "source": [
    "# Testing R2\n",
    "metrics.r2_score(y_true=y_test, y_pred=gs.predict(X_test))"
   ]
  },
  {
   "cell_type": "code",
   "execution_count": null,
   "id": "a002a9df-316f-4b7e-bb93-53501689099c",
   "metadata": {},
   "outputs": [],
   "source": []
  }
 ],
 "metadata": {
  "kernelspec": {
   "display_name": "Python 3",
   "language": "python",
   "name": "python3"
  },
  "language_info": {
   "codemirror_mode": {
    "name": "ipython",
    "version": 3
   },
   "file_extension": ".py",
   "mimetype": "text/x-python",
   "name": "python",
   "nbconvert_exporter": "python",
   "pygments_lexer": "ipython3",
   "version": "3.8.8"
  }
 },
 "nbformat": 4,
 "nbformat_minor": 5
}
