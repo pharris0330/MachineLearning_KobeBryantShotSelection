{
 "cells": [
  {
   "cell_type": "code",
   "execution_count": 54,
   "id": "a1d93dfd-49dc-403b-9ca4-6d11a2f1e78e",
   "metadata": {},
   "outputs": [],
   "source": [
    "from sklearn.datasets import make_regression\n",
    "from sklearn.preprocessing import StandardScaler\n",
    "from sklearn.model_selection import train_test_split, GridSearchCV\n",
    "from sklearn import metrics\n",
    "from sklearn.model_selection import cross_val_score, GridSearchCV, train_test_split\n",
    "\n",
    "from tensorflow.keras.models import Sequential\n",
    "from tensorflow.keras.layers import Dense, Dropout\n",
    "from keras.wrappers.scikit_learn import KerasClassifier"
   ]
  },
  {
   "cell_type": "code",
   "execution_count": 3,
   "id": "79d8b58c-2cf9-4267-b051-2c2912e19512",
   "metadata": {},
   "outputs": [],
   "source": [
    "import pandas as pd"
   ]
  },
  {
   "cell_type": "code",
   "execution_count": 4,
   "id": "3b03ab56-3db7-4ffb-b350-702d1f30bb7f",
   "metadata": {},
   "outputs": [],
   "source": [
    "kobe = pd.read_csv('./datasets/data.csv')"
   ]
  },
  {
   "cell_type": "code",
   "execution_count": 5,
   "id": "fc9d3cb7-701b-4074-81f4-bb514da3d13c",
   "metadata": {},
   "outputs": [
    {
     "data": {
      "text/html": [
       "<div>\n",
       "<style scoped>\n",
       "    .dataframe tbody tr th:only-of-type {\n",
       "        vertical-align: middle;\n",
       "    }\n",
       "\n",
       "    .dataframe tbody tr th {\n",
       "        vertical-align: top;\n",
       "    }\n",
       "\n",
       "    .dataframe thead th {\n",
       "        text-align: right;\n",
       "    }\n",
       "</style>\n",
       "<table border=\"1\" class=\"dataframe\">\n",
       "  <thead>\n",
       "    <tr style=\"text-align: right;\">\n",
       "      <th></th>\n",
       "      <th>action_type</th>\n",
       "      <th>combined_shot_type</th>\n",
       "      <th>game_event_id</th>\n",
       "      <th>game_id</th>\n",
       "      <th>lat</th>\n",
       "      <th>loc_x</th>\n",
       "      <th>loc_y</th>\n",
       "      <th>lon</th>\n",
       "      <th>minutes_remaining</th>\n",
       "      <th>period</th>\n",
       "      <th>...</th>\n",
       "      <th>shot_type</th>\n",
       "      <th>shot_zone_area</th>\n",
       "      <th>shot_zone_basic</th>\n",
       "      <th>shot_zone_range</th>\n",
       "      <th>team_id</th>\n",
       "      <th>team_name</th>\n",
       "      <th>game_date</th>\n",
       "      <th>matchup</th>\n",
       "      <th>opponent</th>\n",
       "      <th>shot_id</th>\n",
       "    </tr>\n",
       "  </thead>\n",
       "  <tbody>\n",
       "    <tr>\n",
       "      <th>0</th>\n",
       "      <td>Jump Shot</td>\n",
       "      <td>Jump Shot</td>\n",
       "      <td>10</td>\n",
       "      <td>20000012</td>\n",
       "      <td>33.9723</td>\n",
       "      <td>167</td>\n",
       "      <td>72</td>\n",
       "      <td>-118.1028</td>\n",
       "      <td>10</td>\n",
       "      <td>1</td>\n",
       "      <td>...</td>\n",
       "      <td>2PT Field Goal</td>\n",
       "      <td>Right Side(R)</td>\n",
       "      <td>Mid-Range</td>\n",
       "      <td>16-24 ft.</td>\n",
       "      <td>1610612747</td>\n",
       "      <td>Los Angeles Lakers</td>\n",
       "      <td>2000-10-31</td>\n",
       "      <td>LAL @ POR</td>\n",
       "      <td>POR</td>\n",
       "      <td>1</td>\n",
       "    </tr>\n",
       "    <tr>\n",
       "      <th>1</th>\n",
       "      <td>Jump Shot</td>\n",
       "      <td>Jump Shot</td>\n",
       "      <td>12</td>\n",
       "      <td>20000012</td>\n",
       "      <td>34.0443</td>\n",
       "      <td>-157</td>\n",
       "      <td>0</td>\n",
       "      <td>-118.4268</td>\n",
       "      <td>10</td>\n",
       "      <td>1</td>\n",
       "      <td>...</td>\n",
       "      <td>2PT Field Goal</td>\n",
       "      <td>Left Side(L)</td>\n",
       "      <td>Mid-Range</td>\n",
       "      <td>8-16 ft.</td>\n",
       "      <td>1610612747</td>\n",
       "      <td>Los Angeles Lakers</td>\n",
       "      <td>2000-10-31</td>\n",
       "      <td>LAL @ POR</td>\n",
       "      <td>POR</td>\n",
       "      <td>2</td>\n",
       "    </tr>\n",
       "    <tr>\n",
       "      <th>2</th>\n",
       "      <td>Jump Shot</td>\n",
       "      <td>Jump Shot</td>\n",
       "      <td>35</td>\n",
       "      <td>20000012</td>\n",
       "      <td>33.9093</td>\n",
       "      <td>-101</td>\n",
       "      <td>135</td>\n",
       "      <td>-118.3708</td>\n",
       "      <td>7</td>\n",
       "      <td>1</td>\n",
       "      <td>...</td>\n",
       "      <td>2PT Field Goal</td>\n",
       "      <td>Left Side Center(LC)</td>\n",
       "      <td>Mid-Range</td>\n",
       "      <td>16-24 ft.</td>\n",
       "      <td>1610612747</td>\n",
       "      <td>Los Angeles Lakers</td>\n",
       "      <td>2000-10-31</td>\n",
       "      <td>LAL @ POR</td>\n",
       "      <td>POR</td>\n",
       "      <td>3</td>\n",
       "    </tr>\n",
       "    <tr>\n",
       "      <th>3</th>\n",
       "      <td>Jump Shot</td>\n",
       "      <td>Jump Shot</td>\n",
       "      <td>43</td>\n",
       "      <td>20000012</td>\n",
       "      <td>33.8693</td>\n",
       "      <td>138</td>\n",
       "      <td>175</td>\n",
       "      <td>-118.1318</td>\n",
       "      <td>6</td>\n",
       "      <td>1</td>\n",
       "      <td>...</td>\n",
       "      <td>2PT Field Goal</td>\n",
       "      <td>Right Side Center(RC)</td>\n",
       "      <td>Mid-Range</td>\n",
       "      <td>16-24 ft.</td>\n",
       "      <td>1610612747</td>\n",
       "      <td>Los Angeles Lakers</td>\n",
       "      <td>2000-10-31</td>\n",
       "      <td>LAL @ POR</td>\n",
       "      <td>POR</td>\n",
       "      <td>4</td>\n",
       "    </tr>\n",
       "    <tr>\n",
       "      <th>4</th>\n",
       "      <td>Driving Dunk Shot</td>\n",
       "      <td>Dunk</td>\n",
       "      <td>155</td>\n",
       "      <td>20000012</td>\n",
       "      <td>34.0443</td>\n",
       "      <td>0</td>\n",
       "      <td>0</td>\n",
       "      <td>-118.2698</td>\n",
       "      <td>6</td>\n",
       "      <td>2</td>\n",
       "      <td>...</td>\n",
       "      <td>2PT Field Goal</td>\n",
       "      <td>Center(C)</td>\n",
       "      <td>Restricted Area</td>\n",
       "      <td>Less Than 8 ft.</td>\n",
       "      <td>1610612747</td>\n",
       "      <td>Los Angeles Lakers</td>\n",
       "      <td>2000-10-31</td>\n",
       "      <td>LAL @ POR</td>\n",
       "      <td>POR</td>\n",
       "      <td>5</td>\n",
       "    </tr>\n",
       "  </tbody>\n",
       "</table>\n",
       "<p>5 rows × 25 columns</p>\n",
       "</div>"
      ],
      "text/plain": [
       "         action_type combined_shot_type  game_event_id   game_id      lat  \\\n",
       "0          Jump Shot          Jump Shot             10  20000012  33.9723   \n",
       "1          Jump Shot          Jump Shot             12  20000012  34.0443   \n",
       "2          Jump Shot          Jump Shot             35  20000012  33.9093   \n",
       "3          Jump Shot          Jump Shot             43  20000012  33.8693   \n",
       "4  Driving Dunk Shot               Dunk            155  20000012  34.0443   \n",
       "\n",
       "   loc_x  loc_y       lon  minutes_remaining  period  ...       shot_type  \\\n",
       "0    167     72 -118.1028                 10       1  ...  2PT Field Goal   \n",
       "1   -157      0 -118.4268                 10       1  ...  2PT Field Goal   \n",
       "2   -101    135 -118.3708                  7       1  ...  2PT Field Goal   \n",
       "3    138    175 -118.1318                  6       1  ...  2PT Field Goal   \n",
       "4      0      0 -118.2698                  6       2  ...  2PT Field Goal   \n",
       "\n",
       "          shot_zone_area  shot_zone_basic  shot_zone_range     team_id  \\\n",
       "0          Right Side(R)        Mid-Range        16-24 ft.  1610612747   \n",
       "1           Left Side(L)        Mid-Range         8-16 ft.  1610612747   \n",
       "2   Left Side Center(LC)        Mid-Range        16-24 ft.  1610612747   \n",
       "3  Right Side Center(RC)        Mid-Range        16-24 ft.  1610612747   \n",
       "4              Center(C)  Restricted Area  Less Than 8 ft.  1610612747   \n",
       "\n",
       "            team_name   game_date    matchup opponent  shot_id  \n",
       "0  Los Angeles Lakers  2000-10-31  LAL @ POR      POR        1  \n",
       "1  Los Angeles Lakers  2000-10-31  LAL @ POR      POR        2  \n",
       "2  Los Angeles Lakers  2000-10-31  LAL @ POR      POR        3  \n",
       "3  Los Angeles Lakers  2000-10-31  LAL @ POR      POR        4  \n",
       "4  Los Angeles Lakers  2000-10-31  LAL @ POR      POR        5  \n",
       "\n",
       "[5 rows x 25 columns]"
      ]
     },
     "execution_count": 5,
     "metadata": {},
     "output_type": "execute_result"
    }
   ],
   "source": [
    "kobe.head(5)"
   ]
  },
  {
   "cell_type": "markdown",
   "id": "ff4d32ae-4cfd-4472-8b02-d6e2d6c064cc",
   "metadata": {},
   "source": [
    "### how many different values in each column"
   ]
  },
  {
   "cell_type": "code",
   "execution_count": 26,
   "id": "70997bb6-681c-480f-aad2-901c5c32eeb5",
   "metadata": {
    "tags": []
   },
   "outputs": [
    {
     "name": "stdout",
     "output_type": "stream",
     "text": [
      "Jump Shot                             18880\n",
      "Layup Shot                             2567\n",
      "Driving Layup Shot                     1978\n",
      "Turnaround Jump Shot                   1057\n",
      "Fadeaway Jump Shot                     1048\n",
      "Running Jump Shot                       926\n",
      "Pullup Jump shot                        476\n",
      "Turnaround Fadeaway shot                439\n",
      "Slam Dunk Shot                          411\n",
      "Reverse Layup Shot                      395\n",
      "Jump Bank Shot                          333\n",
      "Driving Dunk Shot                       310\n",
      "Dunk Shot                               262\n",
      "Tip Shot                                182\n",
      "Alley Oop Dunk Shot                     122\n",
      "Step Back Jump shot                     118\n",
      "Floating Jump shot                      114\n",
      "Driving Reverse Layup Shot               97\n",
      "Hook Shot                                84\n",
      "Driving Finger Roll Shot                 82\n",
      "Alley Oop Layup shot                     80\n",
      "Reverse Dunk Shot                        75\n",
      "Running Layup Shot                       72\n",
      "Turnaround Bank shot                     71\n",
      "Driving Finger Roll Layup Shot           69\n",
      "Driving Slam Dunk Shot                   48\n",
      "Running Bank shot                        48\n",
      "Running Hook Shot                        41\n",
      "Finger Roll Layup Shot                   33\n",
      "Fadeaway Bank shot                       31\n",
      "Driving Jump shot                        28\n",
      "Finger Roll Shot                         28\n",
      "Jump Hook Shot                           24\n",
      "Running Dunk Shot                        19\n",
      "Reverse Slam Dunk Shot                   16\n",
      "Putback Layup Shot                       15\n",
      "Follow Up Dunk Shot                      15\n",
      "Driving Hook Shot                        14\n",
      "Turnaround Hook Shot                     14\n",
      "Pullup Bank shot                         12\n",
      "Running Reverse Layup Shot               11\n",
      "Running Finger Roll Layup Shot            6\n",
      "Cutting Layup Shot                        6\n",
      "Hook Bank Shot                            5\n",
      "Driving Bank shot                         5\n",
      "Driving Floating Jump Shot                5\n",
      "Putback Dunk Shot                         5\n",
      "Running Pull-Up Jump Shot                 4\n",
      "Running Finger Roll Shot                  4\n",
      "Putback Slam Dunk Shot                    2\n",
      "Tip Layup Shot                            2\n",
      "Turnaround Finger Roll Shot               2\n",
      "Running Tip Shot                          2\n",
      "Running Slam Dunk Shot                    1\n",
      "Turnaround Fadeaway Bank Jump Shot        1\n",
      "Cutting Finger Roll Layup Shot            1\n",
      "Driving Floating Bank Jump Shot           1\n",
      "Name: action_type, dtype: int64\n",
      "3    8296\n",
      "1    8048\n",
      "4    7260\n",
      "2    6718\n",
      "5     330\n",
      "6      38\n",
      "7       7\n",
      "Name: period, dtype: int64\n",
      "Jump Shot    23485\n",
      "Layup         5448\n",
      "Dunk          1286\n",
      "Tip Shot       184\n",
      "Hook Shot      153\n",
      "Bank Shot      141\n",
      "Name: combined_shot_type, dtype: int64\n",
      "2005-06    2318\n",
      "2008-09    2242\n",
      "2002-03    2241\n",
      "2007-08    2153\n",
      "2009-10    2080\n",
      "2001-02    2028\n",
      "2006-07    1887\n",
      "2000-01    1868\n",
      "2010-11    1825\n",
      "2003-04    1638\n",
      "2011-12    1637\n",
      "2012-13    1593\n",
      "1999-00    1577\n",
      "2004-05    1324\n",
      "2015-16    1113\n",
      "1997-98     989\n",
      "1998-99     921\n",
      "2014-15     713\n",
      "1996-97     477\n",
      "2013-14      73\n",
      "Name: season, dtype: int64\n",
      "2PT Field Goal    24271\n",
      "3PT Field Goal     6426\n",
      "Name: shot_type, dtype: int64\n",
      "Center(C)                13455\n",
      "Right Side Center(RC)     4776\n",
      "Right Side(R)             4588\n",
      "Left Side Center(LC)      4044\n",
      "Left Side(L)              3751\n",
      "Back Court(BC)              83\n",
      "Name: shot_zone_area, dtype: int64\n",
      "Mid-Range                12625\n",
      "Restricted Area           7136\n",
      "Above the Break 3         5620\n",
      "In The Paint (Non-RA)     4578\n",
      "Right Corner 3             387\n",
      "Left Corner 3              280\n",
      "Backcourt                   71\n",
      "Name: shot_zone_basic, dtype: int64\n",
      "Less Than 8 ft.    9398\n",
      "16-24 ft.          8315\n",
      "8-16 ft.           6626\n",
      "24+ ft.            6275\n",
      "Back Court Shot      83\n",
      "Name: shot_zone_range, dtype: int64\n",
      "Los Angeles Lakers    30697\n",
      "Name: team_name, dtype: int64\n",
      "2016-04-13    50\n",
      "2002-11-07    47\n",
      "2006-01-22    46\n",
      "2006-12-29    45\n",
      "2008-01-14    44\n",
      "              ..\n",
      "1997-04-25     1\n",
      "1996-11-03     1\n",
      "1996-12-29     1\n",
      "1997-03-20     1\n",
      "1996-11-05     1\n",
      "Name: game_date, Length: 1559, dtype: int64\n",
      "LAL @ SAS      1020\n",
      "LAL vs. SAS     936\n",
      "LAL @ SAC       889\n",
      "LAL vs. HOU     878\n",
      "LAL @ DEN       873\n",
      "               ... \n",
      "LAL @ PHO        33\n",
      "LAL vs. NOP      27\n",
      "LAL vs. SAN      22\n",
      "LAL @ UTH        21\n",
      "LAL vs. BKN      15\n",
      "Name: matchup, Length: 74, dtype: int64\n"
     ]
    }
   ],
   "source": [
    "#source code: https://stackoverflow.com/questions/23197324/pandas-value-counts-applied-to-each-column\n",
    "for c in kobe_objects.columns:\n",
    "    print(kobe_objects[c].value_counts())"
   ]
  },
  {
   "cell_type": "markdown",
   "id": "04da9055-b092-4646-ba0d-ac46067d4892",
   "metadata": {},
   "source": [
    "### create a separate year column"
   ]
  },
  {
   "cell_type": "code",
   "execution_count": 29,
   "id": "bbfccef5-f70e-416e-ab72-d1fabcb114b8",
   "metadata": {},
   "outputs": [],
   "source": [
    "kobe['game_year'] = pd.DatetimeIndex(kobe['game_date']).year"
   ]
  },
  {
   "cell_type": "markdown",
   "id": "3dc5199f-744e-415d-a421-51b88f804366",
   "metadata": {},
   "source": [
    "### Fillna Kobe's NaN shots"
   ]
  },
  {
   "cell_type": "code",
   "execution_count": null,
   "id": "a2f30381-6694-4cd3-b1eb-a0c4d2ffc1d0",
   "metadata": {},
   "outputs": [],
   "source": [
    "###Only 0.827% of Kobes made shots are unnaccounted for in this dataset"
   ]
  },
  {
   "cell_type": "code",
   "execution_count": 30,
   "id": "5322a6ab-ed0f-4f44-993b-a98d09a3f4c8",
   "metadata": {},
   "outputs": [],
   "source": [
    "kobe['shot_made_flag'] = kobe['shot_made_flag'].fillna(0)"
   ]
  },
  {
   "cell_type": "code",
   "execution_count": 101,
   "id": "0f2c43ac-0dd8-444f-8a92-f921128bc5b9",
   "metadata": {},
   "outputs": [],
   "source": [
    "#create a classification dataframe\n",
    "kobe_objects = kobe[['period','combined_shot_type','season','shot_type','shot_zone_area','shot_zone_basic','shot_zone_range']]"
   ]
  },
  {
   "cell_type": "code",
   "execution_count": 102,
   "id": "1b8622fa-4755-4819-976c-059b94689798",
   "metadata": {},
   "outputs": [],
   "source": [
    "#get dummies\n",
    "kobe_objects_dummies = pd.get_dummies(kobe_objects)"
   ]
  },
  {
   "cell_type": "markdown",
   "id": "6518cccb-3d25-433f-b687-586e3ccfecc0",
   "metadata": {},
   "source": [
    "### Classification"
   ]
  },
  {
   "cell_type": "code",
   "execution_count": 103,
   "id": "5256ea51-f2da-44ae-a1d4-e60aee9a32a1",
   "metadata": {},
   "outputs": [],
   "source": [
    "X = kobe_objects_dummies\n",
    "y = kobe['shot_made_flag']"
   ]
  },
  {
   "cell_type": "markdown",
   "id": "98992540-1fc3-45d8-b57a-232ee7cc53b5",
   "metadata": {},
   "source": [
    "### Train/Test Split\n",
    "---\n",
    "\n",
    "We always want to have a validation set to test our model. Use the `train_test_split` function to split our `X` and `y` variables into a training set and a holdout set."
   ]
  },
  {
   "cell_type": "code",
   "execution_count": 104,
   "id": "9467919c-d172-4dc7-af65-cd6d4b27c802",
   "metadata": {},
   "outputs": [],
   "source": [
    "X_train, X_test, y_train, y_test = train_test_split(X, y, random_state=42)"
   ]
  },
  {
   "cell_type": "markdown",
   "id": "b7e1aba0-e23d-44ac-a355-d8e51b904c8c",
   "metadata": {},
   "source": [
    "### `StandardScaler`\n",
    "---\n",
    "\n",
    "You want to scale your data for *any* model that uses Gradient Descent, which includes Neural Networks."
   ]
  },
  {
   "cell_type": "code",
   "execution_count": 105,
   "id": "4a421ed2-beb5-49c2-a098-2c82e5ba2519",
   "metadata": {},
   "outputs": [],
   "source": [
    "sc = StandardScaler()\n",
    "X_train_sc = sc.fit_transform(X_train)\n",
    "X_test_sc = sc.transform(X_test)"
   ]
  },
  {
   "cell_type": "markdown",
   "id": "e368b447-f12c-4184-88a9-d4614fa4198e",
   "metadata": {},
   "source": [
    "### Create your network topology\n",
    "---\n",
    "\n",
    "We'll create a neural network like we've done before, only this time we'll wrap the entire model in a function. Once we have that set up, we can use the `KerasRegressor` wrapper to set it up as an `sklearn` model, which we'll then apply `GridSearchCV`."
   ]
  },
  {
   "cell_type": "code",
   "execution_count": 62,
   "id": "f8daae82-bf07-40ff-bf5f-d1a1ab01c146",
   "metadata": {},
   "outputs": [],
   "source": [
    "# Define a function that will go in the scikit-learn wrapper\n"
   ]
  },
  {
   "cell_type": "code",
   "execution_count": 63,
   "id": "2184b76e-ef9f-4852-8865-201a54fcff47",
   "metadata": {},
   "outputs": [
    {
     "name": "stdout",
     "output_type": "stream",
     "text": [
      "Epoch 1/10\n",
      "90/90 [==============================] - 0s 1ms/step - loss: 0.4841 - val_loss: 0.2749\n",
      "Epoch 2/10\n",
      "90/90 [==============================] - 0s 753us/step - loss: 0.2565 - val_loss: 0.2488\n",
      "Epoch 3/10\n",
      "90/90 [==============================] - 0s 742us/step - loss: 0.2402 - val_loss: 0.2394\n",
      "Epoch 4/10\n",
      "90/90 [==============================] - 0s 742us/step - loss: 0.2333 - val_loss: 0.2349\n",
      "Epoch 5/10\n",
      "90/90 [==============================] - 0s 753us/step - loss: 0.2298 - val_loss: 0.2320\n",
      "Epoch 6/10\n",
      "90/90 [==============================] - 0s 764us/step - loss: 0.2275 - val_loss: 0.2309\n",
      "Epoch 7/10\n",
      "90/90 [==============================] - 0s 753us/step - loss: 0.2262 - val_loss: 0.2301\n",
      "Epoch 8/10\n",
      "90/90 [==============================] - 0s 753us/step - loss: 0.2252 - val_loss: 0.2302\n",
      "Epoch 9/10\n",
      "90/90 [==============================] - 0s 753us/step - loss: 0.2241 - val_loss: 0.2293\n",
      "Epoch 10/10\n",
      "90/90 [==============================] - 0s 753us/step - loss: 0.2238 - val_loss: 0.2283\n"
     ]
    },
    {
     "data": {
      "text/plain": [
       "<keras.callbacks.History at 0x214c50de220>"
      ]
     },
     "execution_count": 63,
     "metadata": {},
     "output_type": "execute_result"
    }
   ],
   "source": [
    "# Create a \"baseline\" model, without grid searching over the parameters\n",
    "model = Sequential()\n",
    "model.add(Dense(32, activation='relu', input_shape=(X_train_sc.shape[1], )))\n",
    "model.add(Dense(1, activation=None)) # Regression problem - no activation function\n",
    "\n",
    "# Compile it\n",
    "model.compile(loss='mse', optimizer='adam')\n",
    "\n",
    "# Fit the network\n",
    "model.fit(X_train_sc, y_train, validation_data=(X_test_sc, y_test), batch_size=256, epochs=10)"
   ]
  },
  {
   "cell_type": "code",
   "execution_count": 64,
   "id": "7f2cf9c2-ac40-43fb-b55c-7b98c12188c7",
   "metadata": {},
   "outputs": [
    {
     "name": "stdout",
     "output_type": "stream",
     "text": [
      "240/240 [==============================] - 0s 402us/step - loss: 0.2283\n"
     ]
    },
    {
     "data": {
      "text/plain": [
       "0.22829017043113708"
      ]
     },
     "execution_count": 64,
     "metadata": {},
     "output_type": "execute_result"
    }
   ],
   "source": [
    "model.evaluate(X_test_sc, y_test)"
   ]
  },
  {
   "cell_type": "code",
   "execution_count": 65,
   "id": "c219567d-3c97-4524-8a45-8388cec6ce3f",
   "metadata": {},
   "outputs": [
    {
     "data": {
      "text/plain": [
       "array([[0.48926282],\n",
       "       [0.43259293],\n",
       "       [0.2552861 ],\n",
       "       ...,\n",
       "       [0.2589957 ],\n",
       "       [0.254412  ],\n",
       "       [0.34414983]], dtype=float32)"
      ]
     },
     "execution_count": 65,
     "metadata": {},
     "output_type": "execute_result"
    }
   ],
   "source": [
    "y_pred = model.predict(X_test_sc)\n",
    "y_pred"
   ]
  },
  {
   "cell_type": "code",
   "execution_count": 66,
   "id": "329b87d8-6e7d-4885-aa23-28d3a1041bf5",
   "metadata": {},
   "outputs": [
    {
     "data": {
      "text/plain": [
       "0.03185873794969318"
      ]
     },
     "execution_count": 66,
     "metadata": {},
     "output_type": "execute_result"
    }
   ],
   "source": [
    "# Get the testing R-squared\n",
    "metrics.r2_score(y_true=y_test, y_pred=y_pred)"
   ]
  },
  {
   "cell_type": "code",
   "execution_count": 74,
   "id": "af220a8c-f33f-480d-98ef-11cfeabc00f7",
   "metadata": {},
   "outputs": [],
   "source": [
    "def create_smaller():\n",
    "    # create model\n",
    "    model = Sequential()\n",
    "    model.add(Dense(30, input_dim=47, activation='relu'))\n",
    "    model.add(Dense(1, activation='sigmoid'))\n",
    "    # Compile model\n",
    "    model.compile(loss='binary_crossentropy', optimizer='adam', metrics=['accuracy'])\n",
    "    return model"
   ]
  },
  {
   "cell_type": "code",
   "execution_count": 75,
   "id": "258e7ef7-3917-475e-9566-16aca2a4ce81",
   "metadata": {},
   "outputs": [],
   "source": [
    "# Wrap the function with the KerasRegressor\n",
    "nn = KerasClassifier(build_fn=create_smaller, epochs=10, batch_size=5, validation_data=(X_test_sc, y_test))"
   ]
  },
  {
   "cell_type": "code",
   "execution_count": 76,
   "id": "578e631b-bf19-4800-abc7-2bdfe2d90237",
   "metadata": {},
   "outputs": [
    {
     "name": "stdout",
     "output_type": "stream",
     "text": [
      "Epoch 1/10\n",
      "4605/4605 [==============================] - 3s 659us/step - loss: 0.6493 - accuracy: 0.6409 - val_loss: 0.6459 - val_accuracy: 0.6435\n",
      "Epoch 2/10\n",
      "4605/4605 [==============================] - 3s 625us/step - loss: 0.6394 - accuracy: 0.6458 - val_loss: 0.6420 - val_accuracy: 0.6412\n",
      "Epoch 3/10\n",
      "4605/4605 [==============================] - 3s 615us/step - loss: 0.6373 - accuracy: 0.6481 - val_loss: 0.6435 - val_accuracy: 0.6435\n",
      "Epoch 4/10\n",
      "4605/4605 [==============================] - 3s 626us/step - loss: 0.6363 - accuracy: 0.6507 - val_loss: 0.6419 - val_accuracy: 0.6459\n",
      "Epoch 5/10\n",
      "4605/4605 [==============================] - 3s 618us/step - loss: 0.6354 - accuracy: 0.6514 - val_loss: 0.6432 - val_accuracy: 0.6444\n",
      "Epoch 6/10\n",
      "4605/4605 [==============================] - 3s 630us/step - loss: 0.6353 - accuracy: 0.6507 - val_loss: 0.6413 - val_accuracy: 0.6431\n",
      "Epoch 7/10\n",
      "4605/4605 [==============================] - 3s 623us/step - loss: 0.6349 - accuracy: 0.6504 - val_loss: 0.6420 - val_accuracy: 0.6452\n",
      "Epoch 8/10\n",
      "4605/4605 [==============================] - 3s 618us/step - loss: 0.6349 - accuracy: 0.6512 - val_loss: 0.6410 - val_accuracy: 0.6472\n",
      "Epoch 9/10\n",
      "4605/4605 [==============================] - 3s 620us/step - loss: 0.6344 - accuracy: 0.6509 - val_loss: 0.6414 - val_accuracy: 0.6464\n",
      "Epoch 10/10\n",
      "4605/4605 [==============================] - 3s 620us/step - loss: 0.6342 - accuracy: 0.6515 - val_loss: 0.6409 - val_accuracy: 0.6450\n"
     ]
    },
    {
     "data": {
      "text/plain": [
       "<keras.callbacks.History at 0x214cbd237f0>"
      ]
     },
     "execution_count": 76,
     "metadata": {},
     "output_type": "execute_result"
    }
   ],
   "source": [
    "# I can now fit it as a Scikit-Learn model!\n",
    "nn.fit(X_train_sc, y_train)"
   ]
  },
  {
   "cell_type": "code",
   "execution_count": 80,
   "id": "030e75b0-ff92-446d-a9db-0f814f46fa8e",
   "metadata": {
    "collapsed": true,
    "jupyter": {
     "outputs_hidden": true
    },
    "tags": []
   },
   "outputs": [
    {
     "name": "stdout",
     "output_type": "stream",
     "text": [
      "Epoch 1/10\n",
      "3684/3684 [==============================] - 3s 664us/step - loss: 0.6516 - accuracy: 0.6371 - val_loss: 0.6434 - val_accuracy: 0.6439\n",
      "Epoch 2/10\n",
      "3684/3684 [==============================] - 2s 638us/step - loss: 0.6413 - accuracy: 0.6497 - val_loss: 0.6456 - val_accuracy: 0.6336\n",
      "Epoch 3/10\n",
      "3684/3684 [==============================] - 2s 639us/step - loss: 0.6388 - accuracy: 0.6499 - val_loss: 0.6431 - val_accuracy: 0.6446\n",
      "Epoch 4/10\n",
      "3684/3684 [==============================] - 2s 652us/step - loss: 0.6372 - accuracy: 0.6503 - val_loss: 0.6420 - val_accuracy: 0.6439\n",
      "Epoch 5/10\n",
      "3684/3684 [==============================] - 2s 650us/step - loss: 0.6369 - accuracy: 0.6519 - val_loss: 0.6418 - val_accuracy: 0.6440\n",
      "Epoch 6/10\n",
      "3684/3684 [==============================] - 2s 645us/step - loss: 0.6368 - accuracy: 0.6492 - val_loss: 0.6416 - val_accuracy: 0.6443\n",
      "Epoch 7/10\n",
      "3684/3684 [==============================] - 2s 672us/step - loss: 0.6363 - accuracy: 0.6505 - val_loss: 0.6403 - val_accuracy: 0.6443\n",
      "Epoch 8/10\n",
      "3684/3684 [==============================] - 2s 659us/step - loss: 0.6360 - accuracy: 0.6498 - val_loss: 0.6401 - val_accuracy: 0.6452\n",
      "Epoch 9/10\n",
      "3684/3684 [==============================] - 2s 663us/step - loss: 0.6360 - accuracy: 0.6508 - val_loss: 0.6407 - val_accuracy: 0.6443\n",
      "Epoch 10/10\n",
      "3684/3684 [==============================] - 2s 647us/step - loss: 0.6350 - accuracy: 0.6516 - val_loss: 0.6414 - val_accuracy: 0.6439\n",
      "921/921 [==============================] - 1s 650us/step - loss: 0.6322 - accuracy: 0.6515\n",
      "Epoch 1/10\n",
      "3684/3684 [==============================] - 3s 686us/step - loss: 0.6490 - accuracy: 0.6377 - val_loss: 0.6443 - val_accuracy: 0.6390\n",
      "Epoch 2/10\n",
      "3684/3684 [==============================] - 2s 654us/step - loss: 0.6390 - accuracy: 0.6464 - val_loss: 0.6435 - val_accuracy: 0.6427\n",
      "Epoch 3/10\n",
      "3684/3684 [==============================] - 2s 663us/step - loss: 0.6370 - accuracy: 0.6466 - val_loss: 0.6458 - val_accuracy: 0.6440\n",
      "Epoch 4/10\n",
      "3684/3684 [==============================] - 2s 655us/step - loss: 0.6353 - accuracy: 0.6484 - val_loss: 0.6420 - val_accuracy: 0.6464\n",
      "Epoch 5/10\n",
      "3684/3684 [==============================] - 2s 662us/step - loss: 0.6349 - accuracy: 0.6490 - val_loss: 0.6412 - val_accuracy: 0.6456\n",
      "Epoch 6/10\n",
      "3684/3684 [==============================] - 2s 655us/step - loss: 0.6346 - accuracy: 0.6502 - val_loss: 0.6413 - val_accuracy: 0.6429\n",
      "Epoch 7/10\n",
      "3684/3684 [==============================] - 2s 653us/step - loss: 0.6343 - accuracy: 0.6503 - val_loss: 0.6421 - val_accuracy: 0.6436\n",
      "Epoch 8/10\n",
      "3684/3684 [==============================] - 2s 652us/step - loss: 0.6342 - accuracy: 0.6506 - val_loss: 0.6419 - val_accuracy: 0.6434\n",
      "Epoch 9/10\n",
      "3684/3684 [==============================] - 2s 658us/step - loss: 0.6332 - accuracy: 0.6493 - val_loss: 0.6426 - val_accuracy: 0.6443\n",
      "Epoch 10/10\n",
      "3684/3684 [==============================] - 2s 656us/step - loss: 0.6333 - accuracy: 0.6504 - val_loss: 0.6427 - val_accuracy: 0.6392\n",
      "921/921 [==============================] - 1s 638us/step - loss: 0.6409 - accuracy: 0.6473\n",
      "Epoch 1/10\n",
      "3684/3684 [==============================] - 3s 677us/step - loss: 0.6461 - accuracy: 0.6426 - val_loss: 0.6464 - val_accuracy: 0.6450\n",
      "Epoch 2/10\n",
      "3684/3684 [==============================] - 2s 656us/step - loss: 0.6379 - accuracy: 0.6488 - val_loss: 0.6413 - val_accuracy: 0.6430\n",
      "Epoch 3/10\n",
      "3684/3684 [==============================] - 2s 656us/step - loss: 0.6368 - accuracy: 0.6493 - val_loss: 0.6406 - val_accuracy: 0.6438\n",
      "Epoch 4/10\n",
      "3684/3684 [==============================] - 2s 650us/step - loss: 0.6344 - accuracy: 0.6516 - val_loss: 0.6416 - val_accuracy: 0.6386\n",
      "Epoch 5/10\n",
      "3684/3684 [==============================] - 2s 648us/step - loss: 0.6343 - accuracy: 0.6516 - val_loss: 0.6417 - val_accuracy: 0.6452\n",
      "Epoch 6/10\n",
      "3684/3684 [==============================] - 2s 643us/step - loss: 0.6336 - accuracy: 0.6506 - val_loss: 0.6416 - val_accuracy: 0.6427\n",
      "Epoch 7/10\n",
      "3684/3684 [==============================] - 2s 648us/step - loss: 0.6329 - accuracy: 0.6522 - val_loss: 0.6407 - val_accuracy: 0.6436\n",
      "Epoch 8/10\n",
      "3684/3684 [==============================] - 2s 646us/step - loss: 0.6328 - accuracy: 0.6531 - val_loss: 0.6417 - val_accuracy: 0.6446\n",
      "Epoch 9/10\n",
      "3684/3684 [==============================] - 2s 648us/step - loss: 0.6319 - accuracy: 0.6525 - val_loss: 0.6431 - val_accuracy: 0.6412\n",
      "Epoch 10/10\n",
      "3684/3684 [==============================] - 2s 640us/step - loss: 0.6320 - accuracy: 0.6518 - val_loss: 0.6416 - val_accuracy: 0.6447\n",
      "921/921 [==============================] - 1s 634us/step - loss: 0.6466 - accuracy: 0.6466\n",
      "Epoch 1/10\n",
      "3684/3684 [==============================] - 3s 671us/step - loss: 0.6588 - accuracy: 0.6344 - val_loss: 0.6447 - val_accuracy: 0.6418\n",
      "Epoch 2/10\n",
      "3684/3684 [==============================] - 2s 642us/step - loss: 0.6397 - accuracy: 0.6473 - val_loss: 0.6441 - val_accuracy: 0.6397\n",
      "Epoch 3/10\n",
      "3684/3684 [==============================] - 2s 661us/step - loss: 0.6374 - accuracy: 0.6487 - val_loss: 0.6428 - val_accuracy: 0.6410\n",
      "Epoch 4/10\n",
      "3684/3684 [==============================] - 2s 654us/step - loss: 0.6361 - accuracy: 0.6488 - val_loss: 0.6411 - val_accuracy: 0.6461\n",
      "Epoch 5/10\n",
      "3684/3684 [==============================] - 2s 657us/step - loss: 0.6350 - accuracy: 0.6482 - val_loss: 0.6438 - val_accuracy: 0.6423\n",
      "Epoch 6/10\n",
      "3684/3684 [==============================] - 2s 655us/step - loss: 0.6345 - accuracy: 0.6494 - val_loss: 0.6406 - val_accuracy: 0.6459\n",
      "Epoch 7/10\n",
      "3684/3684 [==============================] - 2s 657us/step - loss: 0.6339 - accuracy: 0.6482 - val_loss: 0.6412 - val_accuracy: 0.6418\n",
      "Epoch 8/10\n",
      "3684/3684 [==============================] - 2s 665us/step - loss: 0.6340 - accuracy: 0.6487 - val_loss: 0.6409 - val_accuracy: 0.6434\n",
      "Epoch 9/10\n",
      "3684/3684 [==============================] - 3s 681us/step - loss: 0.6334 - accuracy: 0.6488 - val_loss: 0.6413 - val_accuracy: 0.6421\n",
      "Epoch 10/10\n",
      "3684/3684 [==============================] - 2s 660us/step - loss: 0.6331 - accuracy: 0.6505 - val_loss: 0.6409 - val_accuracy: 0.6444\n",
      "921/921 [==============================] - 1s 641us/step - loss: 0.6414 - accuracy: 0.6555\n",
      "Epoch 1/10\n",
      "3684/3684 [==============================] - 3s 678us/step - loss: 0.6554 - accuracy: 0.6356 - val_loss: 0.6482 - val_accuracy: 0.6457\n",
      "Epoch 2/10\n",
      "3684/3684 [==============================] - 2s 655us/step - loss: 0.6392 - accuracy: 0.6506 - val_loss: 0.6417 - val_accuracy: 0.6409\n",
      "Epoch 3/10\n",
      "3684/3684 [==============================] - 2s 661us/step - loss: 0.6361 - accuracy: 0.6513 - val_loss: 0.6426 - val_accuracy: 0.6456\n",
      "Epoch 4/10\n",
      "3684/3684 [==============================] - 2s 656us/step - loss: 0.6358 - accuracy: 0.6515 - val_loss: 0.6412 - val_accuracy: 0.6435\n",
      "Epoch 5/10\n",
      "3684/3684 [==============================] - 2s 650us/step - loss: 0.6350 - accuracy: 0.6515 - val_loss: 0.6411 - val_accuracy: 0.6443\n",
      "Epoch 6/10\n",
      "3684/3684 [==============================] - 2s 653us/step - loss: 0.6343 - accuracy: 0.6531 - val_loss: 0.6412 - val_accuracy: 0.6425\n",
      "Epoch 7/10\n",
      "3684/3684 [==============================] - 2s 656us/step - loss: 0.6339 - accuracy: 0.6525 - val_loss: 0.6439 - val_accuracy: 0.6455\n",
      "Epoch 8/10\n",
      "3684/3684 [==============================] - 2s 662us/step - loss: 0.6338 - accuracy: 0.6512 - val_loss: 0.6414 - val_accuracy: 0.6433\n",
      "Epoch 9/10\n",
      "3684/3684 [==============================] - 2s 659us/step - loss: 0.6332 - accuracy: 0.6520 - val_loss: 0.6409 - val_accuracy: 0.6439\n",
      "Epoch 10/10\n",
      "3684/3684 [==============================] - 2s 654us/step - loss: 0.6330 - accuracy: 0.6543 - val_loss: 0.6407 - val_accuracy: 0.6457\n",
      "921/921 [==============================] - 1s 649us/step - loss: 0.6406 - accuracy: 0.6394\n"
     ]
    }
   ],
   "source": [
    "# rfc_cv_scores = cross_val_score(nn, X_train, y_train)\n",
    "results = cross_val_score(nn, X_train_sc, y_train, verbose=0)"
   ]
  },
  {
   "cell_type": "code",
   "execution_count": 83,
   "id": "827a95dc-e691-47cf-bf96-5011810c25d9",
   "metadata": {},
   "outputs": [
    {
     "data": {
      "text/plain": [
       "0.6480756163597107"
      ]
     },
     "execution_count": 83,
     "metadata": {},
     "output_type": "execute_result"
    }
   ],
   "source": [
    "results.mean()"
   ]
  },
  {
   "cell_type": "code",
   "execution_count": 81,
   "id": "b0265974-cbe8-4f56-8a74-987580a216c2",
   "metadata": {},
   "outputs": [
    {
     "data": {
      "text/plain": [
       "-0.5057041362421109"
      ]
     },
     "execution_count": 81,
     "metadata": {},
     "output_type": "execute_result"
    }
   ],
   "source": [
    "# Testing R2\n",
    "metrics.r2_score(y_true=y_test, y_pred=nn.predict(X_test_sc))"
   ]
  },
  {
   "cell_type": "markdown",
   "id": "40760609-eee9-4a0e-9eb3-d63193a84c74",
   "metadata": {},
   "source": [
    "### Time to Grid Search!"
   ]
  },
  {
   "cell_type": "code",
   "execution_count": 88,
   "id": "e8c2bde1-3c99-4a5b-8fd1-360afcfd98ef",
   "metadata": {},
   "outputs": [],
   "source": [
    "#create a classification dataframe\n",
    "kobe_objects = kobe[['period','season','shot_type','shot_zone_range']]"
   ]
  },
  {
   "cell_type": "code",
   "execution_count": 89,
   "id": "d4019213-d9bf-4686-a888-552455f6c1f4",
   "metadata": {},
   "outputs": [],
   "source": [
    "#get dummies\n",
    "kobe_objects_dummies = pd.get_dummies(kobe_objects)"
   ]
  },
  {
   "cell_type": "markdown",
   "id": "ab708a7a-1acb-4951-9ddd-959ea9e36324",
   "metadata": {},
   "source": [
    "### Classification"
   ]
  },
  {
   "cell_type": "code",
   "execution_count": 90,
   "id": "528acc1a-b75c-4a2e-9085-a560991cbc74",
   "metadata": {},
   "outputs": [],
   "source": [
    "X = kobe_objects_dummies\n",
    "y = kobe['shot_made_flag']"
   ]
  },
  {
   "cell_type": "code",
   "execution_count": 91,
   "id": "60820638-3159-4fae-8ba9-6117141bc71f",
   "metadata": {},
   "outputs": [
    {
     "data": {
      "text/plain": [
       "(30697, 28)"
      ]
     },
     "execution_count": 91,
     "metadata": {},
     "output_type": "execute_result"
    }
   ],
   "source": [
    "X.shape"
   ]
  },
  {
   "cell_type": "markdown",
   "id": "550e0b84-a1a1-439e-b66c-b4ec1d35b74e",
   "metadata": {},
   "source": [
    "### Train/Test Split\n",
    "---\n",
    "\n",
    "We always want to have a validation set to test our model. Use the `train_test_split` function to split our `X` and `y` variables into a training set and a holdout set."
   ]
  },
  {
   "cell_type": "code",
   "execution_count": 92,
   "id": "c6a31cd8-5866-442e-a9c5-aef5781200d1",
   "metadata": {},
   "outputs": [],
   "source": [
    "X_train, X_test, y_train, y_test = train_test_split(X, y, random_state=42)"
   ]
  },
  {
   "cell_type": "markdown",
   "id": "62ad6273-7d38-413f-a63d-18fffc3a2ee8",
   "metadata": {},
   "source": [
    "### `StandardScaler`\n",
    "---\n",
    "\n",
    "You want to scale your data for *any* model that uses Gradient Descent, which includes Neural Networks."
   ]
  },
  {
   "cell_type": "code",
   "execution_count": 93,
   "id": "c0522d34-d4da-4a01-a503-9d5b029a56d9",
   "metadata": {},
   "outputs": [],
   "source": [
    "sc = StandardScaler()\n",
    "X_train_sc = sc.fit_transform(X_train)\n",
    "X_test_sc = sc.transform(X_test)"
   ]
  },
  {
   "cell_type": "code",
   "execution_count": 94,
   "id": "47633e6b-0b75-4da1-ac0e-535f97433bfc",
   "metadata": {},
   "outputs": [],
   "source": [
    "# Define a function that will go in the scikit-learn wrapper\n",
    "def model_func(layer_one_neurons=28, layer_two_neurons=16, layer_two=True):\n",
    "    \n",
    "    # Instantiate the model \n",
    "    model = Sequential()\n",
    "    \n",
    "    # First layer - input and 1st hidden\n",
    "    model.add(Dense(units=layer_one_neurons, activation='relu', input_shape=(X_train_sc.shape[1], )))\n",
    "    \n",
    "    if layer_two: # If layer_two is True, add another layer, with the number of neurons\n",
    "        model.add(Dense(units=layer_two_neurons, activation='relu'))\n",
    "    \n",
    "    # Output layer\n",
    "    model.add(Dense(units=1, activation=None))\n",
    "    \n",
    "    # Compile the network\n",
    "    model.compile(loss='binary_crossentropy', optimizer='adam', metrics=['accuracy'])\n",
    "    \n",
    "    return model"
   ]
  },
  {
   "cell_type": "code",
   "execution_count": 107,
   "id": "ab9c92d6-6370-4d84-8cde-96f8d05e18f0",
   "metadata": {},
   "outputs": [],
   "source": [
    "# larger model\n",
    "def create_larger():\n",
    "    # create model\n",
    "    model = Sequential()\n",
    "    model.add(Dense(47, input_dim=47, activation='relu'))\n",
    "    model.add(Dense(30, activation='relu'))\n",
    "    model.add(Dense(1, activation='sigmoid'))\n",
    "    # Compile model\n",
    "    model.compile(loss='binary_crossentropy', optimizer='adam', metrics=['accuracy'])\n",
    "    return model"
   ]
  },
  {
   "cell_type": "code",
   "execution_count": 108,
   "id": "6638fc33-7efb-42bb-a987-4106bcd1a1cc",
   "metadata": {},
   "outputs": [],
   "source": [
    "# Instantiate a model (without output)\n",
    "nn_larger = KerasClassifier(build_fn=create_larger, epochs=10, batch_size=5, validation_data=(X_test_sc, y_test), verbose=0) # no output"
   ]
  },
  {
   "cell_type": "code",
   "execution_count": 109,
   "id": "ed786c85-fa85-4628-94be-413b01723c54",
   "metadata": {},
   "outputs": [
    {
     "data": {
      "text/plain": [
       "<keras.callbacks.History at 0x214cbced820>"
      ]
     },
     "execution_count": 109,
     "metadata": {},
     "output_type": "execute_result"
    }
   ],
   "source": [
    "# I can now fit it as a Scikit-Learn model!\n",
    "nn_larger.fit(X_train_sc, y_train)"
   ]
  },
  {
   "cell_type": "code",
   "execution_count": 110,
   "id": "ee396c3b-7739-4cd2-95f6-6768bae1c673",
   "metadata": {
    "tags": []
   },
   "outputs": [],
   "source": [
    "# rfc_cv_scores = cross_val_score(nn, X_train, y_train)\n",
    "results = cross_val_score(nn_larger, X_train_sc, y_train, verbose=0)"
   ]
  },
  {
   "cell_type": "code",
   "execution_count": 111,
   "id": "4ac05f5e-1676-4c0f-9a8a-515af563035a",
   "metadata": {},
   "outputs": [
    {
     "data": {
      "text/plain": [
       "0.6459035873413086"
      ]
     },
     "execution_count": 111,
     "metadata": {},
     "output_type": "execute_result"
    }
   ],
   "source": [
    "results.mean()"
   ]
  },
  {
   "cell_type": "code",
   "execution_count": 115,
   "id": "bb78c526-09b0-4e0c-9b61-b1ac65e4b2a7",
   "metadata": {},
   "outputs": [
    {
     "data": {
      "text/plain": [
       "-0.5178602797273681"
      ]
     },
     "execution_count": 115,
     "metadata": {},
     "output_type": "execute_result"
    }
   ],
   "source": [
    "# Testing R2\n",
    "metrics.r2_score(y_true=y_test, y_pred=nn_larger.predict(X_test_sc))"
   ]
  },
  {
   "cell_type": "code",
   "execution_count": null,
   "id": "72586764-36ea-44f3-b370-d63b60286aa9",
   "metadata": {},
   "outputs": [],
   "source": []
  },
  {
   "cell_type": "code",
   "execution_count": null,
   "id": "0f705c95-9c75-450e-8f9d-1dae1069a819",
   "metadata": {},
   "outputs": [],
   "source": []
  },
  {
   "cell_type": "code",
   "execution_count": null,
   "id": "9ca26265-9c59-45ef-b4cd-aff3c35c3234",
   "metadata": {},
   "outputs": [],
   "source": []
  },
  {
   "cell_type": "code",
   "execution_count": 96,
   "id": "d7d6a0ca-f1c3-4d0e-a038-b740d89817b6",
   "metadata": {},
   "outputs": [],
   "source": [
    "# Parameters grid\n",
    "params = {\n",
    "    'epochs':[10, 20],\n",
    "    'layer_one_neurons':[16, 28],\n",
    "    'layer_two_neurons':[16, 28],\n",
    "    'layer_two':[True, False]\n",
    "}"
   ]
  },
  {
   "cell_type": "code",
   "execution_count": 97,
   "id": "d19718dd-e6c4-45d5-8e12-995487d2003c",
   "metadata": {
    "collapsed": true,
    "jupyter": {
     "outputs_hidden": true
    },
    "tags": []
   },
   "outputs": [
    {
     "ename": "KeyboardInterrupt",
     "evalue": "",
     "output_type": "error",
     "traceback": [
      "\u001b[1;31m---------------------------------------------------------------------------\u001b[0m",
      "\u001b[1;31mKeyboardInterrupt\u001b[0m                         Traceback (most recent call last)",
      "\u001b[1;32m<ipython-input-97-ff73889b6ec0>\u001b[0m in \u001b[0;36m<module>\u001b[1;34m\u001b[0m\n\u001b[0;32m      3\u001b[0m \u001b[1;33m\u001b[0m\u001b[0m\n\u001b[0;32m      4\u001b[0m \u001b[1;31m# Fit the GridSearch model!\u001b[0m\u001b[1;33m\u001b[0m\u001b[1;33m\u001b[0m\u001b[1;33m\u001b[0m\u001b[0m\n\u001b[1;32m----> 5\u001b[1;33m \u001b[0mgsnn\u001b[0m\u001b[1;33m.\u001b[0m\u001b[0mfit\u001b[0m\u001b[1;33m(\u001b[0m\u001b[0mX_train_sc\u001b[0m\u001b[1;33m,\u001b[0m \u001b[0my_train\u001b[0m\u001b[1;33m)\u001b[0m\u001b[1;33m\u001b[0m\u001b[1;33m\u001b[0m\u001b[0m\n\u001b[0m",
      "\u001b[1;32m~\\Anaconda\\lib\\site-packages\\sklearn\\utils\\validation.py\u001b[0m in \u001b[0;36minner_f\u001b[1;34m(*args, **kwargs)\u001b[0m\n\u001b[0;32m     61\u001b[0m             \u001b[0mextra_args\u001b[0m \u001b[1;33m=\u001b[0m \u001b[0mlen\u001b[0m\u001b[1;33m(\u001b[0m\u001b[0margs\u001b[0m\u001b[1;33m)\u001b[0m \u001b[1;33m-\u001b[0m \u001b[0mlen\u001b[0m\u001b[1;33m(\u001b[0m\u001b[0mall_args\u001b[0m\u001b[1;33m)\u001b[0m\u001b[1;33m\u001b[0m\u001b[1;33m\u001b[0m\u001b[0m\n\u001b[0;32m     62\u001b[0m             \u001b[1;32mif\u001b[0m \u001b[0mextra_args\u001b[0m \u001b[1;33m<=\u001b[0m \u001b[1;36m0\u001b[0m\u001b[1;33m:\u001b[0m\u001b[1;33m\u001b[0m\u001b[1;33m\u001b[0m\u001b[0m\n\u001b[1;32m---> 63\u001b[1;33m                 \u001b[1;32mreturn\u001b[0m \u001b[0mf\u001b[0m\u001b[1;33m(\u001b[0m\u001b[1;33m*\u001b[0m\u001b[0margs\u001b[0m\u001b[1;33m,\u001b[0m \u001b[1;33m**\u001b[0m\u001b[0mkwargs\u001b[0m\u001b[1;33m)\u001b[0m\u001b[1;33m\u001b[0m\u001b[1;33m\u001b[0m\u001b[0m\n\u001b[0m\u001b[0;32m     64\u001b[0m \u001b[1;33m\u001b[0m\u001b[0m\n\u001b[0;32m     65\u001b[0m             \u001b[1;31m# extra_args > 0\u001b[0m\u001b[1;33m\u001b[0m\u001b[1;33m\u001b[0m\u001b[1;33m\u001b[0m\u001b[0m\n",
      "\u001b[1;32m~\\Anaconda\\lib\\site-packages\\sklearn\\model_selection\\_search.py\u001b[0m in \u001b[0;36mfit\u001b[1;34m(self, X, y, groups, **fit_params)\u001b[0m\n\u001b[0;32m    839\u001b[0m                 \u001b[1;32mreturn\u001b[0m \u001b[0mresults\u001b[0m\u001b[1;33m\u001b[0m\u001b[1;33m\u001b[0m\u001b[0m\n\u001b[0;32m    840\u001b[0m \u001b[1;33m\u001b[0m\u001b[0m\n\u001b[1;32m--> 841\u001b[1;33m             \u001b[0mself\u001b[0m\u001b[1;33m.\u001b[0m\u001b[0m_run_search\u001b[0m\u001b[1;33m(\u001b[0m\u001b[0mevaluate_candidates\u001b[0m\u001b[1;33m)\u001b[0m\u001b[1;33m\u001b[0m\u001b[1;33m\u001b[0m\u001b[0m\n\u001b[0m\u001b[0;32m    842\u001b[0m \u001b[1;33m\u001b[0m\u001b[0m\n\u001b[0;32m    843\u001b[0m             \u001b[1;31m# multimetric is determined here because in the case of a callable\u001b[0m\u001b[1;33m\u001b[0m\u001b[1;33m\u001b[0m\u001b[1;33m\u001b[0m\u001b[0m\n",
      "\u001b[1;32m~\\Anaconda\\lib\\site-packages\\sklearn\\model_selection\\_search.py\u001b[0m in \u001b[0;36m_run_search\u001b[1;34m(self, evaluate_candidates)\u001b[0m\n\u001b[0;32m   1286\u001b[0m     \u001b[1;32mdef\u001b[0m \u001b[0m_run_search\u001b[0m\u001b[1;33m(\u001b[0m\u001b[0mself\u001b[0m\u001b[1;33m,\u001b[0m \u001b[0mevaluate_candidates\u001b[0m\u001b[1;33m)\u001b[0m\u001b[1;33m:\u001b[0m\u001b[1;33m\u001b[0m\u001b[1;33m\u001b[0m\u001b[0m\n\u001b[0;32m   1287\u001b[0m         \u001b[1;34m\"\"\"Search all candidates in param_grid\"\"\"\u001b[0m\u001b[1;33m\u001b[0m\u001b[1;33m\u001b[0m\u001b[0m\n\u001b[1;32m-> 1288\u001b[1;33m         \u001b[0mevaluate_candidates\u001b[0m\u001b[1;33m(\u001b[0m\u001b[0mParameterGrid\u001b[0m\u001b[1;33m(\u001b[0m\u001b[0mself\u001b[0m\u001b[1;33m.\u001b[0m\u001b[0mparam_grid\u001b[0m\u001b[1;33m)\u001b[0m\u001b[1;33m)\u001b[0m\u001b[1;33m\u001b[0m\u001b[1;33m\u001b[0m\u001b[0m\n\u001b[0m\u001b[0;32m   1289\u001b[0m \u001b[1;33m\u001b[0m\u001b[0m\n\u001b[0;32m   1290\u001b[0m \u001b[1;33m\u001b[0m\u001b[0m\n",
      "\u001b[1;32m~\\Anaconda\\lib\\site-packages\\sklearn\\model_selection\\_search.py\u001b[0m in \u001b[0;36mevaluate_candidates\u001b[1;34m(candidate_params, cv, more_results)\u001b[0m\n\u001b[0;32m    793\u001b[0m                               n_splits, n_candidates, n_candidates * n_splits))\n\u001b[0;32m    794\u001b[0m \u001b[1;33m\u001b[0m\u001b[0m\n\u001b[1;32m--> 795\u001b[1;33m                 out = parallel(delayed(_fit_and_score)(clone(base_estimator),\n\u001b[0m\u001b[0;32m    796\u001b[0m                                                        \u001b[0mX\u001b[0m\u001b[1;33m,\u001b[0m \u001b[0my\u001b[0m\u001b[1;33m,\u001b[0m\u001b[1;33m\u001b[0m\u001b[1;33m\u001b[0m\u001b[0m\n\u001b[0;32m    797\u001b[0m                                                        \u001b[0mtrain\u001b[0m\u001b[1;33m=\u001b[0m\u001b[0mtrain\u001b[0m\u001b[1;33m,\u001b[0m \u001b[0mtest\u001b[0m\u001b[1;33m=\u001b[0m\u001b[0mtest\u001b[0m\u001b[1;33m,\u001b[0m\u001b[1;33m\u001b[0m\u001b[1;33m\u001b[0m\u001b[0m\n",
      "\u001b[1;32m~\\Anaconda\\lib\\site-packages\\joblib\\parallel.py\u001b[0m in \u001b[0;36m__call__\u001b[1;34m(self, iterable)\u001b[0m\n\u001b[0;32m   1042\u001b[0m                 \u001b[0mself\u001b[0m\u001b[1;33m.\u001b[0m\u001b[0m_iterating\u001b[0m \u001b[1;33m=\u001b[0m \u001b[0mself\u001b[0m\u001b[1;33m.\u001b[0m\u001b[0m_original_iterator\u001b[0m \u001b[1;32mis\u001b[0m \u001b[1;32mnot\u001b[0m \u001b[1;32mNone\u001b[0m\u001b[1;33m\u001b[0m\u001b[1;33m\u001b[0m\u001b[0m\n\u001b[0;32m   1043\u001b[0m \u001b[1;33m\u001b[0m\u001b[0m\n\u001b[1;32m-> 1044\u001b[1;33m             \u001b[1;32mwhile\u001b[0m \u001b[0mself\u001b[0m\u001b[1;33m.\u001b[0m\u001b[0mdispatch_one_batch\u001b[0m\u001b[1;33m(\u001b[0m\u001b[0miterator\u001b[0m\u001b[1;33m)\u001b[0m\u001b[1;33m:\u001b[0m\u001b[1;33m\u001b[0m\u001b[1;33m\u001b[0m\u001b[0m\n\u001b[0m\u001b[0;32m   1045\u001b[0m                 \u001b[1;32mpass\u001b[0m\u001b[1;33m\u001b[0m\u001b[1;33m\u001b[0m\u001b[0m\n\u001b[0;32m   1046\u001b[0m \u001b[1;33m\u001b[0m\u001b[0m\n",
      "\u001b[1;32m~\\Anaconda\\lib\\site-packages\\joblib\\parallel.py\u001b[0m in \u001b[0;36mdispatch_one_batch\u001b[1;34m(self, iterator)\u001b[0m\n\u001b[0;32m    857\u001b[0m                 \u001b[1;32mreturn\u001b[0m \u001b[1;32mFalse\u001b[0m\u001b[1;33m\u001b[0m\u001b[1;33m\u001b[0m\u001b[0m\n\u001b[0;32m    858\u001b[0m             \u001b[1;32melse\u001b[0m\u001b[1;33m:\u001b[0m\u001b[1;33m\u001b[0m\u001b[1;33m\u001b[0m\u001b[0m\n\u001b[1;32m--> 859\u001b[1;33m                 \u001b[0mself\u001b[0m\u001b[1;33m.\u001b[0m\u001b[0m_dispatch\u001b[0m\u001b[1;33m(\u001b[0m\u001b[0mtasks\u001b[0m\u001b[1;33m)\u001b[0m\u001b[1;33m\u001b[0m\u001b[1;33m\u001b[0m\u001b[0m\n\u001b[0m\u001b[0;32m    860\u001b[0m                 \u001b[1;32mreturn\u001b[0m \u001b[1;32mTrue\u001b[0m\u001b[1;33m\u001b[0m\u001b[1;33m\u001b[0m\u001b[0m\n\u001b[0;32m    861\u001b[0m \u001b[1;33m\u001b[0m\u001b[0m\n",
      "\u001b[1;32m~\\Anaconda\\lib\\site-packages\\joblib\\parallel.py\u001b[0m in \u001b[0;36m_dispatch\u001b[1;34m(self, batch)\u001b[0m\n\u001b[0;32m    775\u001b[0m         \u001b[1;32mwith\u001b[0m \u001b[0mself\u001b[0m\u001b[1;33m.\u001b[0m\u001b[0m_lock\u001b[0m\u001b[1;33m:\u001b[0m\u001b[1;33m\u001b[0m\u001b[1;33m\u001b[0m\u001b[0m\n\u001b[0;32m    776\u001b[0m             \u001b[0mjob_idx\u001b[0m \u001b[1;33m=\u001b[0m \u001b[0mlen\u001b[0m\u001b[1;33m(\u001b[0m\u001b[0mself\u001b[0m\u001b[1;33m.\u001b[0m\u001b[0m_jobs\u001b[0m\u001b[1;33m)\u001b[0m\u001b[1;33m\u001b[0m\u001b[1;33m\u001b[0m\u001b[0m\n\u001b[1;32m--> 777\u001b[1;33m             \u001b[0mjob\u001b[0m \u001b[1;33m=\u001b[0m \u001b[0mself\u001b[0m\u001b[1;33m.\u001b[0m\u001b[0m_backend\u001b[0m\u001b[1;33m.\u001b[0m\u001b[0mapply_async\u001b[0m\u001b[1;33m(\u001b[0m\u001b[0mbatch\u001b[0m\u001b[1;33m,\u001b[0m \u001b[0mcallback\u001b[0m\u001b[1;33m=\u001b[0m\u001b[0mcb\u001b[0m\u001b[1;33m)\u001b[0m\u001b[1;33m\u001b[0m\u001b[1;33m\u001b[0m\u001b[0m\n\u001b[0m\u001b[0;32m    778\u001b[0m             \u001b[1;31m# A job can complete so quickly than its callback is\u001b[0m\u001b[1;33m\u001b[0m\u001b[1;33m\u001b[0m\u001b[1;33m\u001b[0m\u001b[0m\n\u001b[0;32m    779\u001b[0m             \u001b[1;31m# called before we get here, causing self._jobs to\u001b[0m\u001b[1;33m\u001b[0m\u001b[1;33m\u001b[0m\u001b[1;33m\u001b[0m\u001b[0m\n",
      "\u001b[1;32m~\\Anaconda\\lib\\site-packages\\joblib\\_parallel_backends.py\u001b[0m in \u001b[0;36mapply_async\u001b[1;34m(self, func, callback)\u001b[0m\n\u001b[0;32m    206\u001b[0m     \u001b[1;32mdef\u001b[0m \u001b[0mapply_async\u001b[0m\u001b[1;33m(\u001b[0m\u001b[0mself\u001b[0m\u001b[1;33m,\u001b[0m \u001b[0mfunc\u001b[0m\u001b[1;33m,\u001b[0m \u001b[0mcallback\u001b[0m\u001b[1;33m=\u001b[0m\u001b[1;32mNone\u001b[0m\u001b[1;33m)\u001b[0m\u001b[1;33m:\u001b[0m\u001b[1;33m\u001b[0m\u001b[1;33m\u001b[0m\u001b[0m\n\u001b[0;32m    207\u001b[0m         \u001b[1;34m\"\"\"Schedule a func to be run\"\"\"\u001b[0m\u001b[1;33m\u001b[0m\u001b[1;33m\u001b[0m\u001b[0m\n\u001b[1;32m--> 208\u001b[1;33m         \u001b[0mresult\u001b[0m \u001b[1;33m=\u001b[0m \u001b[0mImmediateResult\u001b[0m\u001b[1;33m(\u001b[0m\u001b[0mfunc\u001b[0m\u001b[1;33m)\u001b[0m\u001b[1;33m\u001b[0m\u001b[1;33m\u001b[0m\u001b[0m\n\u001b[0m\u001b[0;32m    209\u001b[0m         \u001b[1;32mif\u001b[0m \u001b[0mcallback\u001b[0m\u001b[1;33m:\u001b[0m\u001b[1;33m\u001b[0m\u001b[1;33m\u001b[0m\u001b[0m\n\u001b[0;32m    210\u001b[0m             \u001b[0mcallback\u001b[0m\u001b[1;33m(\u001b[0m\u001b[0mresult\u001b[0m\u001b[1;33m)\u001b[0m\u001b[1;33m\u001b[0m\u001b[1;33m\u001b[0m\u001b[0m\n",
      "\u001b[1;32m~\\Anaconda\\lib\\site-packages\\joblib\\_parallel_backends.py\u001b[0m in \u001b[0;36m__init__\u001b[1;34m(self, batch)\u001b[0m\n\u001b[0;32m    570\u001b[0m         \u001b[1;31m# Don't delay the application, to avoid keeping the input\u001b[0m\u001b[1;33m\u001b[0m\u001b[1;33m\u001b[0m\u001b[1;33m\u001b[0m\u001b[0m\n\u001b[0;32m    571\u001b[0m         \u001b[1;31m# arguments in memory\u001b[0m\u001b[1;33m\u001b[0m\u001b[1;33m\u001b[0m\u001b[1;33m\u001b[0m\u001b[0m\n\u001b[1;32m--> 572\u001b[1;33m         \u001b[0mself\u001b[0m\u001b[1;33m.\u001b[0m\u001b[0mresults\u001b[0m \u001b[1;33m=\u001b[0m \u001b[0mbatch\u001b[0m\u001b[1;33m(\u001b[0m\u001b[1;33m)\u001b[0m\u001b[1;33m\u001b[0m\u001b[1;33m\u001b[0m\u001b[0m\n\u001b[0m\u001b[0;32m    573\u001b[0m \u001b[1;33m\u001b[0m\u001b[0m\n\u001b[0;32m    574\u001b[0m     \u001b[1;32mdef\u001b[0m \u001b[0mget\u001b[0m\u001b[1;33m(\u001b[0m\u001b[0mself\u001b[0m\u001b[1;33m)\u001b[0m\u001b[1;33m:\u001b[0m\u001b[1;33m\u001b[0m\u001b[1;33m\u001b[0m\u001b[0m\n",
      "\u001b[1;32m~\\Anaconda\\lib\\site-packages\\joblib\\parallel.py\u001b[0m in \u001b[0;36m__call__\u001b[1;34m(self)\u001b[0m\n\u001b[0;32m    260\u001b[0m         \u001b[1;31m# change the default number of processes to -1\u001b[0m\u001b[1;33m\u001b[0m\u001b[1;33m\u001b[0m\u001b[1;33m\u001b[0m\u001b[0m\n\u001b[0;32m    261\u001b[0m         \u001b[1;32mwith\u001b[0m \u001b[0mparallel_backend\u001b[0m\u001b[1;33m(\u001b[0m\u001b[0mself\u001b[0m\u001b[1;33m.\u001b[0m\u001b[0m_backend\u001b[0m\u001b[1;33m,\u001b[0m \u001b[0mn_jobs\u001b[0m\u001b[1;33m=\u001b[0m\u001b[0mself\u001b[0m\u001b[1;33m.\u001b[0m\u001b[0m_n_jobs\u001b[0m\u001b[1;33m)\u001b[0m\u001b[1;33m:\u001b[0m\u001b[1;33m\u001b[0m\u001b[1;33m\u001b[0m\u001b[0m\n\u001b[1;32m--> 262\u001b[1;33m             return [func(*args, **kwargs)\n\u001b[0m\u001b[0;32m    263\u001b[0m                     for func, args, kwargs in self.items]\n\u001b[0;32m    264\u001b[0m \u001b[1;33m\u001b[0m\u001b[0m\n",
      "\u001b[1;32m~\\Anaconda\\lib\\site-packages\\joblib\\parallel.py\u001b[0m in \u001b[0;36m<listcomp>\u001b[1;34m(.0)\u001b[0m\n\u001b[0;32m    260\u001b[0m         \u001b[1;31m# change the default number of processes to -1\u001b[0m\u001b[1;33m\u001b[0m\u001b[1;33m\u001b[0m\u001b[1;33m\u001b[0m\u001b[0m\n\u001b[0;32m    261\u001b[0m         \u001b[1;32mwith\u001b[0m \u001b[0mparallel_backend\u001b[0m\u001b[1;33m(\u001b[0m\u001b[0mself\u001b[0m\u001b[1;33m.\u001b[0m\u001b[0m_backend\u001b[0m\u001b[1;33m,\u001b[0m \u001b[0mn_jobs\u001b[0m\u001b[1;33m=\u001b[0m\u001b[0mself\u001b[0m\u001b[1;33m.\u001b[0m\u001b[0m_n_jobs\u001b[0m\u001b[1;33m)\u001b[0m\u001b[1;33m:\u001b[0m\u001b[1;33m\u001b[0m\u001b[1;33m\u001b[0m\u001b[0m\n\u001b[1;32m--> 262\u001b[1;33m             return [func(*args, **kwargs)\n\u001b[0m\u001b[0;32m    263\u001b[0m                     for func, args, kwargs in self.items]\n\u001b[0;32m    264\u001b[0m \u001b[1;33m\u001b[0m\u001b[0m\n",
      "\u001b[1;32m~\\Anaconda\\lib\\site-packages\\sklearn\\utils\\fixes.py\u001b[0m in \u001b[0;36m__call__\u001b[1;34m(self, *args, **kwargs)\u001b[0m\n\u001b[0;32m    220\u001b[0m     \u001b[1;32mdef\u001b[0m \u001b[0m__call__\u001b[0m\u001b[1;33m(\u001b[0m\u001b[0mself\u001b[0m\u001b[1;33m,\u001b[0m \u001b[1;33m*\u001b[0m\u001b[0margs\u001b[0m\u001b[1;33m,\u001b[0m \u001b[1;33m**\u001b[0m\u001b[0mkwargs\u001b[0m\u001b[1;33m)\u001b[0m\u001b[1;33m:\u001b[0m\u001b[1;33m\u001b[0m\u001b[1;33m\u001b[0m\u001b[0m\n\u001b[0;32m    221\u001b[0m         \u001b[1;32mwith\u001b[0m \u001b[0mconfig_context\u001b[0m\u001b[1;33m(\u001b[0m\u001b[1;33m**\u001b[0m\u001b[0mself\u001b[0m\u001b[1;33m.\u001b[0m\u001b[0mconfig\u001b[0m\u001b[1;33m)\u001b[0m\u001b[1;33m:\u001b[0m\u001b[1;33m\u001b[0m\u001b[1;33m\u001b[0m\u001b[0m\n\u001b[1;32m--> 222\u001b[1;33m             \u001b[1;32mreturn\u001b[0m \u001b[0mself\u001b[0m\u001b[1;33m.\u001b[0m\u001b[0mfunction\u001b[0m\u001b[1;33m(\u001b[0m\u001b[1;33m*\u001b[0m\u001b[0margs\u001b[0m\u001b[1;33m,\u001b[0m \u001b[1;33m**\u001b[0m\u001b[0mkwargs\u001b[0m\u001b[1;33m)\u001b[0m\u001b[1;33m\u001b[0m\u001b[1;33m\u001b[0m\u001b[0m\n\u001b[0m",
      "\u001b[1;32m~\\Anaconda\\lib\\site-packages\\sklearn\\model_selection\\_validation.py\u001b[0m in \u001b[0;36m_fit_and_score\u001b[1;34m(estimator, X, y, scorer, train, test, verbose, parameters, fit_params, return_train_score, return_parameters, return_n_test_samples, return_times, return_estimator, split_progress, candidate_progress, error_score)\u001b[0m\n\u001b[0;32m    591\u001b[0m             \u001b[0mestimator\u001b[0m\u001b[1;33m.\u001b[0m\u001b[0mfit\u001b[0m\u001b[1;33m(\u001b[0m\u001b[0mX_train\u001b[0m\u001b[1;33m,\u001b[0m \u001b[1;33m**\u001b[0m\u001b[0mfit_params\u001b[0m\u001b[1;33m)\u001b[0m\u001b[1;33m\u001b[0m\u001b[1;33m\u001b[0m\u001b[0m\n\u001b[0;32m    592\u001b[0m         \u001b[1;32melse\u001b[0m\u001b[1;33m:\u001b[0m\u001b[1;33m\u001b[0m\u001b[1;33m\u001b[0m\u001b[0m\n\u001b[1;32m--> 593\u001b[1;33m             \u001b[0mestimator\u001b[0m\u001b[1;33m.\u001b[0m\u001b[0mfit\u001b[0m\u001b[1;33m(\u001b[0m\u001b[0mX_train\u001b[0m\u001b[1;33m,\u001b[0m \u001b[0my_train\u001b[0m\u001b[1;33m,\u001b[0m \u001b[1;33m**\u001b[0m\u001b[0mfit_params\u001b[0m\u001b[1;33m)\u001b[0m\u001b[1;33m\u001b[0m\u001b[1;33m\u001b[0m\u001b[0m\n\u001b[0m\u001b[0;32m    594\u001b[0m \u001b[1;33m\u001b[0m\u001b[0m\n\u001b[0;32m    595\u001b[0m     \u001b[1;32mexcept\u001b[0m \u001b[0mException\u001b[0m \u001b[1;32mas\u001b[0m \u001b[0me\u001b[0m\u001b[1;33m:\u001b[0m\u001b[1;33m\u001b[0m\u001b[1;33m\u001b[0m\u001b[0m\n",
      "\u001b[1;32m~\\AppData\\Roaming\\Python\\Python38\\site-packages\\keras\\wrappers\\scikit_learn.py\u001b[0m in \u001b[0;36mfit\u001b[1;34m(self, x, y, **kwargs)\u001b[0m\n\u001b[0;32m    217\u001b[0m       \u001b[1;32mraise\u001b[0m \u001b[0mValueError\u001b[0m\u001b[1;33m(\u001b[0m\u001b[1;34m'Invalid shape for y: '\u001b[0m \u001b[1;33m+\u001b[0m \u001b[0mstr\u001b[0m\u001b[1;33m(\u001b[0m\u001b[0my\u001b[0m\u001b[1;33m.\u001b[0m\u001b[0mshape\u001b[0m\u001b[1;33m)\u001b[0m\u001b[1;33m)\u001b[0m\u001b[1;33m\u001b[0m\u001b[1;33m\u001b[0m\u001b[0m\n\u001b[0;32m    218\u001b[0m     \u001b[0mself\u001b[0m\u001b[1;33m.\u001b[0m\u001b[0mn_classes_\u001b[0m \u001b[1;33m=\u001b[0m \u001b[0mlen\u001b[0m\u001b[1;33m(\u001b[0m\u001b[0mself\u001b[0m\u001b[1;33m.\u001b[0m\u001b[0mclasses_\u001b[0m\u001b[1;33m)\u001b[0m\u001b[1;33m\u001b[0m\u001b[1;33m\u001b[0m\u001b[0m\n\u001b[1;32m--> 219\u001b[1;33m     \u001b[1;32mreturn\u001b[0m \u001b[0msuper\u001b[0m\u001b[1;33m(\u001b[0m\u001b[0mKerasClassifier\u001b[0m\u001b[1;33m,\u001b[0m \u001b[0mself\u001b[0m\u001b[1;33m)\u001b[0m\u001b[1;33m.\u001b[0m\u001b[0mfit\u001b[0m\u001b[1;33m(\u001b[0m\u001b[0mx\u001b[0m\u001b[1;33m,\u001b[0m \u001b[0my\u001b[0m\u001b[1;33m,\u001b[0m \u001b[1;33m**\u001b[0m\u001b[0mkwargs\u001b[0m\u001b[1;33m)\u001b[0m\u001b[1;33m\u001b[0m\u001b[1;33m\u001b[0m\u001b[0m\n\u001b[0m\u001b[0;32m    220\u001b[0m \u001b[1;33m\u001b[0m\u001b[0m\n\u001b[0;32m    221\u001b[0m   \u001b[1;32mdef\u001b[0m \u001b[0mpredict\u001b[0m\u001b[1;33m(\u001b[0m\u001b[0mself\u001b[0m\u001b[1;33m,\u001b[0m \u001b[0mx\u001b[0m\u001b[1;33m,\u001b[0m \u001b[1;33m**\u001b[0m\u001b[0mkwargs\u001b[0m\u001b[1;33m)\u001b[0m\u001b[1;33m:\u001b[0m\u001b[1;33m\u001b[0m\u001b[1;33m\u001b[0m\u001b[0m\n",
      "\u001b[1;32m~\\AppData\\Roaming\\Python\\Python38\\site-packages\\keras\\wrappers\\scikit_learn.py\u001b[0m in \u001b[0;36mfit\u001b[1;34m(self, x, y, **kwargs)\u001b[0m\n\u001b[0;32m    160\u001b[0m     \u001b[0mfit_args\u001b[0m\u001b[1;33m.\u001b[0m\u001b[0mupdate\u001b[0m\u001b[1;33m(\u001b[0m\u001b[0mkwargs\u001b[0m\u001b[1;33m)\u001b[0m\u001b[1;33m\u001b[0m\u001b[1;33m\u001b[0m\u001b[0m\n\u001b[0;32m    161\u001b[0m \u001b[1;33m\u001b[0m\u001b[0m\n\u001b[1;32m--> 162\u001b[1;33m     \u001b[0mhistory\u001b[0m \u001b[1;33m=\u001b[0m \u001b[0mself\u001b[0m\u001b[1;33m.\u001b[0m\u001b[0mmodel\u001b[0m\u001b[1;33m.\u001b[0m\u001b[0mfit\u001b[0m\u001b[1;33m(\u001b[0m\u001b[0mx\u001b[0m\u001b[1;33m,\u001b[0m \u001b[0my\u001b[0m\u001b[1;33m,\u001b[0m \u001b[1;33m**\u001b[0m\u001b[0mfit_args\u001b[0m\u001b[1;33m)\u001b[0m\u001b[1;33m\u001b[0m\u001b[1;33m\u001b[0m\u001b[0m\n\u001b[0m\u001b[0;32m    163\u001b[0m \u001b[1;33m\u001b[0m\u001b[0m\n\u001b[0;32m    164\u001b[0m     \u001b[1;32mreturn\u001b[0m \u001b[0mhistory\u001b[0m\u001b[1;33m\u001b[0m\u001b[1;33m\u001b[0m\u001b[0m\n",
      "\u001b[1;32m~\\AppData\\Roaming\\Python\\Python38\\site-packages\\keras\\engine\\training.py\u001b[0m in \u001b[0;36mfit\u001b[1;34m(self, x, y, batch_size, epochs, verbose, callbacks, validation_split, validation_data, shuffle, class_weight, sample_weight, initial_epoch, steps_per_epoch, validation_steps, validation_batch_size, validation_freq, max_queue_size, workers, use_multiprocessing)\u001b[0m\n\u001b[0;32m   1182\u001b[0m                 _r=1):\n\u001b[0;32m   1183\u001b[0m               \u001b[0mcallbacks\u001b[0m\u001b[1;33m.\u001b[0m\u001b[0mon_train_batch_begin\u001b[0m\u001b[1;33m(\u001b[0m\u001b[0mstep\u001b[0m\u001b[1;33m)\u001b[0m\u001b[1;33m\u001b[0m\u001b[1;33m\u001b[0m\u001b[0m\n\u001b[1;32m-> 1184\u001b[1;33m               \u001b[0mtmp_logs\u001b[0m \u001b[1;33m=\u001b[0m \u001b[0mself\u001b[0m\u001b[1;33m.\u001b[0m\u001b[0mtrain_function\u001b[0m\u001b[1;33m(\u001b[0m\u001b[0miterator\u001b[0m\u001b[1;33m)\u001b[0m\u001b[1;33m\u001b[0m\u001b[1;33m\u001b[0m\u001b[0m\n\u001b[0m\u001b[0;32m   1185\u001b[0m               \u001b[1;32mif\u001b[0m \u001b[0mdata_handler\u001b[0m\u001b[1;33m.\u001b[0m\u001b[0mshould_sync\u001b[0m\u001b[1;33m:\u001b[0m\u001b[1;33m\u001b[0m\u001b[1;33m\u001b[0m\u001b[0m\n\u001b[0;32m   1186\u001b[0m                 \u001b[0mcontext\u001b[0m\u001b[1;33m.\u001b[0m\u001b[0masync_wait\u001b[0m\u001b[1;33m(\u001b[0m\u001b[1;33m)\u001b[0m\u001b[1;33m\u001b[0m\u001b[1;33m\u001b[0m\u001b[0m\n",
      "\u001b[1;32m~\\AppData\\Roaming\\Python\\Python38\\site-packages\\tensorflow\\python\\eager\\def_function.py\u001b[0m in \u001b[0;36m__call__\u001b[1;34m(self, *args, **kwds)\u001b[0m\n\u001b[0;32m    883\u001b[0m \u001b[1;33m\u001b[0m\u001b[0m\n\u001b[0;32m    884\u001b[0m       \u001b[1;32mwith\u001b[0m \u001b[0mOptionalXlaContext\u001b[0m\u001b[1;33m(\u001b[0m\u001b[0mself\u001b[0m\u001b[1;33m.\u001b[0m\u001b[0m_jit_compile\u001b[0m\u001b[1;33m)\u001b[0m\u001b[1;33m:\u001b[0m\u001b[1;33m\u001b[0m\u001b[1;33m\u001b[0m\u001b[0m\n\u001b[1;32m--> 885\u001b[1;33m         \u001b[0mresult\u001b[0m \u001b[1;33m=\u001b[0m \u001b[0mself\u001b[0m\u001b[1;33m.\u001b[0m\u001b[0m_call\u001b[0m\u001b[1;33m(\u001b[0m\u001b[1;33m*\u001b[0m\u001b[0margs\u001b[0m\u001b[1;33m,\u001b[0m \u001b[1;33m**\u001b[0m\u001b[0mkwds\u001b[0m\u001b[1;33m)\u001b[0m\u001b[1;33m\u001b[0m\u001b[1;33m\u001b[0m\u001b[0m\n\u001b[0m\u001b[0;32m    886\u001b[0m \u001b[1;33m\u001b[0m\u001b[0m\n\u001b[0;32m    887\u001b[0m       \u001b[0mnew_tracing_count\u001b[0m \u001b[1;33m=\u001b[0m \u001b[0mself\u001b[0m\u001b[1;33m.\u001b[0m\u001b[0mexperimental_get_tracing_count\u001b[0m\u001b[1;33m(\u001b[0m\u001b[1;33m)\u001b[0m\u001b[1;33m\u001b[0m\u001b[1;33m\u001b[0m\u001b[0m\n",
      "\u001b[1;32m~\\AppData\\Roaming\\Python\\Python38\\site-packages\\tensorflow\\python\\eager\\def_function.py\u001b[0m in \u001b[0;36m_call\u001b[1;34m(self, *args, **kwds)\u001b[0m\n\u001b[0;32m    915\u001b[0m       \u001b[1;31m# In this case we have created variables on the first call, so we run the\u001b[0m\u001b[1;33m\u001b[0m\u001b[1;33m\u001b[0m\u001b[1;33m\u001b[0m\u001b[0m\n\u001b[0;32m    916\u001b[0m       \u001b[1;31m# defunned version which is guaranteed to never create variables.\u001b[0m\u001b[1;33m\u001b[0m\u001b[1;33m\u001b[0m\u001b[1;33m\u001b[0m\u001b[0m\n\u001b[1;32m--> 917\u001b[1;33m       \u001b[1;32mreturn\u001b[0m \u001b[0mself\u001b[0m\u001b[1;33m.\u001b[0m\u001b[0m_stateless_fn\u001b[0m\u001b[1;33m(\u001b[0m\u001b[1;33m*\u001b[0m\u001b[0margs\u001b[0m\u001b[1;33m,\u001b[0m \u001b[1;33m**\u001b[0m\u001b[0mkwds\u001b[0m\u001b[1;33m)\u001b[0m  \u001b[1;31m# pylint: disable=not-callable\u001b[0m\u001b[1;33m\u001b[0m\u001b[1;33m\u001b[0m\u001b[0m\n\u001b[0m\u001b[0;32m    918\u001b[0m     \u001b[1;32melif\u001b[0m \u001b[0mself\u001b[0m\u001b[1;33m.\u001b[0m\u001b[0m_stateful_fn\u001b[0m \u001b[1;32mis\u001b[0m \u001b[1;32mnot\u001b[0m \u001b[1;32mNone\u001b[0m\u001b[1;33m:\u001b[0m\u001b[1;33m\u001b[0m\u001b[1;33m\u001b[0m\u001b[0m\n\u001b[0;32m    919\u001b[0m       \u001b[1;31m# Release the lock early so that multiple threads can perform the call\u001b[0m\u001b[1;33m\u001b[0m\u001b[1;33m\u001b[0m\u001b[1;33m\u001b[0m\u001b[0m\n",
      "\u001b[1;32m~\\AppData\\Roaming\\Python\\Python38\\site-packages\\tensorflow\\python\\eager\\function.py\u001b[0m in \u001b[0;36m__call__\u001b[1;34m(self, *args, **kwargs)\u001b[0m\n\u001b[0;32m   3037\u001b[0m       (graph_function,\n\u001b[0;32m   3038\u001b[0m        filtered_flat_args) = self._maybe_define_function(args, kwargs)\n\u001b[1;32m-> 3039\u001b[1;33m     return graph_function._call_flat(\n\u001b[0m\u001b[0;32m   3040\u001b[0m         filtered_flat_args, captured_inputs=graph_function.captured_inputs)  # pylint: disable=protected-access\n\u001b[0;32m   3041\u001b[0m \u001b[1;33m\u001b[0m\u001b[0m\n",
      "\u001b[1;32m~\\AppData\\Roaming\\Python\\Python38\\site-packages\\tensorflow\\python\\eager\\function.py\u001b[0m in \u001b[0;36m_call_flat\u001b[1;34m(self, args, captured_inputs, cancellation_manager)\u001b[0m\n\u001b[0;32m   1961\u001b[0m         and executing_eagerly):\n\u001b[0;32m   1962\u001b[0m       \u001b[1;31m# No tape is watching; skip to running the function.\u001b[0m\u001b[1;33m\u001b[0m\u001b[1;33m\u001b[0m\u001b[1;33m\u001b[0m\u001b[0m\n\u001b[1;32m-> 1963\u001b[1;33m       return self._build_call_outputs(self._inference_function.call(\n\u001b[0m\u001b[0;32m   1964\u001b[0m           ctx, args, cancellation_manager=cancellation_manager))\n\u001b[0;32m   1965\u001b[0m     forward_backward = self._select_forward_and_backward_functions(\n",
      "\u001b[1;32m~\\AppData\\Roaming\\Python\\Python38\\site-packages\\tensorflow\\python\\eager\\function.py\u001b[0m in \u001b[0;36mcall\u001b[1;34m(self, ctx, args, cancellation_manager)\u001b[0m\n\u001b[0;32m    589\u001b[0m       \u001b[1;32mwith\u001b[0m \u001b[0m_InterpolateFunctionError\u001b[0m\u001b[1;33m(\u001b[0m\u001b[0mself\u001b[0m\u001b[1;33m)\u001b[0m\u001b[1;33m:\u001b[0m\u001b[1;33m\u001b[0m\u001b[1;33m\u001b[0m\u001b[0m\n\u001b[0;32m    590\u001b[0m         \u001b[1;32mif\u001b[0m \u001b[0mcancellation_manager\u001b[0m \u001b[1;32mis\u001b[0m \u001b[1;32mNone\u001b[0m\u001b[1;33m:\u001b[0m\u001b[1;33m\u001b[0m\u001b[1;33m\u001b[0m\u001b[0m\n\u001b[1;32m--> 591\u001b[1;33m           outputs = execute.execute(\n\u001b[0m\u001b[0;32m    592\u001b[0m               \u001b[0mstr\u001b[0m\u001b[1;33m(\u001b[0m\u001b[0mself\u001b[0m\u001b[1;33m.\u001b[0m\u001b[0msignature\u001b[0m\u001b[1;33m.\u001b[0m\u001b[0mname\u001b[0m\u001b[1;33m)\u001b[0m\u001b[1;33m,\u001b[0m\u001b[1;33m\u001b[0m\u001b[1;33m\u001b[0m\u001b[0m\n\u001b[0;32m    593\u001b[0m               \u001b[0mnum_outputs\u001b[0m\u001b[1;33m=\u001b[0m\u001b[0mself\u001b[0m\u001b[1;33m.\u001b[0m\u001b[0m_num_outputs\u001b[0m\u001b[1;33m,\u001b[0m\u001b[1;33m\u001b[0m\u001b[1;33m\u001b[0m\u001b[0m\n",
      "\u001b[1;32m~\\AppData\\Roaming\\Python\\Python38\\site-packages\\tensorflow\\python\\eager\\execute.py\u001b[0m in \u001b[0;36mquick_execute\u001b[1;34m(op_name, num_outputs, inputs, attrs, ctx, name)\u001b[0m\n\u001b[0;32m     57\u001b[0m   \u001b[1;32mtry\u001b[0m\u001b[1;33m:\u001b[0m\u001b[1;33m\u001b[0m\u001b[1;33m\u001b[0m\u001b[0m\n\u001b[0;32m     58\u001b[0m     \u001b[0mctx\u001b[0m\u001b[1;33m.\u001b[0m\u001b[0mensure_initialized\u001b[0m\u001b[1;33m(\u001b[0m\u001b[1;33m)\u001b[0m\u001b[1;33m\u001b[0m\u001b[1;33m\u001b[0m\u001b[0m\n\u001b[1;32m---> 59\u001b[1;33m     tensors = pywrap_tfe.TFE_Py_Execute(ctx._handle, device_name, op_name,\n\u001b[0m\u001b[0;32m     60\u001b[0m                                         inputs, attrs, num_outputs)\n\u001b[0;32m     61\u001b[0m   \u001b[1;32mexcept\u001b[0m \u001b[0mcore\u001b[0m\u001b[1;33m.\u001b[0m\u001b[0m_NotOkStatusException\u001b[0m \u001b[1;32mas\u001b[0m \u001b[0me\u001b[0m\u001b[1;33m:\u001b[0m\u001b[1;33m\u001b[0m\u001b[1;33m\u001b[0m\u001b[0m\n",
      "\u001b[1;31mKeyboardInterrupt\u001b[0m: "
     ]
    }
   ],
   "source": [
    "# Instantiate a grid search\n",
    "gsnn = GridSearchCV(estimator=nn_gs, param_grid=params, cv=3)\n",
    "\n",
    "# Fit the GridSearch model!\n",
    "gsnn.fit(X_train_sc, y_train)"
   ]
  },
  {
   "cell_type": "code",
   "execution_count": 49,
   "id": "e2d71b07-3712-4bbc-b65f-070a8e726b51",
   "metadata": {},
   "outputs": [
    {
     "data": {
      "text/plain": [
       "nan"
      ]
     },
     "execution_count": 49,
     "metadata": {},
     "output_type": "execute_result"
    }
   ],
   "source": [
    "# Best (cross validated) testing score on training data\n",
    "gsnn.best_score_"
   ]
  },
  {
   "cell_type": "code",
   "execution_count": 50,
   "id": "5ab7c704-f64e-4cd8-8ce6-f1dfb26493c6",
   "metadata": {},
   "outputs": [
    {
     "data": {
      "text/plain": [
       "{'epochs': 10,\n",
       " 'layer_one_neurons': 16,\n",
       " 'layer_two': True,\n",
       " 'layer_two_neurons': 16}"
      ]
     },
     "execution_count": 50,
     "metadata": {},
     "output_type": "execute_result"
    }
   ],
   "source": [
    "# Best estimator\n",
    "gsnn.best_params_"
   ]
  },
  {
   "cell_type": "code",
   "execution_count": 51,
   "id": "e18a45b3-1599-4dbc-8ea3-46fda10e0bf1",
   "metadata": {},
   "outputs": [
    {
     "ename": "ValueError",
     "evalue": "The model is not configured to compute accuracy. You should pass `metrics=[\"accuracy\"]` to the `model.compile()` method.",
     "output_type": "error",
     "traceback": [
      "\u001b[1;31m---------------------------------------------------------------------------\u001b[0m",
      "\u001b[1;31mValueError\u001b[0m                                Traceback (most recent call last)",
      "\u001b[1;32m<ipython-input-51-8719676480c2>\u001b[0m in \u001b[0;36m<module>\u001b[1;34m\u001b[0m\n\u001b[0;32m      1\u001b[0m \u001b[1;31m# Evaluate on the testing data\u001b[0m\u001b[1;33m\u001b[0m\u001b[1;33m\u001b[0m\u001b[1;33m\u001b[0m\u001b[0m\n\u001b[1;32m----> 2\u001b[1;33m \u001b[0mgsnn\u001b[0m\u001b[1;33m.\u001b[0m\u001b[0mbest_estimator_\u001b[0m\u001b[1;33m.\u001b[0m\u001b[0mscore\u001b[0m\u001b[1;33m(\u001b[0m\u001b[0mX_test_sc\u001b[0m\u001b[1;33m,\u001b[0m \u001b[0my_test\u001b[0m\u001b[1;33m)\u001b[0m\u001b[1;33m\u001b[0m\u001b[1;33m\u001b[0m\u001b[0m\n\u001b[0m",
      "\u001b[1;32m~\\AppData\\Roaming\\Python\\Python38\\site-packages\\keras\\wrappers\\scikit_learn.py\u001b[0m in \u001b[0;36mscore\u001b[1;34m(self, x, y, **kwargs)\u001b[0m\n\u001b[0;32m    304\u001b[0m       \u001b[1;32mif\u001b[0m \u001b[0mname\u001b[0m \u001b[1;32min\u001b[0m \u001b[1;33m[\u001b[0m\u001b[1;34m'accuracy'\u001b[0m\u001b[1;33m,\u001b[0m \u001b[1;34m'acc'\u001b[0m\u001b[1;33m]\u001b[0m\u001b[1;33m:\u001b[0m\u001b[1;33m\u001b[0m\u001b[1;33m\u001b[0m\u001b[0m\n\u001b[0;32m    305\u001b[0m         \u001b[1;32mreturn\u001b[0m \u001b[0moutput\u001b[0m\u001b[1;33m\u001b[0m\u001b[1;33m\u001b[0m\u001b[0m\n\u001b[1;32m--> 306\u001b[1;33m     raise ValueError('The model is not configured to compute accuracy. '\n\u001b[0m\u001b[0;32m    307\u001b[0m                      \u001b[1;34m'You should pass `metrics=[\"accuracy\"]` to '\u001b[0m\u001b[1;33m\u001b[0m\u001b[1;33m\u001b[0m\u001b[0m\n\u001b[0;32m    308\u001b[0m                      'the `model.compile()` method.')\n",
      "\u001b[1;31mValueError\u001b[0m: The model is not configured to compute accuracy. You should pass `metrics=[\"accuracy\"]` to the `model.compile()` method."
     ]
    }
   ],
   "source": [
    "# Evaluate on the testing data\n",
    "gsnn.best_estimator_.score(X_test_sc, y_test)"
   ]
  },
  {
   "cell_type": "code",
   "execution_count": 52,
   "id": "996a5f47-b092-455d-a51e-5840cc1cbacd",
   "metadata": {},
   "outputs": [
    {
     "data": {
      "text/plain": [
       "-0.3648033822084453"
      ]
     },
     "execution_count": 52,
     "metadata": {},
     "output_type": "execute_result"
    }
   ],
   "source": [
    "# Generate (test) predictions and get R2 score\n",
    "y_pred = gsnn.best_estimator_.predict(X_test_sc)\n",
    "metrics.r2_score(y_test, y_pred)"
   ]
  },
  {
   "cell_type": "markdown",
   "id": "6fcd6322-45e6-4306-9d6b-6a5592d6521b",
   "metadata": {},
   "source": [
    "## Let's try adding layers!\n",
    "![](./assets/deeper.png)"
   ]
  },
  {
   "cell_type": "code",
   "execution_count": null,
   "id": "e8b7026d-db1c-4ad0-ada2-7c7702f814e1",
   "metadata": {},
   "outputs": [],
   "source": [
    "# Add an arugment of number of layers to the function (and loop through it) "
   ]
  },
  {
   "cell_type": "code",
   "execution_count": 22,
   "id": "1595e766-2600-44a8-84f8-fd7fa110e25e",
   "metadata": {},
   "outputs": [],
   "source": [
    "# Add an arugment of number of layers to the function (and loop through it) \n",
    "def model_func_deep(layer_one_neurons=32, next_layer_neurons=32, layer_dropout=0.5, hidden_layers=5, optimizer='adam'):\n",
    "    \n",
    "    model = Sequential()\n",
    "    for layer in range(hidden_layers):\n",
    "        \n",
    "        if layer == 0: # If it's the first layer:\n",
    "            model.add(Dense(units=layer_one_neurons, activation='relu', input_shape=(X_train_sc.shape[1], )))\n",
    "            model.add(Dropout(rate=layer_dropout))\n",
    "        else: # If it's any other layer, no need to specify input shape\n",
    "            model.add(Dense(units=next_layer_neurons, activation='relu'))\n",
    "            model.add(Dropout(rate=layer_dropout))\n",
    "            \n",
    "    # Add an output layer - OUTSIDE OF THE FOR LOOP\n",
    "    model.add(Dense(units=1, activation=None)) # Regression problem - no activation function. Also, NO dropout!\n",
    "    \n",
    "    # Compile the network\n",
    "    model.compile(loss='mse', optimizer=optimizer)\n",
    "    \n",
    "    return model"
   ]
  },
  {
   "cell_type": "code",
   "execution_count": 23,
   "id": "01eb299b-d353-4388-b2a5-05e55c22f730",
   "metadata": {},
   "outputs": [],
   "source": [
    "# Deep network\n",
    "nn_deep = KerasRegressor(build_fn=model_func_deep, epochs=10, batch_size=256, verbose=0)"
   ]
  },
  {
   "cell_type": "code",
   "execution_count": 24,
   "id": "c1321abf-09da-4b4a-b6b1-92d3f3453015",
   "metadata": {},
   "outputs": [],
   "source": [
    "# Params grid\n",
    "params_deep = {\n",
    "    'hidden_layers':[2, 3],\n",
    "    'optimizer':['adam','RMSprop']\n",
    "}"
   ]
  },
  {
   "cell_type": "code",
   "execution_count": 25,
   "id": "391506e2-1757-4c75-b0ce-b90059c54484",
   "metadata": {},
   "outputs": [],
   "source": [
    "gs_deep = GridSearchCV(estimator=nn_deep, param_grid=params_deep, cv=3)\n",
    "results = gs_deep.fit(X_train_sc, y_train)"
   ]
  },
  {
   "cell_type": "markdown",
   "id": "0693135a-2dba-43c9-8ad4-531a8ab481dc",
   "metadata": {},
   "source": [
    "![](./assets/still-waiting.jpg)"
   ]
  },
  {
   "cell_type": "code",
   "execution_count": 2,
   "id": "dad9b040-932e-447e-943f-fd7391f981a1",
   "metadata": {},
   "outputs": [],
   "source": [
    "# Make predictions \n"
   ]
  },
  {
   "cell_type": "code",
   "execution_count": 26,
   "id": "4bdba3bc-cf68-489e-bc4f-12077ff912fd",
   "metadata": {},
   "outputs": [
    {
     "data": {
      "text/plain": [
       "-13796.797688802084"
      ]
     },
     "execution_count": 26,
     "metadata": {},
     "output_type": "execute_result"
    }
   ],
   "source": [
    "# Get the best (cross validated) score (on the training data)\n",
    "gs_deep.best_score_"
   ]
  },
  {
   "cell_type": "code",
   "execution_count": 27,
   "id": "8e55a26a-3ff9-4f35-b2f5-bd223f01e2b8",
   "metadata": {},
   "outputs": [
    {
     "data": {
      "text/plain": [
       "{'hidden_layers': 3, 'optimizer': 'adam'}"
      ]
     },
     "execution_count": 27,
     "metadata": {},
     "output_type": "execute_result"
    }
   ],
   "source": [
    "# Get the best parameters\n",
    "gs_deep.best_params_"
   ]
  },
  {
   "cell_type": "code",
   "execution_count": 28,
   "id": "99672aeb-90dd-4a53-8755-e10ff22d3613",
   "metadata": {},
   "outputs": [],
   "source": [
    "# Make predictions \n",
    "pred_deep = gs_deep.predict(X_test_sc)\n",
    "# Would have been the same as gs_deep.best_estimater_.predict(X_test_Sc)"
   ]
  },
  {
   "cell_type": "code",
   "execution_count": 29,
   "id": "36f478af-317f-46d9-b4df-4b424f7fa67c",
   "metadata": {},
   "outputs": [
    {
     "data": {
      "text/plain": [
       "0.943323107075611"
      ]
     },
     "execution_count": 29,
     "metadata": {},
     "output_type": "execute_result"
    }
   ],
   "source": [
    "# Check the R-squared (on test predictions)\n",
    "metrics.r2_score(y_true=y_test, y_pred=pred_deep)"
   ]
  },
  {
   "cell_type": "code",
   "execution_count": 30,
   "id": "0bf29c7f-8c6b-42f6-9467-e0a89462b292",
   "metadata": {},
   "outputs": [
    {
     "data": {
      "text/plain": [
       "-2236.618896484375"
      ]
     },
     "execution_count": 30,
     "metadata": {},
     "output_type": "execute_result"
    }
   ],
   "source": [
    "# Testing MSE\n",
    "gs_deep.score(X_test_sc, y_test)"
   ]
  },
  {
   "cell_type": "code",
   "execution_count": 31,
   "id": "2ecf9440-0038-4bfd-9c72-be55d3572bb4",
   "metadata": {},
   "outputs": [
    {
     "data": {
      "text/plain": [
       "2236.618896484375"
      ]
     },
     "execution_count": 31,
     "metadata": {},
     "output_type": "execute_result"
    }
   ],
   "source": [
    "# Testing MSE - get absolute value\n",
    "abs(gs_deep.score(X_test_sc, y_test))"
   ]
  },
  {
   "cell_type": "code",
   "execution_count": 33,
   "id": "097a4e36-a1e8-4695-9cf7-f2991f79a2de",
   "metadata": {},
   "outputs": [],
   "source": [
    "import numpy as np\n"
   ]
  },
  {
   "cell_type": "code",
   "execution_count": 34,
   "id": "865b54e8-ab1a-4158-a833-7b5698534a99",
   "metadata": {},
   "outputs": [
    {
     "data": {
      "text/plain": [
       "47.29290535042624"
      ]
     },
     "execution_count": 34,
     "metadata": {},
     "output_type": "execute_result"
    }
   ],
   "source": [
    "# Testing RMSE - get absolute value\n",
    "np.sqrt(abs(gs_deep.score(X_test_sc, y_test)))"
   ]
  },
  {
   "cell_type": "code",
   "execution_count": null,
   "id": "e9870dc9-1eb7-4780-8ecb-443a9f6062b6",
   "metadata": {},
   "outputs": [],
   "source": []
  },
  {
   "cell_type": "code",
   "execution_count": null,
   "id": "efa58506-250e-4754-9da2-4629b9c8cdae",
   "metadata": {},
   "outputs": [],
   "source": []
  }
 ],
 "metadata": {
  "kernelspec": {
   "display_name": "Python 3",
   "language": "python",
   "name": "python3"
  },
  "language_info": {
   "codemirror_mode": {
    "name": "ipython",
    "version": 3
   },
   "file_extension": ".py",
   "mimetype": "text/x-python",
   "name": "python",
   "nbconvert_exporter": "python",
   "pygments_lexer": "ipython3",
   "version": "3.8.8"
  }
 },
 "nbformat": 4,
 "nbformat_minor": 5
}
