{
 "cells": [
  {
   "cell_type": "code",
   "execution_count": 1,
   "id": "a1d93dfd-49dc-403b-9ca4-6d11a2f1e78e",
   "metadata": {},
   "outputs": [],
   "source": [
    "from sklearn.datasets import make_regression\n",
    "from sklearn.preprocessing import StandardScaler\n",
    "from sklearn.model_selection import train_test_split, GridSearchCV\n",
    "from sklearn import metrics\n",
    "\n",
    "from tensorflow.keras.models import Sequential\n",
    "from tensorflow.keras.layers import Dense, Dropout\n",
    "from tensorflow.keras.wrappers.scikit_learn import KerasRegressor"
   ]
  },
  {
   "cell_type": "code",
   "execution_count": 2,
   "id": "79d8b58c-2cf9-4267-b051-2c2912e19512",
   "metadata": {},
   "outputs": [],
   "source": [
    "import pandas as pd"
   ]
  },
  {
   "cell_type": "code",
   "execution_count": 3,
   "id": "3b03ab56-3db7-4ffb-b350-702d1f30bb7f",
   "metadata": {},
   "outputs": [],
   "source": [
    "kobe = pd.read_csv('./datasets/data.csv')"
   ]
  },
  {
   "cell_type": "code",
   "execution_count": 4,
   "id": "fc9d3cb7-701b-4074-81f4-bb514da3d13c",
   "metadata": {},
   "outputs": [
    {
     "data": {
      "text/html": [
       "<div>\n",
       "<style scoped>\n",
       "    .dataframe tbody tr th:only-of-type {\n",
       "        vertical-align: middle;\n",
       "    }\n",
       "\n",
       "    .dataframe tbody tr th {\n",
       "        vertical-align: top;\n",
       "    }\n",
       "\n",
       "    .dataframe thead th {\n",
       "        text-align: right;\n",
       "    }\n",
       "</style>\n",
       "<table border=\"1\" class=\"dataframe\">\n",
       "  <thead>\n",
       "    <tr style=\"text-align: right;\">\n",
       "      <th></th>\n",
       "      <th>action_type</th>\n",
       "      <th>combined_shot_type</th>\n",
       "      <th>game_event_id</th>\n",
       "      <th>game_id</th>\n",
       "      <th>lat</th>\n",
       "      <th>loc_x</th>\n",
       "      <th>loc_y</th>\n",
       "      <th>lon</th>\n",
       "      <th>minutes_remaining</th>\n",
       "      <th>period</th>\n",
       "      <th>...</th>\n",
       "      <th>shot_type</th>\n",
       "      <th>shot_zone_area</th>\n",
       "      <th>shot_zone_basic</th>\n",
       "      <th>shot_zone_range</th>\n",
       "      <th>team_id</th>\n",
       "      <th>team_name</th>\n",
       "      <th>game_date</th>\n",
       "      <th>matchup</th>\n",
       "      <th>opponent</th>\n",
       "      <th>shot_id</th>\n",
       "    </tr>\n",
       "  </thead>\n",
       "  <tbody>\n",
       "    <tr>\n",
       "      <th>0</th>\n",
       "      <td>Jump Shot</td>\n",
       "      <td>Jump Shot</td>\n",
       "      <td>10</td>\n",
       "      <td>20000012</td>\n",
       "      <td>33.9723</td>\n",
       "      <td>167</td>\n",
       "      <td>72</td>\n",
       "      <td>-118.1028</td>\n",
       "      <td>10</td>\n",
       "      <td>1</td>\n",
       "      <td>...</td>\n",
       "      <td>2PT Field Goal</td>\n",
       "      <td>Right Side(R)</td>\n",
       "      <td>Mid-Range</td>\n",
       "      <td>16-24 ft.</td>\n",
       "      <td>1610612747</td>\n",
       "      <td>Los Angeles Lakers</td>\n",
       "      <td>2000-10-31</td>\n",
       "      <td>LAL @ POR</td>\n",
       "      <td>POR</td>\n",
       "      <td>1</td>\n",
       "    </tr>\n",
       "    <tr>\n",
       "      <th>1</th>\n",
       "      <td>Jump Shot</td>\n",
       "      <td>Jump Shot</td>\n",
       "      <td>12</td>\n",
       "      <td>20000012</td>\n",
       "      <td>34.0443</td>\n",
       "      <td>-157</td>\n",
       "      <td>0</td>\n",
       "      <td>-118.4268</td>\n",
       "      <td>10</td>\n",
       "      <td>1</td>\n",
       "      <td>...</td>\n",
       "      <td>2PT Field Goal</td>\n",
       "      <td>Left Side(L)</td>\n",
       "      <td>Mid-Range</td>\n",
       "      <td>8-16 ft.</td>\n",
       "      <td>1610612747</td>\n",
       "      <td>Los Angeles Lakers</td>\n",
       "      <td>2000-10-31</td>\n",
       "      <td>LAL @ POR</td>\n",
       "      <td>POR</td>\n",
       "      <td>2</td>\n",
       "    </tr>\n",
       "    <tr>\n",
       "      <th>2</th>\n",
       "      <td>Jump Shot</td>\n",
       "      <td>Jump Shot</td>\n",
       "      <td>35</td>\n",
       "      <td>20000012</td>\n",
       "      <td>33.9093</td>\n",
       "      <td>-101</td>\n",
       "      <td>135</td>\n",
       "      <td>-118.3708</td>\n",
       "      <td>7</td>\n",
       "      <td>1</td>\n",
       "      <td>...</td>\n",
       "      <td>2PT Field Goal</td>\n",
       "      <td>Left Side Center(LC)</td>\n",
       "      <td>Mid-Range</td>\n",
       "      <td>16-24 ft.</td>\n",
       "      <td>1610612747</td>\n",
       "      <td>Los Angeles Lakers</td>\n",
       "      <td>2000-10-31</td>\n",
       "      <td>LAL @ POR</td>\n",
       "      <td>POR</td>\n",
       "      <td>3</td>\n",
       "    </tr>\n",
       "    <tr>\n",
       "      <th>3</th>\n",
       "      <td>Jump Shot</td>\n",
       "      <td>Jump Shot</td>\n",
       "      <td>43</td>\n",
       "      <td>20000012</td>\n",
       "      <td>33.8693</td>\n",
       "      <td>138</td>\n",
       "      <td>175</td>\n",
       "      <td>-118.1318</td>\n",
       "      <td>6</td>\n",
       "      <td>1</td>\n",
       "      <td>...</td>\n",
       "      <td>2PT Field Goal</td>\n",
       "      <td>Right Side Center(RC)</td>\n",
       "      <td>Mid-Range</td>\n",
       "      <td>16-24 ft.</td>\n",
       "      <td>1610612747</td>\n",
       "      <td>Los Angeles Lakers</td>\n",
       "      <td>2000-10-31</td>\n",
       "      <td>LAL @ POR</td>\n",
       "      <td>POR</td>\n",
       "      <td>4</td>\n",
       "    </tr>\n",
       "    <tr>\n",
       "      <th>4</th>\n",
       "      <td>Driving Dunk Shot</td>\n",
       "      <td>Dunk</td>\n",
       "      <td>155</td>\n",
       "      <td>20000012</td>\n",
       "      <td>34.0443</td>\n",
       "      <td>0</td>\n",
       "      <td>0</td>\n",
       "      <td>-118.2698</td>\n",
       "      <td>6</td>\n",
       "      <td>2</td>\n",
       "      <td>...</td>\n",
       "      <td>2PT Field Goal</td>\n",
       "      <td>Center(C)</td>\n",
       "      <td>Restricted Area</td>\n",
       "      <td>Less Than 8 ft.</td>\n",
       "      <td>1610612747</td>\n",
       "      <td>Los Angeles Lakers</td>\n",
       "      <td>2000-10-31</td>\n",
       "      <td>LAL @ POR</td>\n",
       "      <td>POR</td>\n",
       "      <td>5</td>\n",
       "    </tr>\n",
       "  </tbody>\n",
       "</table>\n",
       "<p>5 rows × 25 columns</p>\n",
       "</div>"
      ],
      "text/plain": [
       "         action_type combined_shot_type  game_event_id   game_id      lat  \\\n",
       "0          Jump Shot          Jump Shot             10  20000012  33.9723   \n",
       "1          Jump Shot          Jump Shot             12  20000012  34.0443   \n",
       "2          Jump Shot          Jump Shot             35  20000012  33.9093   \n",
       "3          Jump Shot          Jump Shot             43  20000012  33.8693   \n",
       "4  Driving Dunk Shot               Dunk            155  20000012  34.0443   \n",
       "\n",
       "   loc_x  loc_y       lon  minutes_remaining  period  ...       shot_type  \\\n",
       "0    167     72 -118.1028                 10       1  ...  2PT Field Goal   \n",
       "1   -157      0 -118.4268                 10       1  ...  2PT Field Goal   \n",
       "2   -101    135 -118.3708                  7       1  ...  2PT Field Goal   \n",
       "3    138    175 -118.1318                  6       1  ...  2PT Field Goal   \n",
       "4      0      0 -118.2698                  6       2  ...  2PT Field Goal   \n",
       "\n",
       "          shot_zone_area  shot_zone_basic  shot_zone_range     team_id  \\\n",
       "0          Right Side(R)        Mid-Range        16-24 ft.  1610612747   \n",
       "1           Left Side(L)        Mid-Range         8-16 ft.  1610612747   \n",
       "2   Left Side Center(LC)        Mid-Range        16-24 ft.  1610612747   \n",
       "3  Right Side Center(RC)        Mid-Range        16-24 ft.  1610612747   \n",
       "4              Center(C)  Restricted Area  Less Than 8 ft.  1610612747   \n",
       "\n",
       "            team_name   game_date    matchup opponent  shot_id  \n",
       "0  Los Angeles Lakers  2000-10-31  LAL @ POR      POR        1  \n",
       "1  Los Angeles Lakers  2000-10-31  LAL @ POR      POR        2  \n",
       "2  Los Angeles Lakers  2000-10-31  LAL @ POR      POR        3  \n",
       "3  Los Angeles Lakers  2000-10-31  LAL @ POR      POR        4  \n",
       "4  Los Angeles Lakers  2000-10-31  LAL @ POR      POR        5  \n",
       "\n",
       "[5 rows x 25 columns]"
      ]
     },
     "execution_count": 4,
     "metadata": {},
     "output_type": "execute_result"
    }
   ],
   "source": [
    "kobe.head(5)"
   ]
  },
  {
   "cell_type": "code",
   "execution_count": 5,
   "id": "a9f9a280-493b-4e74-bee0-9393d22f2045",
   "metadata": {},
   "outputs": [
    {
     "data": {
      "text/plain": [
       "Index(['action_type', 'combined_shot_type', 'game_event_id', 'game_id', 'lat',\n",
       "       'loc_x', 'loc_y', 'lon', 'minutes_remaining', 'period', 'playoffs',\n",
       "       'season', 'seconds_remaining', 'shot_distance', 'shot_made_flag',\n",
       "       'shot_type', 'shot_zone_area', 'shot_zone_basic', 'shot_zone_range',\n",
       "       'team_id', 'team_name', 'game_date', 'matchup', 'opponent', 'shot_id'],\n",
       "      dtype='object')"
      ]
     },
     "execution_count": 5,
     "metadata": {},
     "output_type": "execute_result"
    }
   ],
   "source": [
    "kobe.columns"
   ]
  },
  {
   "cell_type": "code",
   "execution_count": 6,
   "id": "4ef2a1b2-6071-4d4b-93f8-2b5633bab735",
   "metadata": {},
   "outputs": [
    {
     "name": "stdout",
     "output_type": "stream",
     "text": [
      "<class 'pandas.core.frame.DataFrame'>\n",
      "RangeIndex: 30697 entries, 0 to 30696\n",
      "Data columns (total 25 columns):\n",
      " #   Column              Non-Null Count  Dtype  \n",
      "---  ------              --------------  -----  \n",
      " 0   action_type         30697 non-null  object \n",
      " 1   combined_shot_type  30697 non-null  object \n",
      " 2   game_event_id       30697 non-null  int64  \n",
      " 3   game_id             30697 non-null  int64  \n",
      " 4   lat                 30697 non-null  float64\n",
      " 5   loc_x               30697 non-null  int64  \n",
      " 6   loc_y               30697 non-null  int64  \n",
      " 7   lon                 30697 non-null  float64\n",
      " 8   minutes_remaining   30697 non-null  int64  \n",
      " 9   period              30697 non-null  int64  \n",
      " 10  playoffs            30697 non-null  int64  \n",
      " 11  season              30697 non-null  object \n",
      " 12  seconds_remaining   30697 non-null  int64  \n",
      " 13  shot_distance       30697 non-null  int64  \n",
      " 14  shot_made_flag      25697 non-null  float64\n",
      " 15  shot_type           30697 non-null  object \n",
      " 16  shot_zone_area      30697 non-null  object \n",
      " 17  shot_zone_basic     30697 non-null  object \n",
      " 18  shot_zone_range     30697 non-null  object \n",
      " 19  team_id             30697 non-null  int64  \n",
      " 20  team_name           30697 non-null  object \n",
      " 21  game_date           30697 non-null  object \n",
      " 22  matchup             30697 non-null  object \n",
      " 23  opponent            30697 non-null  object \n",
      " 24  shot_id             30697 non-null  int64  \n",
      "dtypes: float64(3), int64(11), object(11)\n",
      "memory usage: 5.9+ MB\n"
     ]
    }
   ],
   "source": [
    "kobe.info()"
   ]
  },
  {
   "cell_type": "code",
   "execution_count": null,
   "id": "348340ed-b8d6-46d8-9c58-a9ed4ec9bbaf",
   "metadata": {},
   "outputs": [],
   "source": []
  },
  {
   "cell_type": "code",
   "execution_count": 7,
   "id": "6215e820-12de-4595-ab78-a2c65f8a2ebd",
   "metadata": {},
   "outputs": [
    {
     "data": {
      "text/plain": [
       "5000"
      ]
     },
     "execution_count": 7,
     "metadata": {},
     "output_type": "execute_result"
    }
   ],
   "source": [
    "#how many kobe shots are null\n",
    "kobe['shot_made_flag'].isnull().sum()"
   ]
  },
  {
   "cell_type": "code",
   "execution_count": 8,
   "id": "e4c08b1e-3b48-493f-a731-57a217293e82",
   "metadata": {},
   "outputs": [],
   "source": [
    "#what percentage of kobe shots made are null"
   ]
  },
  {
   "cell_type": "code",
   "execution_count": 9,
   "id": "34831c50-c1b6-4932-b587-5776da800f56",
   "metadata": {},
   "outputs": [],
   "source": [
    "test = 5000/30697"
   ]
  },
  {
   "cell_type": "code",
   "execution_count": 10,
   "id": "2da057d2-5964-419d-82ed-3b8800929f11",
   "metadata": {},
   "outputs": [
    {
     "data": {
      "text/plain": [
       "0.1628823663550184"
      ]
     },
     "execution_count": 10,
     "metadata": {},
     "output_type": "execute_result"
    }
   ],
   "source": [
    "test"
   ]
  },
  {
   "cell_type": "code",
   "execution_count": 11,
   "id": "6006cb12-b701-4f33-8939-13a15adca92b",
   "metadata": {},
   "outputs": [
    {
     "ename": "NameError",
     "evalue": "name 'kobe_null' is not defined",
     "output_type": "error",
     "traceback": [
      "\u001b[1;31m---------------------------------------------------------------------------\u001b[0m",
      "\u001b[1;31mNameError\u001b[0m                                 Traceback (most recent call last)",
      "\u001b[1;32m<ipython-input-11-d2729d36eb67>\u001b[0m in \u001b[0;36m<module>\u001b[1;34m\u001b[0m\n\u001b[1;32m----> 1\u001b[1;33m \u001b[0mkobe\u001b[0m\u001b[1;33m[\u001b[0m\u001b[0mkobe_null\u001b[0m\u001b[1;33m]\u001b[0m\u001b[1;33m\u001b[0m\u001b[1;33m\u001b[0m\u001b[0m\n\u001b[0m",
      "\u001b[1;31mNameError\u001b[0m: name 'kobe_null' is not defined"
     ]
    }
   ],
   "source": [
    "kobe[kobe_null]"
   ]
  },
  {
   "cell_type": "code",
   "execution_count": null,
   "id": "c372b8da-9724-4da3-9057-f18f40b8455a",
   "metadata": {},
   "outputs": [],
   "source": [
    "kobe_10_31 = kobe['game_date'] == '2000-10-31'"
   ]
  },
  {
   "cell_type": "code",
   "execution_count": null,
   "id": "ab950e5b-140c-410b-888a-c9f3248fa56f",
   "metadata": {},
   "outputs": [],
   "source": [
    "kobe_test = kobe[kobe_10_31]"
   ]
  },
  {
   "cell_type": "code",
   "execution_count": null,
   "id": "b5ee7b40-86e1-4e80-b8a6-df618698add8",
   "metadata": {},
   "outputs": [],
   "source": [
    "kobe_test['shot_made_flag'].sum()"
   ]
  },
  {
   "cell_type": "code",
   "execution_count": null,
   "id": "8c2fbc61-7a89-4540-af0e-3968ab3d5c7f",
   "metadata": {},
   "outputs": [],
   "source": [
    "kobe_test['shot_made_flag'].head(20)"
   ]
  },
  {
   "cell_type": "code",
   "execution_count": null,
   "id": "4cb1514d-1d7e-44bc-b883-12ce6c5bf364",
   "metadata": {},
   "outputs": [],
   "source": [
    "kobe_06_19 = kobe['game_date'] == '2000-06-19'"
   ]
  },
  {
   "cell_type": "code",
   "execution_count": null,
   "id": "5130f23a-5295-41b0-b672-4d99bf2987ec",
   "metadata": {},
   "outputs": [],
   "source": [
    "kobe_test2 = kobe[kobe_06_19]"
   ]
  },
  {
   "cell_type": "code",
   "execution_count": null,
   "id": "e6b3f7e8-ca40-4fe5-ab9e-469c7011147a",
   "metadata": {},
   "outputs": [],
   "source": [
    "kobe_test2['shot_made_flag'].sum()"
   ]
  },
  {
   "cell_type": "code",
   "execution_count": null,
   "id": "818db2f2-bc89-4eb2-87fd-9e53319e9d5d",
   "metadata": {},
   "outputs": [],
   "source": [
    "kobe_test2['shot_made_flag'].head(20)"
   ]
  },
  {
   "cell_type": "code",
   "execution_count": null,
   "id": "f3dad8ab-73e1-4efa-9e25-0c671d8fb455",
   "metadata": {},
   "outputs": [],
   "source": [
    "kobe_test2['action_type'].value_counts()"
   ]
  },
  {
   "cell_type": "code",
   "execution_count": null,
   "id": "8cebbe0f-ec9f-474f-be9c-f908262c7d83",
   "metadata": {},
   "outputs": [],
   "source": [
    "kobe_test['action_type'].value_counts()"
   ]
  },
  {
   "cell_type": "code",
   "execution_count": null,
   "id": "3cb27b9e-6218-4d60-826f-340fc374904d",
   "metadata": {},
   "outputs": [],
   "source": [
    "kobe['shot_made_flag'].sum()"
   ]
  },
  {
   "cell_type": "code",
   "execution_count": 12,
   "id": "670cf575-80dc-4764-a6cb-d795a763098f",
   "metadata": {},
   "outputs": [],
   "source": [
    "kobe_null = kobe['shot_made_flag'].isnull()"
   ]
  },
  {
   "cell_type": "code",
   "execution_count": 13,
   "id": "649f41da-2718-4a0b-9240-abad909ceefd",
   "metadata": {},
   "outputs": [
    {
     "data": {
      "text/plain": [
       "5000"
      ]
     },
     "execution_count": 13,
     "metadata": {},
     "output_type": "execute_result"
    }
   ],
   "source": [
    "kobe_null.sum()"
   ]
  },
  {
   "cell_type": "code",
   "execution_count": 14,
   "id": "d57de557-59b4-492a-813c-f9690bd7ccc5",
   "metadata": {},
   "outputs": [],
   "source": [
    "kobe_is_null = kobe[kobe_null]"
   ]
  },
  {
   "cell_type": "markdown",
   "id": "0047d7aa-53b2-48bb-971b-037b0895a983",
   "metadata": {},
   "source": [
    "### what shots types are null?\n"
   ]
  },
  {
   "cell_type": "code",
   "execution_count": 15,
   "id": "b92d636c-4bdd-4c5d-9f7e-f41536dbe84d",
   "metadata": {},
   "outputs": [
    {
     "data": {
      "text/plain": [
       "Jump Shot                             3044\n",
       "Layup Shot                             413\n",
       "Driving Layup Shot                     350\n",
       "Fadeaway Jump Shot                     176\n",
       "Turnaround Jump Shot                   166\n",
       "Running Jump Shot                      147\n",
       "Slam Dunk Shot                          77\n",
       "Pullup Jump shot                        74\n",
       "Turnaround Fadeaway shot                73\n",
       "Reverse Layup Shot                      62\n",
       "Driving Dunk Shot                       53\n",
       "Dunk Shot                               45\n",
       "Jump Bank Shot                          44\n",
       "Tip Shot                                31\n",
       "Alley Oop Dunk Shot                     27\n",
       "Running Layup Shot                      21\n",
       "Floating Jump shot                      21\n",
       "Driving Reverse Layup Shot              14\n",
       "Driving Finger Roll Shot                14\n",
       "Reverse Dunk Shot                       14\n",
       "Alley Oop Layup shot                    13\n",
       "Turnaround Bank shot                    13\n",
       "Step Back Jump shot                     12\n",
       "Hook Shot                               11\n",
       "Driving Finger Roll Layup Shot          10\n",
       "Running Hook Shot                        8\n",
       "Putback Layup Shot                       6\n",
       "Turnaround Hook Shot                     6\n",
       "Follow Up Dunk Shot                      5\n",
       "Driving Jump shot                        5\n",
       "Finger Roll Layup Shot                   5\n",
       "Running Bank shot                        5\n",
       "Jump Hook Shot                           5\n",
       "Driving Slam Dunk Shot                   5\n",
       "Fadeaway Bank shot                       4\n",
       "Running Reverse Layup Shot               4\n",
       "Driving Bank shot                        2\n",
       "Putback Dunk Shot                        2\n",
       "Finger Roll Shot                         2\n",
       "Driving Floating Jump Shot               2\n",
       "Turnaround Fadeaway Bank Jump Shot       1\n",
       "Running Dunk Shot                        1\n",
       "Running Tip Shot                         1\n",
       "Running Pull-Up Jump Shot                1\n",
       "Cutting Finger Roll Layup Shot           1\n",
       "Reverse Slam Dunk Shot                   1\n",
       "Driving Hook Shot                        1\n",
       "Running Finger Roll Layup Shot           1\n",
       "Pullup Bank shot                         1\n",
       "Name: action_type, dtype: int64"
      ]
     },
     "execution_count": 15,
     "metadata": {},
     "output_type": "execute_result"
    }
   ],
   "source": [
    "kobe_is_null['action_type'].value_counts()"
   ]
  },
  {
   "cell_type": "code",
   "execution_count": null,
   "id": "e6f7b1c6-f7f3-4cf3-aa40-6b424bddb360",
   "metadata": {},
   "outputs": [],
   "source": [
    "#how many of kobe shots made that are unnaccounted fo?\n",
    "unaccounted_scored_shots = 11719-11465\n",
    "unaccounted_scored_shots"
   ]
  },
  {
   "cell_type": "code",
   "execution_count": null,
   "id": "d83c298b-aae1-4603-95d7-2fa12c925b4f",
   "metadata": {},
   "outputs": [],
   "source": [
    "#what percentage of kobe shots made that are unnaccounted for?\n",
    "254/30697"
   ]
  },
  {
   "cell_type": "markdown",
   "id": "59692c61-1a96-40c3-88bd-7801b51127f4",
   "metadata": {},
   "source": [
    "### shots made per year"
   ]
  },
  {
   "cell_type": "code",
   "execution_count": 16,
   "id": "0111efc7-4a1a-4db0-857d-0ff55b7d9cd4",
   "metadata": {},
   "outputs": [],
   "source": [
    "import matplotlib.pyplot as plt"
   ]
  },
  {
   "cell_type": "code",
   "execution_count": 17,
   "id": "1c1d4ffb-16c1-4efa-86ca-20ad798b4a6c",
   "metadata": {
    "tags": []
   },
   "outputs": [
    {
     "data": {
      "image/png": "[encoded data removed]",
      "text/plain": [
       "<Figure size 432x288 with 1 Axes>"
      ]
     },
     "metadata": {
      "needs_background": "light"
     },
     "output_type": "display_data"
    }
   ],
   "source": [
    "kobe_copy = kobe\n",
    "kobe_copy[\"game_date\"] = kobe_copy[\"game_date\"].astype(\"datetime64\")\n",
    "# kobe_copy.groupby(kobe_copy[\"game_date\"].dt.year).count().plot(kind=\"bar\")\n",
    "kobe_copy.groupby(kobe_copy[\"game_date\"].dt.year)['shot_made_flag'].count().plot(kind=\"bar\")\n",
    "\n",
    "#source code = https://stackoverflow.com/questions/27365467/can-pandas-plot-a-histogram-of-dates\n",
    "\n",
    "# depicting the visualization\n",
    "plt.xlabel('Year') \n",
    "plt.ylabel('Shots') \n",
    "  \n",
    "# displaying the title\n",
    "plt.title(\"Shots taken\")\n",
    "  \n",
    "plt.show() "
   ]
  },
  {
   "cell_type": "code",
   "execution_count": 18,
   "id": "80126a4a-e613-4c2d-a634-5abb7d329aae",
   "metadata": {
    "tags": []
   },
   "outputs": [
    {
     "data": {
      "image/png": "[encoded data removed]",
      "text/plain": [
       "<Figure size 432x288 with 1 Axes>"
      ]
     },
     "metadata": {
      "needs_background": "light"
     },
     "output_type": "display_data"
    }
   ],
   "source": [
    "kobe_copy = kobe\n",
    "kobe_copy[\"game_date\"] = kobe_copy[\"game_date\"].astype(\"datetime64\")\n",
    "# kobe_copy.groupby(kobe_copy[\"game_date\"].dt.year).count().plot(kind=\"bar\")\n",
    "kobe_copy.groupby(kobe_copy[\"game_date\"].dt.year)['shot_made_flag'].sum().plot(kind=\"bar\")\n",
    "\n",
    "#source code = https://stackoverflow.com/questions/27365467/can-pandas-plot-a-histogram-of-dates\n",
    "\n",
    "# depicting the visualization\n",
    "plt.xlabel('Year') \n",
    "plt.ylabel('Shots') \n",
    "  \n",
    "# displaying the title\n",
    "plt.title(\"Shots made\")\n",
    "  \n",
    "plt.show() "
   ]
  },
  {
   "cell_type": "markdown",
   "id": "186f5fb0-c3f2-4902-9c9b-4caa0d4b747f",
   "metadata": {},
   "source": [
    "### what year were the null shots?"
   ]
  },
  {
   "cell_type": "code",
   "execution_count": 19,
   "id": "80106205-564e-452e-a43b-29b671f0f6e8",
   "metadata": {},
   "outputs": [],
   "source": [
    "kobe_copy_null_shot = kobe_copy[kobe_copy['shot_made_flag'].isnull()]"
   ]
  },
  {
   "cell_type": "code",
   "execution_count": 20,
   "id": "544812d6-d810-4e45-8953-d2aba03c697b",
   "metadata": {},
   "outputs": [
    {
     "data": {
      "text/plain": [
       "0       NaN\n",
       "7       NaN\n",
       "16      NaN\n",
       "19      NaN\n",
       "32      NaN\n",
       "         ..\n",
       "30668   NaN\n",
       "30680   NaN\n",
       "30682   NaN\n",
       "30686   NaN\n",
       "30693   NaN\n",
       "Name: shot_made_flag, Length: 5000, dtype: float64"
      ]
     },
     "execution_count": 20,
     "metadata": {},
     "output_type": "execute_result"
    }
   ],
   "source": [
    "kobe_copy_null_shot['shot_made_flag']"
   ]
  },
  {
   "cell_type": "code",
   "execution_count": 21,
   "id": "5e0beca4-b8b3-4630-8971-46f3e3a86ddf",
   "metadata": {},
   "outputs": [
    {
     "data": {
      "image/png": "[encoded data removed]",
      "text/plain": [
       "<Figure size 432x288 with 1 Axes>"
      ]
     },
     "metadata": {
      "needs_background": "light"
     },
     "output_type": "display_data"
    }
   ],
   "source": [
    "kobe_copy_null_shot.groupby(kobe_copy_null_shot[\"game_date\"].dt.year)['shot_made_flag'].sum().plot(kind=\"bar\")\n",
    "\n",
    "#source code = https://stackoverflow.com/questions/27365467/can-pandas-plot-a-histogram-of-dates\n",
    "\n",
    "# depicting the visualization\n",
    "plt.xlabel('Year') \n",
    "plt.ylabel('Shots') \n",
    "  \n",
    "# displaying the title\n",
    "plt.title(\"Shots taken\")\n",
    "  \n",
    "plt.show() "
   ]
  },
  {
   "cell_type": "code",
   "execution_count": 22,
   "id": "67569bdd-424e-479c-a751-6698850058f3",
   "metadata": {},
   "outputs": [
    {
     "data": {
      "text/plain": [
       "5000    2003-04-15\n",
       "5001    2003-04-15\n",
       "5002    2003-04-15\n",
       "5003    2003-04-16\n",
       "5004    2003-04-16\n",
       "           ...    \n",
       "30692   2000-06-19\n",
       "30693   2000-06-19\n",
       "30694   2000-06-19\n",
       "30695   2000-06-19\n",
       "30696   2000-06-19\n",
       "Name: game_date, Length: 25697, dtype: datetime64[ns]"
      ]
     },
     "execution_count": 22,
     "metadata": {},
     "output_type": "execute_result"
    }
   ],
   "source": [
    "kobe_copy[\"game_date\"][5000:]"
   ]
  },
  {
   "cell_type": "code",
   "execution_count": null,
   "id": "2af475cd-f536-49b8-a3e7-8cd41a83e6fd",
   "metadata": {},
   "outputs": [],
   "source": []
  },
  {
   "cell_type": "code",
   "execution_count": null,
   "id": "5322a6ab-ed0f-4f44-993b-a98d09a3f4c8",
   "metadata": {},
   "outputs": [],
   "source": []
  }
 ],
 "metadata": {
  "kernelspec": {
   "display_name": "Python 3",
   "language": "python",
   "name": "python3"
  },
  "language_info": {
   "codemirror_mode": {
    "name": "ipython",
    "version": 3
   },
   "file_extension": ".py",
   "mimetype": "text/x-python",
   "name": "python",
   "nbconvert_exporter": "python",
   "pygments_lexer": "ipython3",
   "version": "3.8.8"
  }
 },
 "nbformat": 4,
 "nbformat_minor": 5
}
